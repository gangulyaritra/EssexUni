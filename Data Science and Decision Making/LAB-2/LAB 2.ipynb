{
  "nbformat": 4,
  "nbformat_minor": 0,
  "metadata": {
    "colab": {
      "name": "LAB 2.ipynb",
      "provenance": [],
      "collapsed_sections": []
    },
    "kernelspec": {
      "name": "python3",
      "display_name": "Python 3"
    }
  },
  "cells": [
    {
      "cell_type": "code",
      "metadata": {
        "id": "W4gSBVt0ZfI_"
      },
      "source": [
        "import pandas as pd\n",
        "import numpy as np\n",
        "import matplotlib.pyplot as plt\n",
        "import seaborn as sns"
      ],
      "execution_count": 1,
      "outputs": []
    },
    {
      "cell_type": "code",
      "metadata": {
        "id": "xV1oH21QZm8C"
      },
      "source": [
        "# Load the data.\n",
        "df = pd.read_csv(\"customers.csv\")\n",
        "data = df.values.T[1]"
      ],
      "execution_count": 2,
      "outputs": []
    },
    {
      "cell_type": "code",
      "metadata": {
        "id": "U7zBUSqGasZr"
      },
      "source": [
        "# Checking the notes from the lecture, create here your own bootstrap function:\n",
        "# 1. Create an array of samples of shape (n_iterations, sample_size).\n",
        "# 2. Calculate and save the mean of the array (this is \"data_mean\" that is returned by the function).\n",
        "# 3. In each iteration:\n",
        "#   3.1 Get the data corresponding to that iteration (new_samples[iteration, :]).\n",
        "#   3.2 Calculate the mean of the iteration data and store it.\n",
        "#   (At this point you should have an array of n_iterations values).\n",
        "# 4. Calculate the lower and upper bounds for a 95% CI (hint: check the percentile function on Numpy).\n",
        "# 5. Return data_mean, and the lower and upper bounds of your interval.\n",
        "def boostrap_mean(sample, sample_size, n_iterations):\n",
        "  array = np.random.choice(sample, size = (n_iterations, sample_size), replace = True)\n",
        "  data_mean = np.mean(array)\n",
        "  mean = []\n",
        "  for i in array:\n",
        "    mean.append(np.mean(i))\n",
        "  CI = 95\n",
        "  rem = (100 - CI) / 2\n",
        "  value = np.percentile(mean, q = [rem, CI + rem])\n",
        "  lower = value[0]\n",
        "  upper = value[1]\n",
        "  return data_mean, lower, upper"
      ],
      "execution_count": 3,
      "outputs": []
    },
    {
      "cell_type": "code",
      "metadata": {
        "id": "sRbWZS39eIhK",
        "colab": {
          "base_uri": "https://localhost:8080/",
          "height": 455
        },
        "outputId": "82ba3eb6-6720-4a15-8902-550fadeeafce"
      },
      "source": [
        "# Call your bootstrap function and plot the results.\n",
        "\n",
        "boots = []\n",
        "for i in range(100, 100000, 1000):\n",
        "    boot = boostrap_mean(data, data.shape[0], i)\n",
        "    boots.append([i, boot[0], \"mean\"])\n",
        "    boots.append([i, boot[1], \"lower\"])\n",
        "    boots.append([i, boot[2], \"upper\"])\n",
        "\n",
        "df_boot = pd.DataFrame(boots, columns = ['Boostrap Iterations', 'Mean', \"Value\"])\n",
        "sns_plot = sns.lmplot(df_boot.columns[0], df_boot.columns[1], data = df_boot, fit_reg = False, hue = \"Value\")\n",
        "\n",
        "sns_plot.axes[0, 0].set_ylim(0,)\n",
        "sns_plot.axes[0, 0].set_xlim(0, 100000)\n",
        "\n",
        "# sns_plot.savefig(\"bootstrap_confidence.png\", bbox_inches = 'tight')\n",
        "# sns_plot.savefig(\"bootstrap_confidence.pdf\", bbox_inches = 'tight')"
      ],
      "execution_count": 4,
      "outputs": [
        {
          "output_type": "stream",
          "text": [
            "/usr/local/lib/python3.7/dist-packages/seaborn/_decorators.py:43: FutureWarning: Pass the following variables as keyword args: x, y. From version 0.12, the only valid positional argument will be `data`, and passing other arguments without an explicit keyword will result in an error or misinterpretation.\n",
            "  FutureWarning\n"
          ],
          "name": "stderr"
        },
        {
          "output_type": "execute_result",
          "data": {
            "text/plain": [
              "(0.0, 100000.0)"
            ]
          },
          "metadata": {
            "tags": []
          },
          "execution_count": 4
        },
        {
          "output_type": "display_data",
          "data": {
            "image/png": "[encoded data removed]",
            "text/plain": [
              "<Figure size 425.125x360 with 1 Axes>"
            ]
          },
          "metadata": {
            "tags": [],
            "needs_background": "light"
          }
        }
      ]
    },
    {
      "cell_type": "markdown",
      "metadata": {
        "id": "p5t2fF_YgYJ8"
      },
      "source": [
        "Now, modify the bootstrap function so that you can pass your desired confidence interval as a parameter."
      ]
    },
    {
      "cell_type": "code",
      "metadata": {
        "id": "OpKA67c_ge9J"
      },
      "source": [
        "def boostrap_mean_ci(sample, sample_size, iterations, ci):\n",
        "  array = np.random.choice(sample, size = (iterations, sample_size), replace = True)\n",
        "  data_mean = np.mean(array)\n",
        "  mean = []\n",
        "  for i in array:\n",
        "    mean.append(np.mean(i))\n",
        "  CI = ci\n",
        "  rem = (100 - CI) / 2\n",
        "  value = np.percentile(mean, q = [rem, CI + rem])\n",
        "  lower = value[0]\n",
        "  upper = value[1]\n",
        "  return data_mean, lower, upper"
      ],
      "execution_count": 5,
      "outputs": []
    },
    {
      "cell_type": "code",
      "metadata": {
        "id": "6VjG6mQzg7UX",
        "colab": {
          "base_uri": "https://localhost:8080/",
          "height": 455
        },
        "outputId": "53fe58f9-93e7-459a-ef3e-646f14b68d49"
      },
      "source": [
        "boots = []\n",
        "for i in range(100, 100000, 1000):\n",
        "    boot = boostrap_mean_ci(data, data.shape[0], i, 80)\n",
        "    boots.append([i, boot[0], \"mean\"])\n",
        "    boots.append([i, boot[1], \"lower\"])\n",
        "    boots.append([i, boot[2], \"upper\"])\n",
        "\n",
        "df_boot = pd.DataFrame(boots, columns = ['Boostrap Iterations', 'Mean', \"Value\"])\n",
        "sns_plot = sns.lmplot(df_boot.columns[0], df_boot.columns[1], data = df_boot, fit_reg = False, hue = \"Value\")\n",
        "\n",
        "sns_plot.axes[0, 0].set_ylim(0,)\n",
        "sns_plot.axes[0, 0].set_xlim(0, 100000)\n",
        "\n",
        "# sns_plot.savefig(\"bootstrap_confidence_80.png\", bbox_inches = 'tight')\n",
        "# sns_plot.savefig(\"bootstrap_confidence_80.pdf\", bbox_inches = 'tight')"
      ],
      "execution_count": 6,
      "outputs": [
        {
          "output_type": "stream",
          "text": [
            "/usr/local/lib/python3.7/dist-packages/seaborn/_decorators.py:43: FutureWarning: Pass the following variables as keyword args: x, y. From version 0.12, the only valid positional argument will be `data`, and passing other arguments without an explicit keyword will result in an error or misinterpretation.\n",
            "  FutureWarning\n"
          ],
          "name": "stderr"
        },
        {
          "output_type": "execute_result",
          "data": {
            "text/plain": [
              "(0.0, 100000.0)"
            ]
          },
          "metadata": {
            "tags": []
          },
          "execution_count": 6
        },
        {
          "output_type": "display_data",
          "data": {
            "image/png": "[encoded data removed]",
            "text/plain": [
              "<Figure size 425.125x360 with 1 Axes>"
            ]
          },
          "metadata": {
            "tags": [],
            "needs_background": "light"
          }
        }
      ]
    },
    {
      "cell_type": "markdown",
      "metadata": {
        "id": "FXp--mQ4jN-e"
      },
      "source": [
        "**Vehicles Dataset**"
      ]
    },
    {
      "cell_type": "markdown",
      "metadata": {
        "id": "tcHSTZdPjdim"
      },
      "source": [
        "Now let's work on a different dataset. Load the vehicles.csv file and check the Moodle page for instructions on how to proceed."
      ]
    },
    {
      "cell_type": "markdown",
      "metadata": {
        "id": "AFebx36yy_dR"
      },
      "source": [
        "A business is looking at changing their current vehicle fleet and replacing their vehicles with ones used by their competitors. They have captured the MPG of some of the cars in both fleets."
      ]
    },
    {
      "cell_type": "code",
      "metadata": {
        "id": "Bq0SiycBjgX3",
        "colab": {
          "base_uri": "https://localhost:8080/",
          "height": 415
        },
        "outputId": "4c0c87c0-5eb5-4771-f478-ef63b3ecca7c"
      },
      "source": [
        "# Read the data for the vehicles from vehicles.csv\n",
        "data = pd.read_csv(\"vehicles.csv\")\n",
        "data"
      ],
      "execution_count": 7,
      "outputs": [
        {
          "output_type": "execute_result",
          "data": {
            "text/html": [
              "<div>\n",
              "<style scoped>\n",
              "    .dataframe tbody tr th:only-of-type {\n",
              "        vertical-align: middle;\n",
              "    }\n",
              "\n",
              "    .dataframe tbody tr th {\n",
              "        vertical-align: top;\n",
              "    }\n",
              "\n",
              "    .dataframe thead th {\n",
              "        text-align: right;\n",
              "    }\n",
              "</style>\n",
              "<table border=\"1\" class=\"dataframe\">\n",
              "  <thead>\n",
              "    <tr style=\"text-align: right;\">\n",
              "      <th></th>\n",
              "      <th>Current fleet</th>\n",
              "      <th>New Fleet</th>\n",
              "    </tr>\n",
              "  </thead>\n",
              "  <tbody>\n",
              "    <tr>\n",
              "      <th>0</th>\n",
              "      <td>18</td>\n",
              "      <td>24.0</td>\n",
              "    </tr>\n",
              "    <tr>\n",
              "      <th>1</th>\n",
              "      <td>15</td>\n",
              "      <td>27.0</td>\n",
              "    </tr>\n",
              "    <tr>\n",
              "      <th>2</th>\n",
              "      <td>18</td>\n",
              "      <td>27.0</td>\n",
              "    </tr>\n",
              "    <tr>\n",
              "      <th>3</th>\n",
              "      <td>16</td>\n",
              "      <td>25.0</td>\n",
              "    </tr>\n",
              "    <tr>\n",
              "      <th>4</th>\n",
              "      <td>17</td>\n",
              "      <td>31.0</td>\n",
              "    </tr>\n",
              "    <tr>\n",
              "      <th>...</th>\n",
              "      <td>...</td>\n",
              "      <td>...</td>\n",
              "    </tr>\n",
              "    <tr>\n",
              "      <th>244</th>\n",
              "      <td>27</td>\n",
              "      <td>NaN</td>\n",
              "    </tr>\n",
              "    <tr>\n",
              "      <th>245</th>\n",
              "      <td>27</td>\n",
              "      <td>NaN</td>\n",
              "    </tr>\n",
              "    <tr>\n",
              "      <th>246</th>\n",
              "      <td>32</td>\n",
              "      <td>NaN</td>\n",
              "    </tr>\n",
              "    <tr>\n",
              "      <th>247</th>\n",
              "      <td>28</td>\n",
              "      <td>NaN</td>\n",
              "    </tr>\n",
              "    <tr>\n",
              "      <th>248</th>\n",
              "      <td>31</td>\n",
              "      <td>NaN</td>\n",
              "    </tr>\n",
              "  </tbody>\n",
              "</table>\n",
              "<p>249 rows × 2 columns</p>\n",
              "</div>"
            ],
            "text/plain": [
              "     Current fleet  New Fleet\n",
              "0               18       24.0\n",
              "1               15       27.0\n",
              "2               18       27.0\n",
              "3               16       25.0\n",
              "4               17       31.0\n",
              "..             ...        ...\n",
              "244             27        NaN\n",
              "245             27        NaN\n",
              "246             32        NaN\n",
              "247             28        NaN\n",
              "248             31        NaN\n",
              "\n",
              "[249 rows x 2 columns]"
            ]
          },
          "metadata": {
            "tags": []
          },
          "execution_count": 7
        }
      ]
    },
    {
      "cell_type": "markdown",
      "metadata": {
        "id": "9h8vJtU0zTzF"
      },
      "source": [
        "Create histograms and scatterplots for the current fleet and the proposed fleet."
      ]
    },
    {
      "cell_type": "code",
      "metadata": {
        "id": "1suDs8F4sXJm",
        "colab": {
          "base_uri": "https://localhost:8080/",
          "height": 333
        },
        "outputId": "4f8c0955-f4db-472c-81ae-d68b5278d0a0"
      },
      "source": [
        "pd.DataFrame.hist(data)"
      ],
      "execution_count": 8,
      "outputs": [
        {
          "output_type": "execute_result",
          "data": {
            "text/plain": [
              "array([[<matplotlib.axes._subplots.AxesSubplot object at 0x7fb6e78ce310>,\n",
              "        <matplotlib.axes._subplots.AxesSubplot object at 0x7fb6e7868910>]],\n",
              "      dtype=object)"
            ]
          },
          "metadata": {
            "tags": []
          },
          "execution_count": 8
        },
        {
          "output_type": "display_data",
          "data": {
            "image/png": "[encoded data removed]",
            "text/plain": [
              "<Figure size 432x288 with 2 Axes>"
            ]
          },
          "metadata": {
            "tags": [],
            "needs_background": "light"
          }
        }
      ]
    },
    {
      "cell_type": "code",
      "metadata": {
        "id": "EH0AxYO-sfuj",
        "colab": {
          "base_uri": "https://localhost:8080/",
          "height": 283
        },
        "outputId": "a14c1d89-a3ff-456c-94f1-14f554f5fa9f"
      },
      "source": [
        "num = len(data['Current fleet'])\n",
        "x = np.arange(0, num, 1)\n",
        "y = data.iloc[:, 0]\n",
        "plt.scatter(x, y)"
      ],
      "execution_count": 9,
      "outputs": [
        {
          "output_type": "execute_result",
          "data": {
            "text/plain": [
              "<matplotlib.collections.PathCollection at 0x7fb6df33bc10>"
            ]
          },
          "metadata": {
            "tags": []
          },
          "execution_count": 9
        },
        {
          "output_type": "display_data",
          "data": {
            "image/png": "[encoded data removed]",
            "text/plain": [
              "<Figure size 432x288 with 1 Axes>"
            ]
          },
          "metadata": {
            "tags": [],
            "needs_background": "light"
          }
        }
      ]
    },
    {
      "cell_type": "code",
      "metadata": {
        "id": "qyMNxGSWsxYM",
        "colab": {
          "base_uri": "https://localhost:8080/",
          "height": 283
        },
        "outputId": "b056553d-f0b6-4283-e9dd-92721574a3e0"
      },
      "source": [
        "num = len(data['New Fleet'])\n",
        "x = np.arange(0, num, 1)\n",
        "y = data.iloc[:, 1]\n",
        "plt.scatter(x, y)"
      ],
      "execution_count": 10,
      "outputs": [
        {
          "output_type": "execute_result",
          "data": {
            "text/plain": [
              "<matplotlib.collections.PathCollection at 0x7fb6e79a7410>"
            ]
          },
          "metadata": {
            "tags": []
          },
          "execution_count": 10
        },
        {
          "output_type": "display_data",
          "data": {
            "image/png": "[encoded data removed]",
            "text/plain": [
              "<Figure size 432x288 with 1 Axes>"
            ]
          },
          "metadata": {
            "tags": [],
            "needs_background": "light"
          }
        }
      ]
    },
    {
      "cell_type": "markdown",
      "metadata": {
        "id": "Lfzal95ftFvH"
      },
      "source": [
        "**Bootstrap on Vehicles**"
      ]
    },
    {
      "cell_type": "markdown",
      "metadata": {
        "id": "NPDyqwlazs0k"
      },
      "source": [
        "The business analysts come up a comparison algorithm that requires the upper and lower bounds for the mean in order to say which fleet is better.\n",
        "\n",
        "1.   Calculate the mean of both samples.\n",
        "2.   Using the bootstrap function.\n",
        "\n",
        "*   Find the upper and lower bound of the mean of the current fleet.\n",
        "*   Do the same with the new fleet.\n",
        "*   Are they comparable? (i.e., is one better than the other?) -- it can be done with a permutation test.\n"
      ]
    },
    {
      "cell_type": "code",
      "metadata": {
        "id": "1rw7vEt0tIjv"
      },
      "source": [
        "current = data['Current fleet']\n",
        "proposed = data['New Fleet'].dropna()"
      ],
      "execution_count": 11,
      "outputs": []
    },
    {
      "cell_type": "code",
      "metadata": {
        "id": "DML2X6WEth1w"
      },
      "source": [
        "def permutation(current, proposed, iteration):\n",
        "  main_value = np.subtract(np.mean(proposed), np.mean(current))\n",
        "  concat = np.concatenate((current, proposed))\n",
        "  count = 0\n",
        "\n",
        "  for i in range(iteration):\n",
        "    permute = np.random.permutation(concat)\n",
        "    p_current = permute[:len(current)]\n",
        "    p_proposed = permute[len(current):]\n",
        "\n",
        "    new_value = np.subtract(np.mean(p_proposed), np.mean(p_current))\n",
        "    \n",
        "    if(new_value > main_value):\n",
        "      count += 1\n",
        "\n",
        "  p_value = count / iteration\n",
        "  \n",
        "  return p_value"
      ],
      "execution_count": 12,
      "outputs": []
    },
    {
      "cell_type": "code",
      "metadata": {
        "id": "cIdQ7pbktk_A",
        "colab": {
          "base_uri": "https://localhost:8080/"
        },
        "outputId": "f7e5aaca-3a37-42ce-9392-967d9fbbc00b"
      },
      "source": [
        "old = np.array([0, 1, 0, 1, 0, 1, 1, 0, 1, 0, 1])\n",
        "new = np.array([0, 1, 1, 0, 1, 0, 0, 1, 0, 1, 0, 0, 1, 0, 0, 1, 0, 0, 1])\n",
        "permutation(old, new, 30000)"
      ],
      "execution_count": 13,
      "outputs": [
        {
          "output_type": "execute_result",
          "data": {
            "text/plain": [
              "0.6063333333333333"
            ]
          },
          "metadata": {
            "tags": []
          },
          "execution_count": 13
        }
      ]
    },
    {
      "cell_type": "code",
      "metadata": {
        "id": "8zqEcwk0tnYh",
        "colab": {
          "base_uri": "https://localhost:8080/"
        },
        "outputId": "a557db5d-5c6a-4c31-8032-b8dc9848d22d"
      },
      "source": [
        "permutation(current, proposed, 30000)"
      ],
      "execution_count": 14,
      "outputs": [
        {
          "output_type": "execute_result",
          "data": {
            "text/plain": [
              "0.0"
            ]
          },
          "metadata": {
            "tags": []
          },
          "execution_count": 14
        }
      ]
    }
  ]
}