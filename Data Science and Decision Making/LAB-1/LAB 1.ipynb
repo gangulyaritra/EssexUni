{
  "nbformat": 4,
  "nbformat_minor": 0,
  "metadata": {
    "colab": {
      "name": "LAB 1.ipynb",
      "provenance": [],
      "collapsed_sections": []
    },
    "kernelspec": {
      "name": "python3",
      "display_name": "Python 3"
    }
  },
  "cells": [
    {
      "cell_type": "markdown",
      "metadata": {
        "id": "u9rBYuqkfFZi"
      },
      "source": [
        "## Introduction to Numerical Computing with Numpy and Matplotlib\n",
        "\n",
        "### What is Matplotlib ?\n",
        "\n",
        "Matplotlib is a Python 2D plotting library which produces publication quality figures in a variety of hardcopy formats and interactive environments across platforms. Matplotlib can be used in Python scripts, the Python and IPython shells, the Jupyter notebook, web application servers, and four graphical user interface toolkits. Matplotlib tries to make easy things easy and hard things possible. You can generate plots, histograms, power spectra, bar charts, errorcharts, scatterplots, etc., with just a few lines of code.\n",
        "![Ref: Javatpoint ](https://static.javatpoint.com/tutorial/matplotlib/images/matplotlib-data-visualization2.png)\n",
        "For more infomration: [Matplotlib Webpage](https://matplotlib.org/)\n",
        "\n",
        "#### Malplotlib Object Model\n",
        "\n",
        "![alt text](https://matplotlib.org/_images/anatomy1.png)"
      ]
    },
    {
      "cell_type": "markdown",
      "metadata": {
        "id": "Q2EQMEEphhQv"
      },
      "source": [
        "#### Matplotlib State's Machine\n",
        "Matplotlib behaves like a state machine. Any command is applied to the current plotting area. "
      ]
    },
    {
      "cell_type": "code",
      "metadata": {
        "id": "OECaZLqAe07m"
      },
      "source": [
        "import matplotlib.pyplot as plt\n",
        "import numpy as np\n",
        "\n",
        "t = np.linspace(0, 2*np.pi, 50)\n",
        "x = np.sin(t)\n",
        "y = np.cos(t)"
      ],
      "execution_count": 1,
      "outputs": []
    },
    {
      "cell_type": "code",
      "metadata": {
        "id": "eo8NGcByiCrg",
        "colab": {
          "base_uri": "https://localhost:8080/",
          "height": 283
        },
        "outputId": "6ee53d42-f4fc-47a3-fe49-71ac1f6acb32"
      },
      "source": [
        "# Now create a figure\n",
        "plt.figure()\n",
        "# and plot x inside it\n",
        "plt.plot(x)"
      ],
      "execution_count": 2,
      "outputs": [
        {
          "output_type": "execute_result",
          "data": {
            "text/plain": [
              "[<matplotlib.lines.Line2D at 0x7f4a20aa6090>]"
            ]
          },
          "metadata": {
            "tags": []
          },
          "execution_count": 2
        },
        {
          "output_type": "display_data",
          "data": {
            "image/png": "[encoded data removed]",
            "text/plain": [
              "<Figure size 432x288 with 1 Axes>"
            ]
          },
          "metadata": {
            "tags": [],
            "needs_background": "light"
          }
        }
      ]
    },
    {
      "cell_type": "code",
      "metadata": {
        "id": "_zB4dMJLiNaw",
        "colab": {
          "base_uri": "https://localhost:8080/",
          "height": 299
        },
        "outputId": "4225fbd2-bb51-4d3c-db33-6e206f295539"
      },
      "source": [
        "# Now create a new figure\n",
        "plt.figure()\n",
        "# and plot y inside it...\n",
        "plt.plot(y)\n",
        "# Add a title\n",
        "plt.title(\"Cosine\")"
      ],
      "execution_count": 3,
      "outputs": [
        {
          "output_type": "execute_result",
          "data": {
            "text/plain": [
              "Text(0.5, 1.0, 'Cosine')"
            ]
          },
          "metadata": {
            "tags": []
          },
          "execution_count": 3
        },
        {
          "output_type": "display_data",
          "data": {
            "image/png": "[encoded data removed]",
            "text/plain": [
              "<Figure size 432x288 with 1 Axes>"
            ]
          },
          "metadata": {
            "tags": [],
            "needs_background": "light"
          }
        }
      ]
    },
    {
      "cell_type": "markdown",
      "metadata": {
        "id": "EIqiAerCilvv"
      },
      "source": [
        "### Line Plot"
      ]
    },
    {
      "cell_type": "code",
      "metadata": {
        "id": "Ufz8Q830ijqy",
        "colab": {
          "base_uri": "https://localhost:8080/",
          "height": 283
        },
        "outputId": "3fe15613-1ba1-47ec-ca8f-03d83a4c8003"
      },
      "source": [
        "x = np.linspace(0, 2*np.pi, 50)\n",
        "y1 = np.sin(x)\n",
        "y2 = np.sin(2*x)\n",
        "plt.figure() # Create figure\n",
        "plt.plot(y1)\n",
        "plt.plot(x, y1)\n",
        "\n",
        "# red dot-dash circle\n",
        "plt.plot(x, y1, 'r')\n",
        "\n",
        "# red marker only circle\n",
        "plt.plot(x, y1, 'r-o')\n",
        "\n",
        "# clear figure then plot 2 curves\n",
        "plt.clf()\n",
        "plt.plot(x, y1, 'g-o', x, y2, 'b-+')\n",
        "plt.legend(['sin(x)','sin(2x)'])"
      ],
      "execution_count": 4,
      "outputs": [
        {
          "output_type": "execute_result",
          "data": {
            "text/plain": [
              "<matplotlib.legend.Legend at 0x7f4a20538f50>"
            ]
          },
          "metadata": {
            "tags": []
          },
          "execution_count": 4
        },
        {
          "output_type": "display_data",
          "data": {
            "image/png": "[encoded data removed]",
            "text/plain": [
              "<Figure size 432x288 with 1 Axes>"
            ]
          },
          "metadata": {
            "tags": [],
            "needs_background": "light"
          }
        }
      ]
    },
    {
      "cell_type": "markdown",
      "metadata": {
        "id": "tEqnyiLnj-oX"
      },
      "source": [
        "### Scatter Plot \n"
      ]
    },
    {
      "cell_type": "code",
      "metadata": {
        "id": "E4545t4pj8mo",
        "colab": {
          "base_uri": "https://localhost:8080/",
          "height": 299
        },
        "outputId": "abd9488e-dc86-4d5b-9575-eb6253efc8a6"
      },
      "source": [
        "N = 50 # no. of points\n",
        "x = np.linspace(0, 10, N)\n",
        "# print(x)\n",
        "from numpy.random import rand\n",
        "e = rand(N)*5.0 # noise\n",
        "y1 = x + e\n",
        "areas = rand(N)*300\n",
        "plt.scatter(x, y1, s = areas)\n",
        "colors = rand(N)\n",
        "plt.scatter(x, y1, s = areas, c = colors)\n",
        "plt.colorbar()\n",
        "plt.title(\"Random Scatter\")"
      ],
      "execution_count": 5,
      "outputs": [
        {
          "output_type": "execute_result",
          "data": {
            "text/plain": [
              "Text(0.5, 1.0, 'Random Scatter')"
            ]
          },
          "metadata": {
            "tags": []
          },
          "execution_count": 5
        },
        {
          "output_type": "display_data",
          "data": {
            "image/png": "[encoded data removed]",
            "text/plain": [
              "<Figure size 432x288 with 2 Axes>"
            ]
          },
          "metadata": {
            "tags": [],
            "needs_background": "light"
          }
        }
      ]
    },
    {
      "cell_type": "markdown",
      "metadata": {
        "id": "eYKeyHYglP_r"
      },
      "source": [
        "### Image Plot: Correlation Plot"
      ]
    },
    {
      "cell_type": "code",
      "metadata": {
        "id": "7mhFfKMOlYb0",
        "colab": {
          "base_uri": "https://localhost:8080/",
          "height": 356
        },
        "outputId": "6b92062c-d00f-4569-8a00-54acb9f7a45a"
      },
      "source": [
        "# Create some data\n",
        "e1 = rand(100)\n",
        "e2 = rand(100)*2\n",
        "e3 = rand(100)*50\n",
        "e4 = rand(100)*100\n",
        "corrmatrix = np.corrcoef([e1, e2, e3, e4])\n",
        "print(corrmatrix)\n",
        "# Plot Corr Matrix as image\n",
        "plt.imshow(corrmatrix, cmap = 'GnBu')\n",
        "plt.colorbar()"
      ],
      "execution_count": 6,
      "outputs": [
        {
          "output_type": "stream",
          "text": [
            "[[ 1.         -0.00278008 -0.02525313  0.25056253]\n",
            " [-0.00278008  1.         -0.11774308 -0.11653703]\n",
            " [-0.02525313 -0.11774308  1.          0.00480135]\n",
            " [ 0.25056253 -0.11653703  0.00480135  1.        ]]\n"
          ],
          "name": "stdout"
        },
        {
          "output_type": "execute_result",
          "data": {
            "text/plain": [
              "<matplotlib.colorbar.Colorbar at 0x7f4a1832c750>"
            ]
          },
          "metadata": {
            "tags": []
          },
          "execution_count": 6
        },
        {
          "output_type": "display_data",
          "data": {
            "image/png": "[encoded data removed]",
            "text/plain": [
              "<Figure size 432x288 with 2 Axes>"
            ]
          },
          "metadata": {
            "tags": [],
            "needs_background": "light"
          }
        }
      ]
    },
    {
      "cell_type": "markdown",
      "metadata": {
        "id": "dRmo6yZWmkt_"
      },
      "source": [
        "### Multiple Plots using Subplot"
      ]
    },
    {
      "cell_type": "code",
      "metadata": {
        "id": "Ahcz1LKUmvPr",
        "colab": {
          "base_uri": "https://localhost:8080/",
          "height": 283
        },
        "outputId": "030ceb8b-b366-4da2-ca6f-8906cc9bac03"
      },
      "source": [
        "t = np.linspace(0, 2*np.pi)\n",
        "x = np.sin(t)\n",
        "y = np.cos(t)\n",
        "# To divide the plotting area\n",
        "plt.subplot(2, 1, 1)\n",
        "plt.plot(x)\n",
        "# Now activate a new plot area.\n",
        "plt.subplot(2, 1, 2)\n",
        "plt.plot(y)"
      ],
      "execution_count": 7,
      "outputs": [
        {
          "output_type": "execute_result",
          "data": {
            "text/plain": [
              "[<matplotlib.lines.Line2D at 0x7f4a18272dd0>]"
            ]
          },
          "metadata": {
            "tags": []
          },
          "execution_count": 7
        },
        {
          "output_type": "display_data",
          "data": {
            "image/png": "[encoded data removed]",
            "text/plain": [
              "<Figure size 432x288 with 2 Axes>"
            ]
          },
          "metadata": {
            "tags": [],
            "needs_background": "light"
          }
        }
      ]
    },
    {
      "cell_type": "markdown",
      "metadata": {
        "id": "36ev2RH0nMe2"
      },
      "source": [
        "### Histogram Plot"
      ]
    },
    {
      "cell_type": "code",
      "metadata": {
        "id": "lWJfHc4hnK9r",
        "colab": {
          "base_uri": "https://localhost:8080/",
          "height": 352
        },
        "outputId": "c28256be-0a1c-4f4e-e710-6a5b150adb28"
      },
      "source": [
        "# Create array of data\n",
        "from numpy.random import randint\n",
        "data = randint(10000, size = (10,1000))\n",
        "# Approx Norm Distribution\n",
        "x = np.sum(data, axis = 0)\n",
        "# Set up for stacked plots\n",
        "plt.subplot(2, 1, 1)\n",
        "plt.hist(x, color = 'r')\n",
        "# Plot Cumulative Distance\n",
        "plt.subplot(2, 1, 2)\n",
        "plt.hist(x, cumulative = True)"
      ],
      "execution_count": 8,
      "outputs": [
        {
          "output_type": "execute_result",
          "data": {
            "text/plain": [
              "(array([  11.,   54.,  154.,  310.,  508.,  728.,  869.,  954.,  992.,\n",
              "        1000.]),\n",
              " array([25259. , 30271.2, 35283.4, 40295.6, 45307.8, 50320. , 55332.2,\n",
              "        60344.4, 65356.6, 70368.8, 75381. ]),\n",
              " <a list of 10 Patch objects>)"
            ]
          },
          "metadata": {
            "tags": []
          },
          "execution_count": 8
        },
        {
          "output_type": "display_data",
          "data": {
            "image/png": "[encoded data removed]",
            "text/plain": [
              "<Figure size 432x288 with 2 Axes>"
            ]
          },
          "metadata": {
            "tags": [],
            "needs_background": "light"
          }
        }
      ]
    },
    {
      "cell_type": "markdown",
      "metadata": {
        "id": "He7rHWDrn3GO"
      },
      "source": [
        "### Legend, Title, and Label Axis"
      ]
    },
    {
      "cell_type": "code",
      "metadata": {
        "id": "Nnn50-1Ln9ef",
        "colab": {
          "base_uri": "https://localhost:8080/",
          "height": 283
        },
        "outputId": "3dd4c2d1-e065-4c5b-ce32-7e0b05dbc99d"
      },
      "source": [
        "# Add labels in plot command.\n",
        "plt.plot(np.sin(t), label = 'sine')\n",
        "plt.plot(np.cos(t), label = 'cosine')\n",
        "plt.legend()"
      ],
      "execution_count": 9,
      "outputs": [
        {
          "output_type": "execute_result",
          "data": {
            "text/plain": [
              "<matplotlib.legend.Legend at 0x7f4a181631d0>"
            ]
          },
          "metadata": {
            "tags": []
          },
          "execution_count": 9
        },
        {
          "output_type": "display_data",
          "data": {
            "image/png": "[encoded data removed]",
            "text/plain": [
              "<Figure size 432x288 with 1 Axes>"
            ]
          },
          "metadata": {
            "tags": [],
            "needs_background": "light"
          }
        }
      ]
    },
    {
      "cell_type": "code",
      "metadata": {
        "id": "o2QXAZ4zoI9p",
        "colab": {
          "base_uri": "https://localhost:8080/",
          "height": 313
        },
        "outputId": "9ed7e017-0ada-4c59-f7a2-23e3a443ca78"
      },
      "source": [
        "plt.plot(t, np.sin(t))\n",
        "plt.xlabel('radians')\n",
        "# Keywords set text properties.\n",
        "plt.ylabel('amplitude',fontsize = 'large')\n",
        "plt.title('Sin(x)')"
      ],
      "execution_count": 10,
      "outputs": [
        {
          "output_type": "execute_result",
          "data": {
            "text/plain": [
              "Text(0.5, 1.0, 'Sin(x)')"
            ]
          },
          "metadata": {
            "tags": []
          },
          "execution_count": 10
        },
        {
          "output_type": "display_data",
          "data": {
            "image/png": "[encoded data removed]",
            "text/plain": [
              "<Figure size 432x288 with 1 Axes>"
            ]
          },
          "metadata": {
            "tags": [],
            "needs_background": "light"
          }
        }
      ]
    },
    {
      "cell_type": "markdown",
      "metadata": {
        "id": "yRdzCbrVojNI"
      },
      "source": [
        "#### Other Visualization Libraries: \n",
        "\n",
        "**Seaborn**:  Better looking, high-level, plot-based on matplotlib [Seaborn](https://seaborn.pydata.org/)\n",
        "\n",
        "**Bokeh**: D3 like visulization in web browser [Bokeh](https://github.com/bokeh/bokeh)\n"
      ]
    },
    {
      "cell_type": "markdown",
      "metadata": {
        "id": "DZz7nrjeqBVb"
      },
      "source": [
        "## NumPy Array\n",
        "\n",
        "Numpy is the core library for scientific computing in Python. It provides a high-performance multidimensional array object, and tools for working with these arrays. A numpy array is a grid of values, all of the same type, and is indexed by a tuple of nonnegative integers. The number of dimensions is the rank of the array; the shape of an array is a tuple of integers giving the size of the array along each dimension.\n",
        "\n",
        "The Python core library provided Lists. A list is the Python equivalent of an array, but is resizeable and can contain elements of different types.\n",
        "\n",
        "**Why NumPy Array ?**\n",
        "\n",
        "Size - Numpy data structures take up less space\n",
        "Performance - they have a need for speed and are faster than lists\n",
        "Functionality - SciPy and NumPy have optimized functions such as linear algebra operations built in.\n",
        "\n",
        "**For More Information:** [Numpy Webpage](https://numpy.org/)\n",
        "\n",
        "#### Introducing NumPy Array\n",
        "\n",
        "\n"
      ]
    },
    {
      "cell_type": "code",
      "metadata": {
        "id": "APvlYZXzwdbC",
        "colab": {
          "base_uri": "https://localhost:8080/"
        },
        "outputId": "1fcc1c28-b511-4daf-bfc5-9027171f828e"
      },
      "source": [
        "import numpy as np\n",
        "\n",
        "# Simple array creation\n",
        "a = np.array([0, 1, 2, 3, 4, 5])\n",
        "print(a)"
      ],
      "execution_count": 11,
      "outputs": [
        {
          "output_type": "stream",
          "text": [
            "[0 1 2 3 4 5]\n"
          ],
          "name": "stdout"
        }
      ]
    },
    {
      "cell_type": "code",
      "metadata": {
        "id": "nNo9IyREwnDR",
        "colab": {
          "base_uri": "https://localhost:8080/"
        },
        "outputId": "02b73c99-2c93-4da5-b4fb-e30ca46c11b9"
      },
      "source": [
        "# Checking the type and type of elements\n",
        "print(type(a))\n",
        "print(a.dtype)"
      ],
      "execution_count": 12,
      "outputs": [
        {
          "output_type": "stream",
          "text": [
            "<class 'numpy.ndarray'>\n",
            "int64\n"
          ],
          "name": "stdout"
        }
      ]
    },
    {
      "cell_type": "code",
      "metadata": {
        "id": "V_uPUZC-xArO",
        "colab": {
          "base_uri": "https://localhost:8080/"
        },
        "outputId": "e40b7910-39be-476f-f7d6-f3a60532eb89"
      },
      "source": [
        "# Check dimensions and shape\n",
        "print(a.ndim)\n",
        "print(a.shape)"
      ],
      "execution_count": 13,
      "outputs": [
        {
          "output_type": "stream",
          "text": [
            "1\n",
            "(6,)\n"
          ],
          "name": "stdout"
        }
      ]
    },
    {
      "cell_type": "code",
      "metadata": {
        "id": "glOQteJPxL1q",
        "colab": {
          "base_uri": "https://localhost:8080/"
        },
        "outputId": "4c7e6616-99dd-4112-815f-3538e65248a3"
      },
      "source": [
        "# Check Bytes per element and Bytes of memory use\n",
        "print(a.itemsize)\n",
        "print(a.nbytes)"
      ],
      "execution_count": 14,
      "outputs": [
        {
          "output_type": "stream",
          "text": [
            "8\n",
            "48\n"
          ],
          "name": "stdout"
        }
      ]
    },
    {
      "cell_type": "markdown",
      "metadata": {
        "id": "O7xzeIWdxy-9"
      },
      "source": [
        "#### Array Operations"
      ]
    },
    {
      "cell_type": "code",
      "metadata": {
        "id": "N_aWdYftx1iL",
        "colab": {
          "base_uri": "https://localhost:8080/"
        },
        "outputId": "bd7d7725-be40-4d5d-97c1-40d7841f3ae5"
      },
      "source": [
        "a = np.array([1, 2, 3, 4])\n",
        "b = np.array([2, 3, 4, 5])\n",
        "\n",
        "print(a*b)\n",
        "print(a**b)\n",
        "print(a+b)\n",
        "print(a/b)"
      ],
      "execution_count": 15,
      "outputs": [
        {
          "output_type": "stream",
          "text": [
            "[ 2  6 12 20]\n",
            "[   1    8   81 1024]\n",
            "[3 5 7 9]\n",
            "[0.5        0.66666667 0.75       0.8       ]\n"
          ],
          "name": "stdout"
        }
      ]
    },
    {
      "cell_type": "code",
      "metadata": {
        "id": "_uA3AT0RyjPv",
        "colab": {
          "base_uri": "https://localhost:8080/"
        },
        "outputId": "2160afef-e8ff-429b-d535-154214a2be34"
      },
      "source": [
        "# Setting array elements\n",
        "print(a[0])\n",
        "a[0] = 10\n",
        "print(a[0])\n",
        "print(a)"
      ],
      "execution_count": 16,
      "outputs": [
        {
          "output_type": "stream",
          "text": [
            "1\n",
            "10\n",
            "[10  2  3  4]\n"
          ],
          "name": "stdout"
        }
      ]
    },
    {
      "cell_type": "code",
      "metadata": {
        "id": "a94VoeIny30D",
        "colab": {
          "base_uri": "https://localhost:8080/"
        },
        "outputId": "0047b64a-a7a8-4161-bb3c-0551cde1df66"
      },
      "source": [
        "# Multi-dimensional Array\n",
        "\n",
        "a = np.array([[ 0, 1, 2, 3],[10,11,12,13]])\n",
        "print(a)"
      ],
      "execution_count": 17,
      "outputs": [
        {
          "output_type": "stream",
          "text": [
            "[[ 0  1  2  3]\n",
            " [10 11 12 13]]\n"
          ],
          "name": "stdout"
        }
      ]
    },
    {
      "cell_type": "code",
      "metadata": {
        "id": "lmCwIR1jy-1Q",
        "colab": {
          "base_uri": "https://localhost:8080/"
        },
        "outputId": "2be13c86-319f-47c9-8e01-4405ca130660"
      },
      "source": [
        "print(a.shape)\n",
        "print(a.size)\n",
        "print(a.ndim)"
      ],
      "execution_count": 18,
      "outputs": [
        {
          "output_type": "stream",
          "text": [
            "(2, 4)\n",
            "8\n",
            "2\n"
          ],
          "name": "stdout"
        }
      ]
    },
    {
      "cell_type": "code",
      "metadata": {
        "id": "a-xnWSjVzP0z",
        "colab": {
          "base_uri": "https://localhost:8080/"
        },
        "outputId": "fb88c772-1aa0-49fd-c4cd-b0ffe6d83fc6"
      },
      "source": [
        "# Get and set elements in Multi-dimensional Array\n",
        "print(a[1, 3])\n",
        "a[1, 3] = -1\n",
        "print(a[1, 3])"
      ],
      "execution_count": 19,
      "outputs": [
        {
          "output_type": "stream",
          "text": [
            "13\n",
            "-1\n"
          ],
          "name": "stdout"
        }
      ]
    },
    {
      "cell_type": "code",
      "metadata": {
        "id": "ICn13beyzhLW",
        "colab": {
          "base_uri": "https://localhost:8080/"
        },
        "outputId": "5fd13e20-0f6e-4c7b-83f5-7bfd0b0958ef"
      },
      "source": [
        "print(a[1])"
      ],
      "execution_count": 20,
      "outputs": [
        {
          "output_type": "stream",
          "text": [
            "[10 11 12 -1]\n"
          ],
          "name": "stdout"
        }
      ]
    },
    {
      "cell_type": "markdown",
      "metadata": {
        "id": "DMk5FPVD1CK0"
      },
      "source": [
        "#### Slicing array\n",
        "\n",
        "![Slicing array](https://scipy-lectures.org/_images/numpy_indexing.png)"
      ]
    },
    {
      "cell_type": "code",
      "metadata": {
        "id": "s_F3padj1Pcp",
        "colab": {
          "base_uri": "https://localhost:8080/"
        },
        "outputId": "020b5eba-b75f-4b20-e048-a6139fda7a18"
      },
      "source": [
        "# Slicing Array\n",
        "print(a)\n",
        "\n",
        "# print all rows and 3rd column\n",
        "print(a[:,2])\n",
        "\n",
        "# print first row and all columns\n",
        "print(a[0,:])\n",
        "\n",
        "# negative indices work also\n",
        "print(a)\n",
        "print(a[:,:-2])"
      ],
      "execution_count": 21,
      "outputs": [
        {
          "output_type": "stream",
          "text": [
            "[[ 0  1  2  3]\n",
            " [10 11 12 -1]]\n",
            "[ 2 12]\n",
            "[0 1 2 3]\n",
            "[[ 0  1  2  3]\n",
            " [10 11 12 -1]]\n",
            "[[ 0  1]\n",
            " [10 11]]\n"
          ],
          "name": "stdout"
        }
      ]
    },
    {
      "cell_type": "markdown",
      "metadata": {
        "id": "6X-TO_KR1mjo"
      },
      "source": [
        "## Questions to be done during the lab:\n",
        "\n",
        "1. Create a (4 x 2) integer array and print it's attributes.\n",
        "\n",
        "2. Create an array of dimension (1,10) and sort it in ascending and descending order.\n",
        "\n",
        "3. Convert an 1D array [1 2 3 4 5 6 7 8 9] to 2D array [[1 2 3], [4 5 6], [7 8 9]].\n",
        "\n",
        "4. Stack two arrays of any size horizontally and vertically.\n",
        "\n",
        "5. Create two array of same size and find common elements.\n",
        "\n",
        "6. Create a 2D array of 5 by 5 and find the min and max values from each row and each column.\n",
        "\n",
        "7. Create an array of size 100 and  compute the mean, median, standard deviation. \n",
        "\n",
        "8. Normalize a 5x5 random matrix.\n",
        "\n",
        "9. Consider an array of dimension (4,4,3), how to mulitply it by an array with dimensions (4,4)?\n",
        "\n"
      ]
    },
    {
      "cell_type": "code",
      "metadata": {
        "id": "mK3GWOgYnhWv"
      },
      "source": [
        "import numpy as np"
      ],
      "execution_count": 22,
      "outputs": []
    },
    {
      "cell_type": "markdown",
      "metadata": {
        "id": "5aI4UyGvnoG1"
      },
      "source": [
        "**Question 1:** *Create a (4 x 2) integer array and print it's attributes.*"
      ]
    },
    {
      "cell_type": "code",
      "metadata": {
        "id": "gNF0mnJwnwoP",
        "colab": {
          "base_uri": "https://localhost:8080/"
        },
        "outputId": "b7c283dd-cb80-4f8b-c531-53536043da6a"
      },
      "source": [
        "a = np.array([[11, 13, 17, 19], [23, 29, 31, 37]], np.int32)\n",
        "print(a)"
      ],
      "execution_count": 23,
      "outputs": [
        {
          "output_type": "stream",
          "text": [
            "[[11 13 17 19]\n",
            " [23 29 31 37]]\n"
          ],
          "name": "stdout"
        }
      ]
    },
    {
      "cell_type": "markdown",
      "metadata": {
        "id": "9MGybmkkn9YL"
      },
      "source": [
        "**Question 2:** *Create an array of dimension (1,10) and sort it in ascending and descending order.*"
      ]
    },
    {
      "cell_type": "code",
      "metadata": {
        "id": "q7FZqWIdoAyU",
        "colab": {
          "base_uri": "https://localhost:8080/"
        },
        "outputId": "b9da51e2-787e-495f-afc7-bb21b5e9dfd4"
      },
      "source": [
        "a = np.array([802, 706, 888, 705, 321, 200, 902, 317, 108, 199])\n",
        "print(\"Ascending Order:\", np.sort(a))\n",
        "print(\"Descending Order:\", np.sort(a)[::-1])"
      ],
      "execution_count": 24,
      "outputs": [
        {
          "output_type": "stream",
          "text": [
            "Ascending Order: [108 199 200 317 321 705 706 802 888 902]\n",
            "Descending Order: [902 888 802 706 705 321 317 200 199 108]\n"
          ],
          "name": "stdout"
        }
      ]
    },
    {
      "cell_type": "markdown",
      "metadata": {
        "id": "qYGszf4OoM8k"
      },
      "source": [
        "**Question 3:** *Convert an 1D array [1 2 3 4 5 6 7 8 9] to 2D array [[1 2 3], [4 5 6], [7 8 9]].*"
      ]
    },
    {
      "cell_type": "code",
      "metadata": {
        "id": "AFlalk9VoU1q",
        "colab": {
          "base_uri": "https://localhost:8080/"
        },
        "outputId": "a4b7fa80-7424-422d-c4c7-3c372a555872"
      },
      "source": [
        "a = np.array([1,2,3,4,5,6,7,8,9])\n",
        "a = a.reshape(3,3)\n",
        "print(a)"
      ],
      "execution_count": 25,
      "outputs": [
        {
          "output_type": "stream",
          "text": [
            "[[1 2 3]\n",
            " [4 5 6]\n",
            " [7 8 9]]\n"
          ],
          "name": "stdout"
        }
      ]
    },
    {
      "cell_type": "markdown",
      "metadata": {
        "id": "Wg9HgMUqoclr"
      },
      "source": [
        "**Question 4:** *Stack two arrays of any size horizontally and vertically.*"
      ]
    },
    {
      "cell_type": "code",
      "metadata": {
        "id": "7hVr8-8oolIO",
        "colab": {
          "base_uri": "https://localhost:8080/"
        },
        "outputId": "b6136fee-653d-4138-bfce-79d4b28e6157"
      },
      "source": [
        "a = np.array([55, 65, 75, 85, 95])\n",
        "b = np.array([50, 60, 70, 80, 90])\n",
        "print(\"Horizontal Stacked Array:\", np.hstack((a, b)))\n",
        "print(\"Vertical Stacked Array:\", np.vstack((a, b)))"
      ],
      "execution_count": 26,
      "outputs": [
        {
          "output_type": "stream",
          "text": [
            "Horizontal Stacked Array: [55 65 75 85 95 50 60 70 80 90]\n",
            "Vertical Stacked Array: [[55 65 75 85 95]\n",
            " [50 60 70 80 90]]\n"
          ],
          "name": "stdout"
        }
      ]
    },
    {
      "cell_type": "markdown",
      "metadata": {
        "id": "xpBjY6kIo0HT"
      },
      "source": [
        "**Question 5:** *Create two array of same size and find common elements.*"
      ]
    },
    {
      "cell_type": "code",
      "metadata": {
        "id": "dBEB5XgYo3Dk",
        "colab": {
          "base_uri": "https://localhost:8080/"
        },
        "outputId": "a40055ac-a694-4d38-f71a-eba494cfaa70"
      },
      "source": [
        "a = np.array([55, 65, 75, 90, 95])\n",
        "b = np.array([50, 55, 70, 80, 90])\n",
        "print(\"Common values between two arrays:\", np.intersect1d(a, b))"
      ],
      "execution_count": 27,
      "outputs": [
        {
          "output_type": "stream",
          "text": [
            "Common values between two arrays: [55 90]\n"
          ],
          "name": "stdout"
        }
      ]
    },
    {
      "cell_type": "markdown",
      "metadata": {
        "id": "x9m46NHcpCaV"
      },
      "source": [
        "**Question 6:** *Create a 2D array of 5 by 5 and find the min and max values from each row and each column.*"
      ]
    },
    {
      "cell_type": "code",
      "metadata": {
        "id": "xhKABDj_pFty",
        "colab": {
          "base_uri": "https://localhost:8080/"
        },
        "outputId": "2b7f478f-0bff-4887-fc13-59164580df1f"
      },
      "source": [
        "a = np.random.randint(99, size=(5, 5)) # Generate a 5 x 5 array of ints between 0 and 98\n",
        "print(a)\n",
        "print(\"\\n\")\n",
        "print(\"Maximum value of each column\", a.max(axis=0))\n",
        "print(\"Minimum value of each column\", a.min(axis=0))\n",
        "print(\"\\n\")\n",
        "print(\"Maximum value of each row:\")\n",
        "for i in a:\n",
        "  print(np.amax(i))\n",
        "print(\"Minimum value of each row:\")\n",
        "for i in a:\n",
        "  print(np.amin(i))"
      ],
      "execution_count": 28,
      "outputs": [
        {
          "output_type": "stream",
          "text": [
            "[[49 11 70 29 51]\n",
            " [96 32 48 19 39]\n",
            " [82 74 37 27 47]\n",
            " [81 84  8 42 69]\n",
            " [40  8 95  5 62]]\n",
            "\n",
            "\n",
            "Maximum value of each column [96 84 95 42 69]\n",
            "Minimum value of each column [40  8  8  5 39]\n",
            "\n",
            "\n",
            "Maximum value of each row:\n",
            "70\n",
            "96\n",
            "82\n",
            "84\n",
            "95\n",
            "Minimum value of each row:\n",
            "11\n",
            "19\n",
            "27\n",
            "8\n",
            "5\n"
          ],
          "name": "stdout"
        }
      ]
    },
    {
      "cell_type": "markdown",
      "metadata": {
        "id": "Ezl67pNgpQmJ"
      },
      "source": [
        "**Question 7:** *Create an array of size 100 and compute the mean, median, standard deviation.*"
      ]
    },
    {
      "cell_type": "code",
      "metadata": {
        "id": "uFmZXkUMpTUk",
        "colab": {
          "base_uri": "https://localhost:8080/"
        },
        "outputId": "a34132df-5c4c-415e-e2e8-bd236ac3d245"
      },
      "source": [
        "a = np.random.randint(99, size=100)\n",
        "print(a)\n",
        "print(\"Mean:\", np.mean(a))\n",
        "print(\"Median:\", np.median(a))\n",
        "print(\"Standard Deviation:\", np.std(a))"
      ],
      "execution_count": 29,
      "outputs": [
        {
          "output_type": "stream",
          "text": [
            "[42 68 56 28 88 60 59 33 16 17 73 49 63 25 20 75 20 15 10 92 66 95 50 73\n",
            " 43 80 52 77 83  5 53  3 60 97 41 47 23 77 98 94 98 90 26 11 84 44 44 66\n",
            " 37 36  4 72 61 87 88 80 49 77 63 92 39 21 50 81 42  8 36 28  4 25 72 64\n",
            " 48 67 49 81 67 89 85 86 14 25 62 86 58 30 51 90 73  8 93 51 49 30 76 49\n",
            " 21 75 79 80]\n",
            "Mean: 54.77\n",
            "Median: 57.0\n",
            "Standard Deviation: 27.072072325553506\n"
          ],
          "name": "stdout"
        }
      ]
    },
    {
      "cell_type": "markdown",
      "metadata": {
        "id": "6aDe8opkpYri"
      },
      "source": [
        "**Question 8:** *Normalize a 5x5 random matrix.*"
      ]
    },
    {
      "cell_type": "code",
      "metadata": {
        "id": "zuuMHvgbpfP4",
        "colab": {
          "base_uri": "https://localhost:8080/"
        },
        "outputId": "8b8d6476-4d8f-40e4-95cb-d8495dd1ec68"
      },
      "source": [
        "a = np.random.randint(99, size=(5, 5)) # Generate a 5 x 5 array of ints between 0 and 98\n",
        "print(a)\n",
        "amax, amin = a.max(), a.min()\n",
        "a = (a - amin)/(amax - amin)\n",
        "print(\"After Normalization:\")\n",
        "print(a)"
      ],
      "execution_count": 30,
      "outputs": [
        {
          "output_type": "stream",
          "text": [
            "[[58 66  7 51 71]\n",
            " [20 43 63 54  3]\n",
            " [34 74 49 53 49]\n",
            " [ 9  1 53 60 35]\n",
            " [10 83 69 16 18]]\n",
            "After Normalization:\n",
            "[[0.69512195 0.79268293 0.07317073 0.6097561  0.85365854]\n",
            " [0.23170732 0.51219512 0.75609756 0.64634146 0.02439024]\n",
            " [0.40243902 0.8902439  0.58536585 0.63414634 0.58536585]\n",
            " [0.09756098 0.         0.63414634 0.7195122  0.41463415]\n",
            " [0.1097561  1.         0.82926829 0.18292683 0.20731707]]\n"
          ],
          "name": "stdout"
        }
      ]
    },
    {
      "cell_type": "markdown",
      "metadata": {
        "id": "N2RVHjNzpksQ"
      },
      "source": [
        "**Question 9:** *Consider an array of dimension (4,4,3), how to mulitply it by an array with dimensions (4,4).*"
      ]
    },
    {
      "cell_type": "code",
      "metadata": {
        "id": "0hJPV9ogpvl5",
        "colab": {
          "base_uri": "https://localhost:8080/"
        },
        "outputId": "382e7dcd-302a-4d40-c5b6-7a432b686c17"
      },
      "source": [
        "a = np.random.randint(99, size=(4, 4, 3))\n",
        "b = np.random.randint(99, size=(4, 4))\n",
        "\n",
        "a*b[:,:,None]"
      ],
      "execution_count": 31,
      "outputs": [
        {
          "output_type": "execute_result",
          "data": {
            "text/plain": [
              "array([[[1924, 1456, 2054],\n",
              "        [6720, 1520, 4320],\n",
              "        [  34,   78,   79],\n",
              "        [4015, 5256,  803]],\n",
              "\n",
              "       [[4248, 4366, 5664],\n",
              "        [2046, 1914, 1056],\n",
              "        [1037, 5002, 5063],\n",
              "        [ 130,  530,  340]],\n",
              "\n",
              "       [[4788,  441,  567],\n",
              "        [8835, 5394, 7440],\n",
              "        [2686, 3555, 5609],\n",
              "        [ 195,   96,    0]],\n",
              "\n",
              "       [[1026, 1710, 2565],\n",
              "        [1664, 1664, 1872],\n",
              "        [3936, 8352, 8640],\n",
              "        [ 720, 1120, 1960]]])"
            ]
          },
          "metadata": {
            "tags": []
          },
          "execution_count": 31
        }
      ]
    }
  ]
}