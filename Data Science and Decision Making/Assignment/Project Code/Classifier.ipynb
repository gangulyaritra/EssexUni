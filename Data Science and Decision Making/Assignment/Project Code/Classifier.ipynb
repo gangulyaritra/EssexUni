{
  "nbformat": 4,
  "nbformat_minor": 0,
  "metadata": {
    "colab": {
      "name": "Classifier.ipynb",
      "provenance": []
    },
    "kernelspec": {
      "name": "python3",
      "display_name": "Python 3"
    }
  },
  "cells": [
    {
      "cell_type": "code",
      "metadata": {
        "id": "FM7Bqtvo6YCy"
      },
      "source": [
        "from sklearn import tree\n",
        "import pandas as pd\n",
        "import numpy as np\n",
        "import matplotlib.pyplot as plt\n",
        "from sklearn.model_selection import train_test_split, GridSearchCV\n",
        "from sklearn.metrics import accuracy_score\n",
        "import pickle"
      ],
      "execution_count": null,
      "outputs": []
    },
    {
      "cell_type": "code",
      "metadata": {
        "id": "imXuEXE67-VD"
      },
      "source": [
        "data = pd.read_csv(\"data.csv\", header = None)\n",
        "data"
      ],
      "execution_count": null,
      "outputs": []
    },
    {
      "cell_type": "code",
      "metadata": {
        "id": "9IMJn1L08zXL"
      },
      "source": [
        "train_data_x = data.iloc[:,:-1].values\n",
        "train_data_y = data.iloc[:, 10].values\n",
        "x_train, x_test, y_train, y_test = train_test_split(train_data_x, train_data_y, test_size = 0.2, random_state = 10)"
      ],
      "execution_count": null,
      "outputs": []
    },
    {
      "cell_type": "code",
      "metadata": {
        "id": "FcssEOnT9iVi"
      },
      "source": [
        "clf = tree.DecisionTreeClassifier()\n",
        "parameter = {\"criterion\" : [\"gini\", \"entropy\"], \"max_depth\" : [None, 20, 40, 60]}\n",
        "grid = GridSearchCV(clf, parameter, cv = 20)"
      ],
      "execution_count": null,
      "outputs": []
    },
    {
      "cell_type": "code",
      "metadata": {
        "id": "kLppOJsX_ehi"
      },
      "source": [
        "grid.fit(x_train, y_train)\n",
        "y_pred = grid.predict(x_test)"
      ],
      "execution_count": null,
      "outputs": []
    },
    {
      "cell_type": "code",
      "metadata": {
        "id": "s0y_ezl9_25G"
      },
      "source": [
        "grid.best_params_"
      ],
      "execution_count": null,
      "outputs": []
    },
    {
      "cell_type": "code",
      "metadata": {
        "id": "33cmwOnHAEl2"
      },
      "source": [
        "grid.best_score_"
      ],
      "execution_count": null,
      "outputs": []
    },
    {
      "cell_type": "code",
      "metadata": {
        "id": "uOq0VTg2A-Zy"
      },
      "source": [
        "print(\"Accuracy Score:\", accuracy_score(y_test, y_pred))"
      ],
      "execution_count": null,
      "outputs": []
    },
    {
      "cell_type": "code",
      "metadata": {
        "id": "8lz18mXZFf-a"
      },
      "source": [
        "clf = tree.DecisionTreeClassifier(criterion = 'entropy', max_depth = 40)\n",
        "clf.fit(x_train, y_train)\n",
        "y_pred = clf.predict(x_test)\n",
        "print(\"Accuracy Score:\", accuracy_score(y_test, y_pred))"
      ],
      "execution_count": null,
      "outputs": []
    },
    {
      "cell_type": "code",
      "metadata": {
        "id": "VweSNfgrEFWm"
      },
      "source": [
        "filename = 'OXO_1.pkl'\n",
        "pickle.dump(grid, open(filename, 'wb'))"
      ],
      "execution_count": null,
      "outputs": []
    }
  ]
}