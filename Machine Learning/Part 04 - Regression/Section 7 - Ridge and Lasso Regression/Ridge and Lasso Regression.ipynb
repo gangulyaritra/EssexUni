{
  "nbformat": 4,
  "nbformat_minor": 0,
  "metadata": {
    "colab": {
      "name": "Ridge and Lasso Regression.ipynb",
      "provenance": [],
      "collapsed_sections": []
    },
    "kernelspec": {
      "name": "python3",
      "display_name": "Python 3"
    }
  },
  "cells": [
    {
      "cell_type": "markdown",
      "metadata": {
        "id": "CazISR8X_HUG"
      },
      "source": [
        "# **Ridge & Lasso Regression**\n",
        "\n"
      ]
    },
    {
      "cell_type": "code",
      "metadata": {
        "id": "T_YHJjnD_Tja"
      },
      "source": [
        "# Import Library.\n",
        "import pandas as pd\n",
        "import numpy as np\n",
        "import matplotlib.pyplot as plt"
      ],
      "execution_count": 33,
      "outputs": []
    },
    {
      "cell_type": "code",
      "metadata": {
        "colab": {
          "base_uri": "https://localhost:8080/",
          "height": 202
        },
        "id": "qdyr0qFx4oLm",
        "outputId": "8c9e4091-1e3a-49d1-a9fa-e584922879f5"
      },
      "source": [
        "# Import Dataset.\n",
        "dataset = pd.read_csv('50_Startups.csv')\n",
        "dataset.head()"
      ],
      "execution_count": 34,
      "outputs": [
        {
          "output_type": "execute_result",
          "data": {
            "text/html": [
              "<div>\n",
              "<style scoped>\n",
              "    .dataframe tbody tr th:only-of-type {\n",
              "        vertical-align: middle;\n",
              "    }\n",
              "\n",
              "    .dataframe tbody tr th {\n",
              "        vertical-align: top;\n",
              "    }\n",
              "\n",
              "    .dataframe thead th {\n",
              "        text-align: right;\n",
              "    }\n",
              "</style>\n",
              "<table border=\"1\" class=\"dataframe\">\n",
              "  <thead>\n",
              "    <tr style=\"text-align: right;\">\n",
              "      <th></th>\n",
              "      <th>R&amp;D Spend</th>\n",
              "      <th>Administration</th>\n",
              "      <th>Marketing Spend</th>\n",
              "      <th>State</th>\n",
              "      <th>Profit</th>\n",
              "    </tr>\n",
              "  </thead>\n",
              "  <tbody>\n",
              "    <tr>\n",
              "      <th>0</th>\n",
              "      <td>165349.20</td>\n",
              "      <td>136897.80</td>\n",
              "      <td>471784.10</td>\n",
              "      <td>New York</td>\n",
              "      <td>192261.83</td>\n",
              "    </tr>\n",
              "    <tr>\n",
              "      <th>1</th>\n",
              "      <td>162597.70</td>\n",
              "      <td>151377.59</td>\n",
              "      <td>443898.53</td>\n",
              "      <td>California</td>\n",
              "      <td>191792.06</td>\n",
              "    </tr>\n",
              "    <tr>\n",
              "      <th>2</th>\n",
              "      <td>153441.51</td>\n",
              "      <td>101145.55</td>\n",
              "      <td>407934.54</td>\n",
              "      <td>Florida</td>\n",
              "      <td>191050.39</td>\n",
              "    </tr>\n",
              "    <tr>\n",
              "      <th>3</th>\n",
              "      <td>144372.41</td>\n",
              "      <td>118671.85</td>\n",
              "      <td>383199.62</td>\n",
              "      <td>New York</td>\n",
              "      <td>182901.99</td>\n",
              "    </tr>\n",
              "    <tr>\n",
              "      <th>4</th>\n",
              "      <td>142107.34</td>\n",
              "      <td>91391.77</td>\n",
              "      <td>366168.42</td>\n",
              "      <td>Florida</td>\n",
              "      <td>166187.94</td>\n",
              "    </tr>\n",
              "  </tbody>\n",
              "</table>\n",
              "</div>"
            ],
            "text/plain": [
              "   R&D Spend  Administration  Marketing Spend       State     Profit\n",
              "0  165349.20       136897.80        471784.10    New York  192261.83\n",
              "1  162597.70       151377.59        443898.53  California  191792.06\n",
              "2  153441.51       101145.55        407934.54     Florida  191050.39\n",
              "3  144372.41       118671.85        383199.62    New York  182901.99\n",
              "4  142107.34        91391.77        366168.42     Florida  166187.94"
            ]
          },
          "metadata": {
            "tags": []
          },
          "execution_count": 34
        }
      ]
    },
    {
      "cell_type": "code",
      "metadata": {
        "id": "UrxyEKGn_ez7"
      },
      "source": [
        "# Split dataset into features and target variables.\n",
        "X = dataset.iloc[:, :-1].values\n",
        "y = dataset.iloc[:, -1].values"
      ],
      "execution_count": 35,
      "outputs": []
    },
    {
      "cell_type": "markdown",
      "metadata": {
        "id": "VadrvE7s_lS9"
      },
      "source": [
        "# **Encoding Categorical Data.**"
      ]
    },
    {
      "cell_type": "code",
      "metadata": {
        "id": "wV3fD1mbAvsh",
        "colab": {
          "base_uri": "https://localhost:8080/"
        },
        "outputId": "734e84ec-28a5-471a-c83c-63d9eedf047d"
      },
      "source": [
        "from sklearn.compose import ColumnTransformer\n",
        "from sklearn.preprocessing import OneHotEncoder\n",
        "ct = ColumnTransformer(transformers = [('encoder', OneHotEncoder(), [3])], remainder = 'passthrough')\n",
        "X = np.array(ct.fit_transform(X))\n",
        "\n",
        "print(X)"
      ],
      "execution_count": 36,
      "outputs": [
        {
          "output_type": "stream",
          "text": [
            "[[0.0 0.0 1.0 165349.2 136897.8 471784.1]\n",
            " [1.0 0.0 0.0 162597.7 151377.59 443898.53]\n",
            " [0.0 1.0 0.0 153441.51 101145.55 407934.54]\n",
            " [0.0 0.0 1.0 144372.41 118671.85 383199.62]\n",
            " [0.0 1.0 0.0 142107.34 91391.77 366168.42]\n",
            " [0.0 0.0 1.0 131876.9 99814.71 362861.36]\n",
            " [1.0 0.0 0.0 134615.46 147198.87 127716.82]\n",
            " [0.0 1.0 0.0 130298.13 145530.06 323876.68]\n",
            " [0.0 0.0 1.0 120542.52 148718.95 311613.29]\n",
            " [1.0 0.0 0.0 123334.88 108679.17 304981.62]\n",
            " [0.0 1.0 0.0 101913.08 110594.11 229160.95]\n",
            " [1.0 0.0 0.0 100671.96 91790.61 249744.55]\n",
            " [0.0 1.0 0.0 93863.75 127320.38 249839.44]\n",
            " [1.0 0.0 0.0 91992.39 135495.07 252664.93]\n",
            " [0.0 1.0 0.0 119943.24 156547.42 256512.92]\n",
            " [0.0 0.0 1.0 114523.61 122616.84 261776.23]\n",
            " [1.0 0.0 0.0 78013.11 121597.55 264346.06]\n",
            " [0.0 0.0 1.0 94657.16 145077.58 282574.31]\n",
            " [0.0 1.0 0.0 91749.16 114175.79 294919.57]\n",
            " [0.0 0.0 1.0 86419.7 153514.11 0.0]\n",
            " [1.0 0.0 0.0 76253.86 113867.3 298664.47]\n",
            " [0.0 0.0 1.0 78389.47 153773.43 299737.29]\n",
            " [0.0 1.0 0.0 73994.56 122782.75 303319.26]\n",
            " [0.0 1.0 0.0 67532.53 105751.03 304768.73]\n",
            " [0.0 0.0 1.0 77044.01 99281.34 140574.81]\n",
            " [1.0 0.0 0.0 64664.71 139553.16 137962.62]\n",
            " [0.0 1.0 0.0 75328.87 144135.98 134050.07]\n",
            " [0.0 0.0 1.0 72107.6 127864.55 353183.81]\n",
            " [0.0 1.0 0.0 66051.52 182645.56 118148.2]\n",
            " [0.0 0.0 1.0 65605.48 153032.06 107138.38]\n",
            " [0.0 1.0 0.0 61994.48 115641.28 91131.24]\n",
            " [0.0 0.0 1.0 61136.38 152701.92 88218.23]\n",
            " [1.0 0.0 0.0 63408.86 129219.61 46085.25]\n",
            " [0.0 1.0 0.0 55493.95 103057.49 214634.81]\n",
            " [1.0 0.0 0.0 46426.07 157693.92 210797.67]\n",
            " [0.0 0.0 1.0 46014.02 85047.44 205517.64]\n",
            " [0.0 1.0 0.0 28663.76 127056.21 201126.82]\n",
            " [1.0 0.0 0.0 44069.95 51283.14 197029.42]\n",
            " [0.0 0.0 1.0 20229.59 65947.93 185265.1]\n",
            " [1.0 0.0 0.0 38558.51 82982.09 174999.3]\n",
            " [1.0 0.0 0.0 28754.33 118546.05 172795.67]\n",
            " [0.0 1.0 0.0 27892.92 84710.77 164470.71]\n",
            " [1.0 0.0 0.0 23640.93 96189.63 148001.11]\n",
            " [0.0 0.0 1.0 15505.73 127382.3 35534.17]\n",
            " [1.0 0.0 0.0 22177.74 154806.14 28334.72]\n",
            " [0.0 0.0 1.0 1000.23 124153.04 1903.93]\n",
            " [0.0 1.0 0.0 1315.46 115816.21 297114.46]\n",
            " [1.0 0.0 0.0 0.0 135426.92 0.0]\n",
            " [0.0 0.0 1.0 542.05 51743.15 0.0]\n",
            " [1.0 0.0 0.0 0.0 116983.8 45173.06]]\n"
          ],
          "name": "stdout"
        }
      ]
    },
    {
      "cell_type": "markdown",
      "metadata": {
        "id": "CLWFLtiS50dG"
      },
      "source": [
        "# **Feature Scaling.**"
      ]
    },
    {
      "cell_type": "code",
      "metadata": {
        "colab": {
          "base_uri": "https://localhost:8080/"
        },
        "id": "h0f7qgj453UV",
        "outputId": "7063819c-4a8e-4e0b-b444-c7f78b44cf95"
      },
      "source": [
        "from sklearn.preprocessing import StandardScaler\n",
        "sc = StandardScaler()\n",
        "X = sc.fit_transform(X)\n",
        "\n",
        "print(X)"
      ],
      "execution_count": 37,
      "outputs": [
        {
          "output_type": "stream",
          "text": [
            "[[-7.17740563e-01 -6.85994341e-01  1.39326109e+00  2.01641149e+00\n",
            "   5.60752915e-01  2.15394309e+00]\n",
            " [ 1.39326109e+00 -6.85994341e-01 -7.17740563e-01  1.95586034e+00\n",
            "   1.08280658e+00  1.92360040e+00]\n",
            " [-7.17740563e-01  1.45773797e+00 -7.17740563e-01  1.75436374e+00\n",
            "  -7.28257028e-01  1.62652767e+00]\n",
            " [-7.17740563e-01 -6.85994341e-01  1.39326109e+00  1.55478369e+00\n",
            "  -9.63646307e-02  1.42221024e+00]\n",
            " [-7.17740563e-01  1.45773797e+00 -7.17740563e-01  1.50493720e+00\n",
            "  -1.07991935e+00  1.28152771e+00]\n",
            " [-7.17740563e-01 -6.85994341e-01  1.39326109e+00  1.27980001e+00\n",
            "  -7.76239071e-01  1.25421046e+00]\n",
            " [ 1.39326109e+00 -6.85994341e-01 -7.17740563e-01  1.34006641e+00\n",
            "   9.32147208e-01 -6.88149930e-01]\n",
            " [-7.17740563e-01  1.45773797e+00 -7.17740563e-01  1.24505666e+00\n",
            "   8.71980011e-01  9.32185978e-01]\n",
            " [-7.17740563e-01 -6.85994341e-01  1.39326109e+00  1.03036886e+00\n",
            "   9.86952101e-01  8.30886909e-01]\n",
            " [ 1.39326109e+00 -6.85994341e-01 -7.17740563e-01  1.09181921e+00\n",
            "  -4.56640246e-01  7.76107440e-01]\n",
            " [-7.17740563e-01  1.45773797e+00 -7.17740563e-01  6.20398248e-01\n",
            "  -3.87599089e-01  1.49807267e-01]\n",
            " [ 1.39326109e+00 -6.85994341e-01 -7.17740563e-01  5.93085418e-01\n",
            "  -1.06553960e+00  3.19833623e-01]\n",
            " [-7.17740563e-01  1.45773797e+00 -7.17740563e-01  4.43259872e-01\n",
            "   2.15449064e-01  3.20617441e-01]\n",
            " [ 1.39326109e+00 -6.85994341e-01 -7.17740563e-01  4.02077603e-01\n",
            "   5.10178953e-01  3.43956788e-01]\n",
            " [-7.17740563e-01  1.45773797e+00 -7.17740563e-01  1.01718075e+00\n",
            "   1.26919939e+00  3.75742273e-01]\n",
            " [-7.17740563e-01 -6.85994341e-01  1.39326109e+00  8.97913123e-01\n",
            "   4.58678535e-02  4.19218702e-01]\n",
            " [ 1.39326109e+00 -6.85994341e-01 -7.17740563e-01  9.44411957e-02\n",
            "   9.11841968e-03  4.40446224e-01]\n",
            " [-7.17740563e-01 -6.85994341e-01  1.39326109e+00  4.60720127e-01\n",
            "   8.55666318e-01  5.91016724e-01]\n",
            " [-7.17740563e-01  1.45773797e+00 -7.17740563e-01  3.96724938e-01\n",
            "  -2.58465367e-01  6.92992062e-01]\n",
            " [-7.17740563e-01 -6.85994341e-01  1.39326109e+00  2.79441650e-01\n",
            "   1.15983657e+00 -1.74312698e+00]\n",
            " [ 1.39326109e+00 -6.85994341e-01 -7.17740563e-01  5.57260867e-02\n",
            "  -2.69587651e-01  7.23925995e-01]\n",
            " [-7.17740563e-01 -6.85994341e-01  1.39326109e+00  1.02723599e-01\n",
            "   1.16918609e+00  7.32787791e-01]\n",
            " [-7.17740563e-01  1.45773797e+00 -7.17740563e-01  6.00657792e-03\n",
            "   5.18495648e-02  7.62375876e-01]\n",
            " [-7.17740563e-01  1.45773797e+00 -7.17740563e-01 -1.36200724e-01\n",
            "  -5.62211268e-01  7.74348908e-01]\n",
            " [-7.17740563e-01 -6.85994341e-01  1.39326109e+00  7.31146008e-02\n",
            "  -7.95469167e-01 -5.81939297e-01]\n",
            " [ 1.39326109e+00 -6.85994341e-01 -7.17740563e-01 -1.99311688e-01\n",
            "   6.56489139e-01 -6.03516725e-01]\n",
            " [-7.17740563e-01  1.45773797e+00 -7.17740563e-01  3.53702028e-02\n",
            "   8.21717916e-01 -6.35835495e-01]\n",
            " [-7.17740563e-01 -6.85994341e-01  1.39326109e+00 -3.55189938e-02\n",
            "   2.35068543e-01  1.17427116e+00]\n",
            " [-7.17740563e-01  1.45773797e+00 -7.17740563e-01 -1.68792717e-01\n",
            "   2.21014050e+00 -7.67189437e-01]\n",
            " [-7.17740563e-01 -6.85994341e-01  1.39326109e+00 -1.78608540e-01\n",
            "   1.14245677e+00 -8.58133663e-01]\n",
            " [-7.17740563e-01  1.45773797e+00 -7.17740563e-01 -2.58074369e-01\n",
            "  -2.05628659e-01 -9.90357166e-01]\n",
            " [-7.17740563e-01 -6.85994341e-01  1.39326109e+00 -2.76958231e-01\n",
            "   1.13055391e+00 -1.01441945e+00]\n",
            " [ 1.39326109e+00 -6.85994341e-01 -7.17740563e-01 -2.26948675e-01\n",
            "   2.83923813e-01 -1.36244978e+00]\n",
            " [-7.17740563e-01  1.45773797e+00 -7.17740563e-01 -4.01128925e-01\n",
            "  -6.59324033e-01  2.98172434e-02]\n",
            " [ 1.39326109e+00 -6.85994341e-01 -7.17740563e-01 -6.00682122e-01\n",
            "   1.31053525e+00 -1.87861793e-03]\n",
            " [-7.17740563e-01 -6.85994341e-01  1.39326109e+00 -6.09749941e-01\n",
            "  -1.30865753e+00 -4.54931587e-02]\n",
            " [-7.17740563e-01  1.45773797e+00 -7.17740563e-01 -9.91570153e-01\n",
            "   2.05924691e-01 -8.17625734e-02]\n",
            " [ 1.39326109e+00 -6.85994341e-01 -7.17740563e-01 -6.52532310e-01\n",
            "  -2.52599402e+00 -1.15608256e-01]\n",
            " [-7.17740563e-01 -6.85994341e-01  1.39326109e+00 -1.17717755e+00\n",
            "  -1.99727037e+00 -2.12784866e-01]\n",
            " [ 1.39326109e+00 -6.85994341e-01 -7.17740563e-01 -7.73820359e-01\n",
            "  -1.38312156e+00 -2.97583276e-01]\n",
            " [ 1.39326109e+00 -6.85994341e-01 -7.17740563e-01 -9.89577015e-01\n",
            "  -1.00900218e-01 -3.15785883e-01]\n",
            " [-7.17740563e-01  1.45773797e+00 -7.17740563e-01 -1.00853372e+00\n",
            "  -1.32079581e+00 -3.84552407e-01]\n",
            " [ 1.39326109e+00 -6.85994341e-01 -7.17740563e-01 -1.10210556e+00\n",
            "  -9.06937535e-01 -5.20595959e-01]\n",
            " [-7.17740563e-01 -6.85994341e-01  1.39326109e+00 -1.28113364e+00\n",
            "   2.17681524e-01 -1.44960468e+00]\n",
            " [ 1.39326109e+00 -6.85994341e-01 -7.17740563e-01 -1.13430539e+00\n",
            "   1.20641936e+00 -1.50907418e+00]\n",
            " [-7.17740563e-01 -6.85994341e-01  1.39326109e+00 -1.60035036e+00\n",
            "   1.01253936e-01 -1.72739998e+00]\n",
            " [-7.17740563e-01  1.45773797e+00 -7.17740563e-01 -1.59341322e+00\n",
            "  -1.99321741e-01  7.11122474e-01]\n",
            " [ 1.39326109e+00 -6.85994341e-01 -7.17740563e-01 -1.62236202e+00\n",
            "   5.07721876e-01 -1.74312698e+00]\n",
            " [-7.17740563e-01 -6.85994341e-01  1.39326109e+00 -1.61043334e+00\n",
            "  -2.50940884e+00 -1.74312698e+00]\n",
            " [ 1.39326109e+00 -6.85994341e-01 -7.17740563e-01 -1.62236202e+00\n",
            "  -1.57225506e-01 -1.36998473e+00]]\n"
          ],
          "name": "stdout"
        }
      ]
    },
    {
      "cell_type": "markdown",
      "metadata": {
        "id": "WemVnqgeA70k"
      },
      "source": [
        "# **Split dataset into Training set and Test set.**"
      ]
    },
    {
      "cell_type": "code",
      "metadata": {
        "id": "Kb_v_ae-A-20"
      },
      "source": [
        "from sklearn.model_selection import train_test_split\n",
        "X_train, X_test, y_train, y_test = train_test_split(X, y, test_size = 0.2, random_state = 0)"
      ],
      "execution_count": 38,
      "outputs": []
    },
    {
      "cell_type": "markdown",
      "metadata": {
        "id": "k-McZVsQBINc"
      },
      "source": [
        "# **Training the Multiple Linear Regression Model.**\n",
        "\n",
        "[sklearn.linear_model.LinearRegression](https://scikit-learn.org/stable/modules/generated/sklearn.linear_model.LinearRegression.html)"
      ]
    },
    {
      "cell_type": "code",
      "metadata": {
        "id": "ywPjx0L1BMiD"
      },
      "source": [
        "from sklearn.linear_model import LinearRegression\n",
        "regressor = LinearRegression().fit(X_train, y_train)\n",
        "\n",
        "# Predicting the Test set results.\n",
        "y_pred = regressor.predict(X_test)"
      ],
      "execution_count": 39,
      "outputs": []
    },
    {
      "cell_type": "markdown",
      "metadata": {
        "id": "t4hXkZEpk_sD"
      },
      "source": [
        "# **Regression Metrics.**\n",
        "\n",
        "[https://scikit-learn.org/stable/modules/model_evaluation.html#regression-metrics](https://scikit-learn.org/stable/modules/model_evaluation.html#regression-metrics)\n",
        "\n",
        "The sklearn.metrics module implements several loss, score, and utility functions to measure regression performance. Some of those have been enhanced to handle the multioutput case: **Mean-Squared Error**, **Mean-Absolute Error**, **Explained Variance Score** and **R2 Score**.\n",
        "\n",
        "\n",
        "*   [sklearn.metrics.mean_squared_error](https://scikit-learn.org/stable/modules/generated/sklearn.metrics.mean_squared_error.html#sklearn.metrics.mean_squared_error)\n",
        "*   [sklearn.metrics.mean_absolute_error](https://scikit-learn.org/stable/modules/generated/sklearn.metrics.mean_absolute_error.html#sklearn.metrics.mean_absolute_error)\n",
        "*   [sklearn.metrics.mean_squared_log_error](https://scikit-learn.org/stable/modules/generated/sklearn.metrics.mean_squared_log_error.html#sklearn.metrics.mean_squared_log_error)\n",
        "*   [sklearn.metrics.mean_absolute_percentage_error](https://scikit-learn.org/stable/modules/generated/sklearn.metrics.mean_absolute_percentage_error.html#sklearn.metrics.mean_absolute_percentage_error)\n",
        "*   [sklearn.metrics.r2_score](https://scikit-learn.org/stable/modules/generated/sklearn.metrics.r2_score.html#sklearn.metrics.r2_score)\n",
        "*   [sklearn.metrics.explained_variance_score](https://scikit-learn.org/stable/modules/generated/sklearn.metrics.explained_variance_score.html#sklearn.metrics.explained_variance_score)"
      ]
    },
    {
      "cell_type": "code",
      "metadata": {
        "colab": {
          "base_uri": "https://localhost:8080/"
        },
        "id": "b3K9dbA7k-9U",
        "outputId": "1cf86e35-4d20-4c04-e303-f3086348b7ea"
      },
      "source": [
        "# Calculating the Mean-Squared Error.\n",
        "from sklearn.metrics import mean_squared_error\n",
        "print(\"Mean-Squared Error (MSE) is\", mean_squared_error(y_test, y_pred))\n",
        "\n",
        "# Calculating the Mean-Absolute Error.\n",
        "from sklearn.metrics import mean_absolute_error\n",
        "print(\"Mean-Absolute Error (MAE) is\", mean_absolute_error(y_test, y_pred))\n",
        "\n",
        "# Calculating the Mean-Squared Log Error.\n",
        "from sklearn.metrics import mean_squared_log_error\n",
        "print(\"Mean-Squared Log Error is\", mean_squared_log_error(y_test, y_pred))\n",
        "\n",
        "# Calculating the Explained Variance Score.\n",
        "from sklearn.metrics import explained_variance_score\n",
        "print(\"Explained Variance Score is\", explained_variance_score(y_test, y_pred))\n",
        "\n",
        "# Calculating the R2 Score.\n",
        "from sklearn.metrics import r2_score\n",
        "print(\"R2 Score is\", r2_score(y_test, y_pred))"
      ],
      "execution_count": 40,
      "outputs": [
        {
          "output_type": "stream",
          "text": [
            "Mean-Squared Error (MSE) is 83502864.03257738\n",
            "Mean-Absolute Error (MAE) is 7514.29365964061\n",
            "Mean-Squared Log Error is 0.0071320014828482855\n",
            "Explained Variance Score is 0.9469192858652778\n",
            "R2 Score is 0.9347068473282425\n"
          ],
          "name": "stdout"
        }
      ]
    },
    {
      "cell_type": "markdown",
      "metadata": {
        "id": "nd0BworZoBIW"
      },
      "source": [
        "# **Ridge Regression**\n",
        "\n",
        "[sklearn.linear_model.Ridge](https://scikit-learn.org/stable/modules/generated/sklearn.linear_model.Ridge.html)"
      ]
    },
    {
      "cell_type": "code",
      "metadata": {
        "colab": {
          "base_uri": "https://localhost:8080/"
        },
        "id": "jMqiS1TloE8_",
        "outputId": "0ab10cc4-8d0d-44d6-d13d-c680a97a15f9"
      },
      "source": [
        "from sklearn.linear_model import Ridge\n",
        "from sklearn.model_selection import GridSearchCV\n",
        "\n",
        "ridge = Ridge()\n",
        "parameters = {'alpha':[1e-15, 1e-10, 1e-8, 1e-3, 1e-2, 1, 5, 10, 20, 30, 35, 40, 45, 50, 55, 100]}\n",
        "ridge_regressor = GridSearchCV(ridge, parameters, scoring = 'neg_mean_squared_error', cv = 10)\n",
        "ridge_regressor.fit(X_train, y_train)"
      ],
      "execution_count": 41,
      "outputs": [
        {
          "output_type": "stream",
          "text": [
            "/usr/local/lib/python3.7/dist-packages/sklearn/linear_model/_ridge.py:148: LinAlgWarning: Ill-conditioned matrix (rcond=1.01918e-16): result may not be accurate.\n",
            "  overwrite_a=True).T\n",
            "/usr/local/lib/python3.7/dist-packages/sklearn/linear_model/_ridge.py:148: LinAlgWarning: Ill-conditioned matrix (rcond=7.56794e-17): result may not be accurate.\n",
            "  overwrite_a=True).T\n",
            "/usr/local/lib/python3.7/dist-packages/sklearn/linear_model/_ridge.py:148: LinAlgWarning: Ill-conditioned matrix (rcond=7.42069e-17): result may not be accurate.\n",
            "  overwrite_a=True).T\n",
            "/usr/local/lib/python3.7/dist-packages/sklearn/linear_model/_ridge.py:148: LinAlgWarning: Ill-conditioned matrix (rcond=5.93987e-17): result may not be accurate.\n",
            "  overwrite_a=True).T\n"
          ],
          "name": "stderr"
        },
        {
          "output_type": "execute_result",
          "data": {
            "text/plain": [
              "GridSearchCV(cv=10, error_score=nan,\n",
              "             estimator=Ridge(alpha=1.0, copy_X=True, fit_intercept=True,\n",
              "                             max_iter=None, normalize=False, random_state=None,\n",
              "                             solver='auto', tol=0.001),\n",
              "             iid='deprecated', n_jobs=None,\n",
              "             param_grid={'alpha': [1e-15, 1e-10, 1e-08, 0.001, 0.01, 1, 5, 10,\n",
              "                                   20, 30, 35, 40, 45, 50, 55, 100]},\n",
              "             pre_dispatch='2*n_jobs', refit=True, return_train_score=False,\n",
              "             scoring='neg_mean_squared_error', verbose=0)"
            ]
          },
          "metadata": {
            "tags": []
          },
          "execution_count": 41
        }
      ]
    },
    {
      "cell_type": "code",
      "metadata": {
        "colab": {
          "base_uri": "https://localhost:8080/"
        },
        "id": "OIu9zTfFovAy",
        "outputId": "b18221c0-3c79-4eb5-8bac-9c4c79867f5a"
      },
      "source": [
        "print(ridge_regressor.best_params_)\n",
        "print(ridge_regressor.best_score_)"
      ],
      "execution_count": 42,
      "outputs": [
        {
          "output_type": "stream",
          "text": [
            "{'alpha': 0.01}\n",
            "-125688467.07824266\n"
          ],
          "name": "stdout"
        }
      ]
    },
    {
      "cell_type": "code",
      "metadata": {
        "id": "B8L_5xb2pyq3"
      },
      "source": [
        "# Predicting the Test set results.\n",
        "ridge_pred = ridge_regressor.predict(X_test)"
      ],
      "execution_count": 43,
      "outputs": []
    },
    {
      "cell_type": "code",
      "metadata": {
        "colab": {
          "base_uri": "https://localhost:8080/"
        },
        "id": "bFbUtbtIqHeW",
        "outputId": "f31df954-0da9-48e3-e07a-e837a186e384"
      },
      "source": [
        "# Calculating the Mean-Squared Error.\n",
        "from sklearn.metrics import mean_squared_error\n",
        "print(\"Mean-Squared Error (MSE) is\", mean_squared_error(y_test, ridge_pred))\n",
        "\n",
        "# Calculating the Mean-Absolute Error.\n",
        "from sklearn.metrics import mean_absolute_error\n",
        "print(\"Mean-Absolute Error (MAE) is\", mean_absolute_error(y_test, ridge_pred))\n",
        "\n",
        "# Calculating the Mean-Squared Log Error.\n",
        "from sklearn.metrics import mean_squared_log_error\n",
        "print(\"Mean-Squared Log Error is\", mean_squared_log_error(y_test, ridge_pred))\n",
        "\n",
        "# Calculating the Explained Variance Score.\n",
        "from sklearn.metrics import explained_variance_score\n",
        "print(\"Explained Variance Score is\", explained_variance_score(y_test, ridge_pred))\n",
        "\n",
        "# Calculating the R2 Score.\n",
        "from sklearn.metrics import r2_score\n",
        "print(\"R2 Score is\", r2_score(y_test, ridge_pred))"
      ],
      "execution_count": 44,
      "outputs": [
        {
          "output_type": "stream",
          "text": [
            "Mean-Squared Error (MSE) is 83654974.84968407\n",
            "Mean-Absolute Error (MAE) is 7518.756152545879\n",
            "Mean-Squared Log Error is 0.007134978449003458\n",
            "Explained Variance Score is 0.9468199534447763\n",
            "R2 Score is 0.9345879077574932\n"
          ],
          "name": "stdout"
        }
      ]
    },
    {
      "cell_type": "markdown",
      "metadata": {
        "id": "BX7-TN1ho4mf"
      },
      "source": [
        "# **Lasso Regression**\n",
        "\n",
        "[sklearn.linear_model.Lasso](https://scikit-learn.org/stable/modules/generated/sklearn.linear_model.Lasso.html)"
      ]
    },
    {
      "cell_type": "code",
      "metadata": {
        "colab": {
          "base_uri": "https://localhost:8080/"
        },
        "id": "8cr2YcHQo3vJ",
        "outputId": "724118e4-26dc-4a91-e525-e3e8a8a21a08"
      },
      "source": [
        "from sklearn.linear_model import Lasso\n",
        "from sklearn.model_selection import GridSearchCV\n",
        "lasso = Lasso()\n",
        "parameters = {'alpha':[1e-15, 1e-10, 1e-8, 1e-3, 1e-2, 1, 5, 10, 20, 30, 35, 40, 45, 50, 55, 100]}\n",
        "lasso_regressor = GridSearchCV(lasso, parameters, scoring = 'neg_mean_squared_error', cv = 10)\n",
        "lasso_regressor.fit(X_train, y_train)"
      ],
      "execution_count": 45,
      "outputs": [
        {
          "output_type": "stream",
          "text": [
            "/usr/local/lib/python3.7/dist-packages/sklearn/linear_model/_coordinate_descent.py:476: ConvergenceWarning: Objective did not converge. You might want to increase the number of iterations. Duality gap: 1573879127.4538608, tolerance: 6494510.795479109\n",
            "  positive)\n",
            "/usr/local/lib/python3.7/dist-packages/sklearn/linear_model/_coordinate_descent.py:476: ConvergenceWarning: Objective did not converge. You might want to increase the number of iterations. Duality gap: 1240122755.387203, tolerance: 6057273.98109997\n",
            "  positive)\n",
            "/usr/local/lib/python3.7/dist-packages/sklearn/linear_model/_coordinate_descent.py:476: ConvergenceWarning: Objective did not converge. You might want to increase the number of iterations. Duality gap: 1405671990.8522482, tolerance: 5933461.974206928\n",
            "  positive)\n",
            "/usr/local/lib/python3.7/dist-packages/sklearn/linear_model/_coordinate_descent.py:476: ConvergenceWarning: Objective did not converge. You might want to increase the number of iterations. Duality gap: 1558962712.8624473, tolerance: 6350976.540512475\n",
            "  positive)\n",
            "/usr/local/lib/python3.7/dist-packages/sklearn/linear_model/_coordinate_descent.py:476: ConvergenceWarning: Objective did not converge. You might want to increase the number of iterations. Duality gap: 1541077227.4813972, tolerance: 6145400.497548867\n",
            "  positive)\n",
            "/usr/local/lib/python3.7/dist-packages/sklearn/linear_model/_coordinate_descent.py:476: ConvergenceWarning: Objective did not converge. You might want to increase the number of iterations. Duality gap: 976708862.3259125, tolerance: 5292198.9649021635\n",
            "  positive)\n",
            "/usr/local/lib/python3.7/dist-packages/sklearn/linear_model/_coordinate_descent.py:476: ConvergenceWarning: Objective did not converge. You might want to increase the number of iterations. Duality gap: 1498436425.8096468, tolerance: 5705824.1251770025\n",
            "  positive)\n",
            "/usr/local/lib/python3.7/dist-packages/sklearn/linear_model/_coordinate_descent.py:476: ConvergenceWarning: Objective did not converge. You might want to increase the number of iterations. Duality gap: 1451380358.5855272, tolerance: 6294155.809373311\n",
            "  positive)\n",
            "/usr/local/lib/python3.7/dist-packages/sklearn/linear_model/_coordinate_descent.py:476: ConvergenceWarning: Objective did not converge. You might want to increase the number of iterations. Duality gap: 1521360984.550481, tolerance: 5925885.0653771795\n",
            "  positive)\n",
            "/usr/local/lib/python3.7/dist-packages/sklearn/linear_model/_coordinate_descent.py:476: ConvergenceWarning: Objective did not converge. You might want to increase the number of iterations. Duality gap: 1550082254.5435672, tolerance: 4675658.436816324\n",
            "  positive)\n",
            "/usr/local/lib/python3.7/dist-packages/sklearn/linear_model/_coordinate_descent.py:476: ConvergenceWarning: Objective did not converge. You might want to increase the number of iterations. Duality gap: 48382260.43628669, tolerance: 5292198.9649021635\n",
            "  positive)\n",
            "/usr/local/lib/python3.7/dist-packages/sklearn/linear_model/_coordinate_descent.py:476: ConvergenceWarning: Objective did not converge. You might want to increase the number of iterations. Duality gap: 61172486.749248505, tolerance: 6294155.809373311\n",
            "  positive)\n",
            "/usr/local/lib/python3.7/dist-packages/sklearn/linear_model/_coordinate_descent.py:476: ConvergenceWarning: Objective did not converge. You might want to increase the number of iterations. Duality gap: 74606222.84570312, tolerance: 5925885.0653771795\n",
            "  positive)\n",
            "/usr/local/lib/python3.7/dist-packages/sklearn/linear_model/_coordinate_descent.py:476: ConvergenceWarning: Objective did not converge. You might want to increase the number of iterations. Duality gap: 77943700.44875479, tolerance: 4675658.436816324\n",
            "  positive)\n",
            "/usr/local/lib/python3.7/dist-packages/sklearn/linear_model/_coordinate_descent.py:476: ConvergenceWarning: Objective did not converge. You might want to increase the number of iterations. Duality gap: 49144667.96657443, tolerance: 5292198.9649021635\n",
            "  positive)\n",
            "/usr/local/lib/python3.7/dist-packages/sklearn/linear_model/_coordinate_descent.py:476: ConvergenceWarning: Objective did not converge. You might want to increase the number of iterations. Duality gap: 60328775.61333704, tolerance: 6294155.809373311\n",
            "  positive)\n",
            "/usr/local/lib/python3.7/dist-packages/sklearn/linear_model/_coordinate_descent.py:476: ConvergenceWarning: Objective did not converge. You might want to increase the number of iterations. Duality gap: 74366894.44756794, tolerance: 5925885.0653771795\n",
            "  positive)\n",
            "/usr/local/lib/python3.7/dist-packages/sklearn/linear_model/_coordinate_descent.py:476: ConvergenceWarning: Objective did not converge. You might want to increase the number of iterations. Duality gap: 77983883.7803297, tolerance: 4675658.436816324\n",
            "  positive)\n",
            "/usr/local/lib/python3.7/dist-packages/sklearn/linear_model/_coordinate_descent.py:476: ConvergenceWarning: Objective did not converge. You might want to increase the number of iterations. Duality gap: 49143899.57669759, tolerance: 5292198.9649021635\n",
            "  positive)\n",
            "/usr/local/lib/python3.7/dist-packages/sklearn/linear_model/_coordinate_descent.py:476: ConvergenceWarning: Objective did not converge. You might want to increase the number of iterations. Duality gap: 60335089.77106953, tolerance: 6294155.809373311\n",
            "  positive)\n",
            "/usr/local/lib/python3.7/dist-packages/sklearn/linear_model/_coordinate_descent.py:476: ConvergenceWarning: Objective did not converge. You might want to increase the number of iterations. Duality gap: 74370637.03082323, tolerance: 5925885.0653771795\n",
            "  positive)\n",
            "/usr/local/lib/python3.7/dist-packages/sklearn/linear_model/_coordinate_descent.py:476: ConvergenceWarning: Objective did not converge. You might want to increase the number of iterations. Duality gap: 77990918.16142654, tolerance: 4675658.436816324\n",
            "  positive)\n",
            "/usr/local/lib/python3.7/dist-packages/sklearn/linear_model/_coordinate_descent.py:476: ConvergenceWarning: Objective did not converge. You might want to increase the number of iterations. Duality gap: 49146959.68014455, tolerance: 5292198.9649021635\n",
            "  positive)\n",
            "/usr/local/lib/python3.7/dist-packages/sklearn/linear_model/_coordinate_descent.py:476: ConvergenceWarning: Objective did not converge. You might want to increase the number of iterations. Duality gap: 60337848.91921902, tolerance: 6294155.809373311\n",
            "  positive)\n",
            "/usr/local/lib/python3.7/dist-packages/sklearn/linear_model/_coordinate_descent.py:476: ConvergenceWarning: Objective did not converge. You might want to increase the number of iterations. Duality gap: 74373574.84965897, tolerance: 5925885.0653771795\n",
            "  positive)\n",
            "/usr/local/lib/python3.7/dist-packages/sklearn/linear_model/_coordinate_descent.py:476: ConvergenceWarning: Objective did not converge. You might want to increase the number of iterations. Duality gap: 77993917.25582361, tolerance: 4675658.436816324\n",
            "  positive)\n"
          ],
          "name": "stderr"
        },
        {
          "output_type": "execute_result",
          "data": {
            "text/plain": [
              "GridSearchCV(cv=10, error_score=nan,\n",
              "             estimator=Lasso(alpha=1.0, copy_X=True, fit_intercept=True,\n",
              "                             max_iter=1000, normalize=False, positive=False,\n",
              "                             precompute=False, random_state=None,\n",
              "                             selection='cyclic', tol=0.0001, warm_start=False),\n",
              "             iid='deprecated', n_jobs=None,\n",
              "             param_grid={'alpha': [1e-15, 1e-10, 1e-08, 0.001, 0.01, 1, 5, 10,\n",
              "                                   20, 30, 35, 40, 45, 50, 55, 100]},\n",
              "             pre_dispatch='2*n_jobs', refit=True, return_train_score=False,\n",
              "             scoring='neg_mean_squared_error', verbose=0)"
            ]
          },
          "metadata": {
            "tags": []
          },
          "execution_count": 45
        }
      ]
    },
    {
      "cell_type": "code",
      "metadata": {
        "colab": {
          "base_uri": "https://localhost:8080/"
        },
        "id": "TiWAF1hAph7B",
        "outputId": "91c572e9-c571-4976-f880-62c525df32d8"
      },
      "source": [
        "print(lasso_regressor.best_params_)\n",
        "print(lasso_regressor.best_score_)"
      ],
      "execution_count": 46,
      "outputs": [
        {
          "output_type": "stream",
          "text": [
            "{'alpha': 100}\n",
            "-123534532.97612849\n"
          ],
          "name": "stdout"
        }
      ]
    },
    {
      "cell_type": "code",
      "metadata": {
        "id": "rKZ2oBlhp66A"
      },
      "source": [
        "# Predicting the Test set results.\n",
        "lasso_pred = lasso_regressor.predict(X_test)"
      ],
      "execution_count": 47,
      "outputs": []
    },
    {
      "cell_type": "code",
      "metadata": {
        "colab": {
          "base_uri": "https://localhost:8080/"
        },
        "id": "yWmbVS0OqImW",
        "outputId": "e5fbb02f-bca7-4d69-cd3f-5bf4ae6f5929"
      },
      "source": [
        "# Calculating the Mean-Squared Error.\n",
        "from sklearn.metrics import mean_squared_error\n",
        "print(\"Mean-Squared Error (MSE) is\", mean_squared_error(y_test, lasso_pred))\n",
        "\n",
        "# Calculating the Mean-Absolute Error.\n",
        "from sklearn.metrics import mean_absolute_error\n",
        "print(\"Mean-Absolute Error (MAE) is\", mean_absolute_error(y_test, lasso_pred))\n",
        "\n",
        "# Calculating the Mean-Squared Log Error.\n",
        "from sklearn.metrics import mean_squared_log_error\n",
        "print(\"Mean-Squared Log Error is\", mean_squared_log_error(y_test, lasso_pred))\n",
        "\n",
        "# Calculating the Explained Variance Score.\n",
        "from sklearn.metrics import explained_variance_score\n",
        "print(\"Explained Variance Score is\", explained_variance_score(y_test, lasso_pred))\n",
        "\n",
        "# Calculating the R2 Score.\n",
        "from sklearn.metrics import r2_score\n",
        "print(\"R2 Score is\", r2_score(y_test, lasso_pred))"
      ],
      "execution_count": 48,
      "outputs": [
        {
          "output_type": "stream",
          "text": [
            "Mean-Squared Error (MSE) is 80646221.9395118\n",
            "Mean-Absolute Error (MAE) is 7388.16193079923\n",
            "Mean-Squared Log Error is 0.0068806889510902415\n",
            "Explained Variance Score is 0.9485186499591459\n",
            "R2 Score is 0.9369405332080266\n"
          ],
          "name": "stdout"
        }
      ]
    }
  ]
}