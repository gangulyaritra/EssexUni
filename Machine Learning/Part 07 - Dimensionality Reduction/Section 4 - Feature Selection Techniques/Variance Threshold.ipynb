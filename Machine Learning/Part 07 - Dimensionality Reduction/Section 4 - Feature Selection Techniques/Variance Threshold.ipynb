{
  "nbformat": 4,
  "nbformat_minor": 0,
  "metadata": {
    "colab": {
      "name": "Variance Threshold.ipynb",
      "provenance": []
    },
    "kernelspec": {
      "name": "python3",
      "display_name": "Python 3"
    },
    "language_info": {
      "name": "python"
    }
  },
  "cells": [
    {
      "cell_type": "code",
      "metadata": {
        "colab": {
          "base_uri": "https://localhost:8080/",
          "height": 415
        },
        "id": "p_BxOTpfZ8do",
        "outputId": "9af9d0d3-f5a0-4a59-f993-b2f803173f20"
      },
      "source": [
        "import pandas as pd\n",
        "\n",
        "data = pd.read_csv(\"CE802_Ass_2019_Data.csv\")\n",
        "data"
      ],
      "execution_count": 1,
      "outputs": [
        {
          "output_type": "execute_result",
          "data": {
            "text/html": [
              "<div>\n",
              "<style scoped>\n",
              "    .dataframe tbody tr th:only-of-type {\n",
              "        vertical-align: middle;\n",
              "    }\n",
              "\n",
              "    .dataframe tbody tr th {\n",
              "        vertical-align: top;\n",
              "    }\n",
              "\n",
              "    .dataframe thead th {\n",
              "        text-align: right;\n",
              "    }\n",
              "</style>\n",
              "<table border=\"1\" class=\"dataframe\">\n",
              "  <thead>\n",
              "    <tr style=\"text-align: right;\">\n",
              "      <th></th>\n",
              "      <th>F1</th>\n",
              "      <th>F2</th>\n",
              "      <th>F3</th>\n",
              "      <th>F4</th>\n",
              "      <th>F5</th>\n",
              "      <th>F6</th>\n",
              "      <th>F7</th>\n",
              "      <th>F8</th>\n",
              "      <th>F9</th>\n",
              "      <th>F10</th>\n",
              "      <th>F11</th>\n",
              "      <th>F12</th>\n",
              "      <th>F13</th>\n",
              "      <th>F14</th>\n",
              "      <th>F15</th>\n",
              "      <th>F16</th>\n",
              "      <th>F17</th>\n",
              "      <th>F18</th>\n",
              "      <th>F19</th>\n",
              "      <th>F20</th>\n",
              "      <th>Class</th>\n",
              "    </tr>\n",
              "  </thead>\n",
              "  <tbody>\n",
              "    <tr>\n",
              "      <th>0</th>\n",
              "      <td>0</td>\n",
              "      <td>0</td>\n",
              "      <td>16</td>\n",
              "      <td>2.02</td>\n",
              "      <td>0.52</td>\n",
              "      <td>-2.35</td>\n",
              "      <td>-1.98</td>\n",
              "      <td>-0.70</td>\n",
              "      <td>85</td>\n",
              "      <td>6</td>\n",
              "      <td>-2.07</td>\n",
              "      <td>-0.07</td>\n",
              "      <td>1.08</td>\n",
              "      <td>15</td>\n",
              "      <td>-0.63</td>\n",
              "      <td>-3.49</td>\n",
              "      <td>-1.68</td>\n",
              "      <td>0.02</td>\n",
              "      <td>15.3</td>\n",
              "      <td>NaN</td>\n",
              "      <td>True</td>\n",
              "    </tr>\n",
              "    <tr>\n",
              "      <th>1</th>\n",
              "      <td>0</td>\n",
              "      <td>0</td>\n",
              "      <td>86</td>\n",
              "      <td>-0.90</td>\n",
              "      <td>2.75</td>\n",
              "      <td>0.14</td>\n",
              "      <td>0.83</td>\n",
              "      <td>-0.06</td>\n",
              "      <td>107</td>\n",
              "      <td>1</td>\n",
              "      <td>-0.86</td>\n",
              "      <td>0.17</td>\n",
              "      <td>1.06</td>\n",
              "      <td>-8</td>\n",
              "      <td>-1.21</td>\n",
              "      <td>0.34</td>\n",
              "      <td>0.36</td>\n",
              "      <td>0.61</td>\n",
              "      <td>10.1</td>\n",
              "      <td>NaN</td>\n",
              "      <td>True</td>\n",
              "    </tr>\n",
              "    <tr>\n",
              "      <th>2</th>\n",
              "      <td>1</td>\n",
              "      <td>1</td>\n",
              "      <td>165</td>\n",
              "      <td>0.73</td>\n",
              "      <td>1.05</td>\n",
              "      <td>0.10</td>\n",
              "      <td>2.57</td>\n",
              "      <td>-1.65</td>\n",
              "      <td>41</td>\n",
              "      <td>5</td>\n",
              "      <td>0.08</td>\n",
              "      <td>0.04</td>\n",
              "      <td>0.42</td>\n",
              "      <td>-6</td>\n",
              "      <td>-0.46</td>\n",
              "      <td>-0.62</td>\n",
              "      <td>1.67</td>\n",
              "      <td>2.60</td>\n",
              "      <td>11.0</td>\n",
              "      <td>1.55</td>\n",
              "      <td>False</td>\n",
              "    </tr>\n",
              "    <tr>\n",
              "      <th>3</th>\n",
              "      <td>1</td>\n",
              "      <td>1</td>\n",
              "      <td>191</td>\n",
              "      <td>-1.50</td>\n",
              "      <td>0.79</td>\n",
              "      <td>0.33</td>\n",
              "      <td>1.24</td>\n",
              "      <td>1.35</td>\n",
              "      <td>17</td>\n",
              "      <td>2</td>\n",
              "      <td>-0.85</td>\n",
              "      <td>1.74</td>\n",
              "      <td>1.74</td>\n",
              "      <td>15</td>\n",
              "      <td>0.47</td>\n",
              "      <td>0.63</td>\n",
              "      <td>0.08</td>\n",
              "      <td>0.19</td>\n",
              "      <td>6.3</td>\n",
              "      <td>0.95</td>\n",
              "      <td>False</td>\n",
              "    </tr>\n",
              "    <tr>\n",
              "      <th>4</th>\n",
              "      <td>1</td>\n",
              "      <td>1</td>\n",
              "      <td>13</td>\n",
              "      <td>0.25</td>\n",
              "      <td>-1.19</td>\n",
              "      <td>-0.90</td>\n",
              "      <td>2.67</td>\n",
              "      <td>0.22</td>\n",
              "      <td>12</td>\n",
              "      <td>8</td>\n",
              "      <td>0.68</td>\n",
              "      <td>-0.39</td>\n",
              "      <td>1.25</td>\n",
              "      <td>25</td>\n",
              "      <td>-0.09</td>\n",
              "      <td>-2.41</td>\n",
              "      <td>-0.53</td>\n",
              "      <td>-0.77</td>\n",
              "      <td>10.5</td>\n",
              "      <td>NaN</td>\n",
              "      <td>True</td>\n",
              "    </tr>\n",
              "    <tr>\n",
              "      <th>...</th>\n",
              "      <td>...</td>\n",
              "      <td>...</td>\n",
              "      <td>...</td>\n",
              "      <td>...</td>\n",
              "      <td>...</td>\n",
              "      <td>...</td>\n",
              "      <td>...</td>\n",
              "      <td>...</td>\n",
              "      <td>...</td>\n",
              "      <td>...</td>\n",
              "      <td>...</td>\n",
              "      <td>...</td>\n",
              "      <td>...</td>\n",
              "      <td>...</td>\n",
              "      <td>...</td>\n",
              "      <td>...</td>\n",
              "      <td>...</td>\n",
              "      <td>...</td>\n",
              "      <td>...</td>\n",
              "      <td>...</td>\n",
              "      <td>...</td>\n",
              "    </tr>\n",
              "    <tr>\n",
              "      <th>495</th>\n",
              "      <td>1</td>\n",
              "      <td>1</td>\n",
              "      <td>138</td>\n",
              "      <td>1.36</td>\n",
              "      <td>0.40</td>\n",
              "      <td>1.05</td>\n",
              "      <td>4.00</td>\n",
              "      <td>0.87</td>\n",
              "      <td>36</td>\n",
              "      <td>16</td>\n",
              "      <td>0.27</td>\n",
              "      <td>-0.93</td>\n",
              "      <td>0.70</td>\n",
              "      <td>23</td>\n",
              "      <td>0.23</td>\n",
              "      <td>-1.24</td>\n",
              "      <td>-0.65</td>\n",
              "      <td>1.26</td>\n",
              "      <td>20.9</td>\n",
              "      <td>2.87</td>\n",
              "      <td>True</td>\n",
              "    </tr>\n",
              "    <tr>\n",
              "      <th>496</th>\n",
              "      <td>0</td>\n",
              "      <td>0</td>\n",
              "      <td>102</td>\n",
              "      <td>2.06</td>\n",
              "      <td>0.09</td>\n",
              "      <td>0.84</td>\n",
              "      <td>3.63</td>\n",
              "      <td>1.22</td>\n",
              "      <td>57</td>\n",
              "      <td>-2</td>\n",
              "      <td>-0.32</td>\n",
              "      <td>-0.38</td>\n",
              "      <td>0.56</td>\n",
              "      <td>-6</td>\n",
              "      <td>-0.08</td>\n",
              "      <td>-1.29</td>\n",
              "      <td>-0.03</td>\n",
              "      <td>0.47</td>\n",
              "      <td>19.6</td>\n",
              "      <td>1.83</td>\n",
              "      <td>False</td>\n",
              "    </tr>\n",
              "    <tr>\n",
              "      <th>497</th>\n",
              "      <td>1</td>\n",
              "      <td>0</td>\n",
              "      <td>211</td>\n",
              "      <td>0.18</td>\n",
              "      <td>1.71</td>\n",
              "      <td>0.30</td>\n",
              "      <td>1.22</td>\n",
              "      <td>1.16</td>\n",
              "      <td>47</td>\n",
              "      <td>-49</td>\n",
              "      <td>-0.21</td>\n",
              "      <td>-0.77</td>\n",
              "      <td>0.78</td>\n",
              "      <td>7</td>\n",
              "      <td>-0.27</td>\n",
              "      <td>-0.45</td>\n",
              "      <td>-0.89</td>\n",
              "      <td>0.00</td>\n",
              "      <td>5.9</td>\n",
              "      <td>-1.03</td>\n",
              "      <td>False</td>\n",
              "    </tr>\n",
              "    <tr>\n",
              "      <th>498</th>\n",
              "      <td>1</td>\n",
              "      <td>0</td>\n",
              "      <td>94</td>\n",
              "      <td>-0.86</td>\n",
              "      <td>1.06</td>\n",
              "      <td>0.66</td>\n",
              "      <td>1.25</td>\n",
              "      <td>1.25</td>\n",
              "      <td>23</td>\n",
              "      <td>5</td>\n",
              "      <td>-0.10</td>\n",
              "      <td>0.68</td>\n",
              "      <td>0.11</td>\n",
              "      <td>-8</td>\n",
              "      <td>0.42</td>\n",
              "      <td>1.58</td>\n",
              "      <td>-0.79</td>\n",
              "      <td>-1.20</td>\n",
              "      <td>6.4</td>\n",
              "      <td>NaN</td>\n",
              "      <td>True</td>\n",
              "    </tr>\n",
              "    <tr>\n",
              "      <th>499</th>\n",
              "      <td>1</td>\n",
              "      <td>1</td>\n",
              "      <td>104</td>\n",
              "      <td>0.23</td>\n",
              "      <td>1.72</td>\n",
              "      <td>-1.41</td>\n",
              "      <td>3.46</td>\n",
              "      <td>0.54</td>\n",
              "      <td>31</td>\n",
              "      <td>-19</td>\n",
              "      <td>0.92</td>\n",
              "      <td>-0.77</td>\n",
              "      <td>1.84</td>\n",
              "      <td>-13</td>\n",
              "      <td>1.37</td>\n",
              "      <td>-1.56</td>\n",
              "      <td>0.11</td>\n",
              "      <td>-0.01</td>\n",
              "      <td>18.3</td>\n",
              "      <td>3.65</td>\n",
              "      <td>True</td>\n",
              "    </tr>\n",
              "  </tbody>\n",
              "</table>\n",
              "<p>500 rows × 21 columns</p>\n",
              "</div>"
            ],
            "text/plain": [
              "     F1  F2   F3    F4    F5    F6  ...   F16   F17   F18   F19   F20  Class\n",
              "0     0   0   16  2.02  0.52 -2.35  ... -3.49 -1.68  0.02  15.3   NaN   True\n",
              "1     0   0   86 -0.90  2.75  0.14  ...  0.34  0.36  0.61  10.1   NaN   True\n",
              "2     1   1  165  0.73  1.05  0.10  ... -0.62  1.67  2.60  11.0  1.55  False\n",
              "3     1   1  191 -1.50  0.79  0.33  ...  0.63  0.08  0.19   6.3  0.95  False\n",
              "4     1   1   13  0.25 -1.19 -0.90  ... -2.41 -0.53 -0.77  10.5   NaN   True\n",
              "..   ..  ..  ...   ...   ...   ...  ...   ...   ...   ...   ...   ...    ...\n",
              "495   1   1  138  1.36  0.40  1.05  ... -1.24 -0.65  1.26  20.9  2.87   True\n",
              "496   0   0  102  2.06  0.09  0.84  ... -1.29 -0.03  0.47  19.6  1.83  False\n",
              "497   1   0  211  0.18  1.71  0.30  ... -0.45 -0.89  0.00   5.9 -1.03  False\n",
              "498   1   0   94 -0.86  1.06  0.66  ...  1.58 -0.79 -1.20   6.4   NaN   True\n",
              "499   1   1  104  0.23  1.72 -1.41  ... -1.56  0.11 -0.01  18.3  3.65   True\n",
              "\n",
              "[500 rows x 21 columns]"
            ]
          },
          "metadata": {
            "tags": []
          },
          "execution_count": 1
        }
      ]
    },
    {
      "cell_type": "code",
      "metadata": {
        "colab": {
          "base_uri": "https://localhost:8080/"
        },
        "id": "bs-Fyh5XaQni",
        "outputId": "8df7234c-91d9-4072-f87a-adfb401b6d75"
      },
      "source": [
        "df = data.drop(labels=['F20', 'Class'], axis=1) # Drop dependent variable ('Class') and missing_value feature ('F20').\n",
        "df.shape  # Shape of the dataset."
      ],
      "execution_count": 2,
      "outputs": [
        {
          "output_type": "execute_result",
          "data": {
            "text/plain": [
              "(500, 19)"
            ]
          },
          "metadata": {
            "tags": []
          },
          "execution_count": 2
        }
      ]
    },
    {
      "cell_type": "markdown",
      "metadata": {
        "id": "oz1N4CfAb-9m"
      },
      "source": [
        "# **Applying Variance Threshold.**"
      ]
    },
    {
      "cell_type": "markdown",
      "metadata": {
        "id": "m9fwu5B7iBbP"
      },
      "source": [
        "**Variance Threshold Feature Selector removes all low-variance features. This feature selection algorithm looks only at the features (X), not the desired output (y), and can thus be used for unsupervised learning.**\n",
        "\n",
        "**Parameters:-** *threshold : float, default=0*\n",
        "\n",
        "Features with a training-set variance lower than this threshold will be removed. The default is to keep all features with non-zero variance, i.e. remove the features that have the same value in all samples.\n",
        "\n",
        "[sklearn.feature_selection.VarianceThreshold](https://scikit-learn.org/stable/modules/generated/sklearn.feature_selection.VarianceThreshold.html)"
      ]
    },
    {
      "cell_type": "code",
      "metadata": {
        "colab": {
          "base_uri": "https://localhost:8080/"
        },
        "id": "kFoOzea0cH9V",
        "outputId": "9d03c0bf-6a3f-44f6-9a8a-7b96395661ec"
      },
      "source": [
        "from sklearn.feature_selection import VarianceThreshold\n",
        "var_threshold = VarianceThreshold(threshold=0.5)\n",
        "var_threshold.fit(df)\n",
        "\n",
        "var_threshold.get_support()"
      ],
      "execution_count": 3,
      "outputs": [
        {
          "output_type": "execute_result",
          "data": {
            "text/plain": [
              "array([False, False,  True,  True,  True,  True,  True,  True,  True,\n",
              "        True,  True,  True, False,  True,  True,  True,  True,  True,\n",
              "        True])"
            ]
          },
          "metadata": {
            "tags": []
          },
          "execution_count": 3
        }
      ]
    },
    {
      "cell_type": "code",
      "metadata": {
        "colab": {
          "base_uri": "https://localhost:8080/"
        },
        "id": "yq317LUrdkTh",
        "outputId": "54419aff-4de3-411a-f749-330727b1818f"
      },
      "source": [
        "print(sum(var_threshold.get_support())) # Total Feature Selection."
      ],
      "execution_count": 4,
      "outputs": [
        {
          "output_type": "stream",
          "text": [
            "16\n"
          ],
          "name": "stdout"
        }
      ]
    },
    {
      "cell_type": "code",
      "metadata": {
        "colab": {
          "base_uri": "https://localhost:8080/"
        },
        "id": "ZW63SrSGdym3",
        "outputId": "f10b810c-ecc2-4bfc-c132-dd88d51d9553"
      },
      "source": [
        "len(df.columns[var_threshold.get_support()])  # Total Feature Selection."
      ],
      "execution_count": 5,
      "outputs": [
        {
          "output_type": "execute_result",
          "data": {
            "text/plain": [
              "16"
            ]
          },
          "metadata": {
            "tags": []
          },
          "execution_count": 5
        }
      ]
    },
    {
      "cell_type": "code",
      "metadata": {
        "colab": {
          "base_uri": "https://localhost:8080/"
        },
        "id": "cYQLhrEDeBwm",
        "outputId": "f3d92c12-2b23-43d4-91fa-ad94bd3ea19b"
      },
      "source": [
        "constant_columns = [column for column in df.columns if column not in df.columns[var_threshold.get_support()]]\n",
        "print(len(constant_columns))  # Count of Rejected Features."
      ],
      "execution_count": 6,
      "outputs": [
        {
          "output_type": "stream",
          "text": [
            "3\n"
          ],
          "name": "stdout"
        }
      ]
    },
    {
      "cell_type": "code",
      "metadata": {
        "colab": {
          "base_uri": "https://localhost:8080/"
        },
        "id": "T87xHP1DeSFH",
        "outputId": "34d67a43-f494-4e7b-f998-826ba414e7ba"
      },
      "source": [
        "for column in constant_columns:\n",
        "  print(column) # List of Rejected Features."
      ],
      "execution_count": 7,
      "outputs": [
        {
          "output_type": "stream",
          "text": [
            "F1\n",
            "F2\n",
            "F13\n"
          ],
          "name": "stdout"
        }
      ]
    },
    {
      "cell_type": "code",
      "metadata": {
        "colab": {
          "base_uri": "https://localhost:8080/"
        },
        "id": "_iZ-wIakgEFe",
        "outputId": "5530d037-ac44-480e-c3b8-8b7c45d3ddcb"
      },
      "source": [
        "new_df = df.drop(constant_columns, axis=1) # Drop Selected Features below threshold value.\n",
        "new_df.shape  # Shape of the new dataset."
      ],
      "execution_count": 8,
      "outputs": [
        {
          "output_type": "execute_result",
          "data": {
            "text/plain": [
              "(500, 16)"
            ]
          },
          "metadata": {
            "tags": []
          },
          "execution_count": 8
        }
      ]
    }
  ]
}