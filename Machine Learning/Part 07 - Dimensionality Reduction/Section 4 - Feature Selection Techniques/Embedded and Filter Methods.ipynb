{
  "nbformat": 4,
  "nbformat_minor": 0,
  "metadata": {
    "colab": {
      "name": "Embedded and Filter Methods.ipynb",
      "provenance": []
    },
    "kernelspec": {
      "name": "python3",
      "display_name": "Python 3"
    },
    "language_info": {
      "name": "python"
    }
  },
  "cells": [
    {
      "cell_type": "code",
      "metadata": {
        "colab": {
          "base_uri": "https://localhost:8080/",
          "height": 202
        },
        "id": "p_BxOTpfZ8do",
        "outputId": "5376e099-a625-4e3f-8dff-8450b5c9a45b"
      },
      "source": [
        "import pandas as pd\n",
        "\n",
        "data = pd.read_csv(\"CE802_Ass_2019_Data.csv\")\n",
        "data.head()"
      ],
      "execution_count": 1,
      "outputs": [
        {
          "output_type": "execute_result",
          "data": {
            "text/html": [
              "<div>\n",
              "<style scoped>\n",
              "    .dataframe tbody tr th:only-of-type {\n",
              "        vertical-align: middle;\n",
              "    }\n",
              "\n",
              "    .dataframe tbody tr th {\n",
              "        vertical-align: top;\n",
              "    }\n",
              "\n",
              "    .dataframe thead th {\n",
              "        text-align: right;\n",
              "    }\n",
              "</style>\n",
              "<table border=\"1\" class=\"dataframe\">\n",
              "  <thead>\n",
              "    <tr style=\"text-align: right;\">\n",
              "      <th></th>\n",
              "      <th>F1</th>\n",
              "      <th>F2</th>\n",
              "      <th>F3</th>\n",
              "      <th>F4</th>\n",
              "      <th>F5</th>\n",
              "      <th>F6</th>\n",
              "      <th>F7</th>\n",
              "      <th>F8</th>\n",
              "      <th>F9</th>\n",
              "      <th>F10</th>\n",
              "      <th>F11</th>\n",
              "      <th>F12</th>\n",
              "      <th>F13</th>\n",
              "      <th>F14</th>\n",
              "      <th>F15</th>\n",
              "      <th>F16</th>\n",
              "      <th>F17</th>\n",
              "      <th>F18</th>\n",
              "      <th>F19</th>\n",
              "      <th>F20</th>\n",
              "      <th>Class</th>\n",
              "    </tr>\n",
              "  </thead>\n",
              "  <tbody>\n",
              "    <tr>\n",
              "      <th>0</th>\n",
              "      <td>0</td>\n",
              "      <td>0</td>\n",
              "      <td>16</td>\n",
              "      <td>2.02</td>\n",
              "      <td>0.52</td>\n",
              "      <td>-2.35</td>\n",
              "      <td>-1.98</td>\n",
              "      <td>-0.70</td>\n",
              "      <td>85</td>\n",
              "      <td>6</td>\n",
              "      <td>-2.07</td>\n",
              "      <td>-0.07</td>\n",
              "      <td>1.08</td>\n",
              "      <td>15</td>\n",
              "      <td>-0.63</td>\n",
              "      <td>-3.49</td>\n",
              "      <td>-1.68</td>\n",
              "      <td>0.02</td>\n",
              "      <td>15.3</td>\n",
              "      <td>NaN</td>\n",
              "      <td>True</td>\n",
              "    </tr>\n",
              "    <tr>\n",
              "      <th>1</th>\n",
              "      <td>0</td>\n",
              "      <td>0</td>\n",
              "      <td>86</td>\n",
              "      <td>-0.90</td>\n",
              "      <td>2.75</td>\n",
              "      <td>0.14</td>\n",
              "      <td>0.83</td>\n",
              "      <td>-0.06</td>\n",
              "      <td>107</td>\n",
              "      <td>1</td>\n",
              "      <td>-0.86</td>\n",
              "      <td>0.17</td>\n",
              "      <td>1.06</td>\n",
              "      <td>-8</td>\n",
              "      <td>-1.21</td>\n",
              "      <td>0.34</td>\n",
              "      <td>0.36</td>\n",
              "      <td>0.61</td>\n",
              "      <td>10.1</td>\n",
              "      <td>NaN</td>\n",
              "      <td>True</td>\n",
              "    </tr>\n",
              "    <tr>\n",
              "      <th>2</th>\n",
              "      <td>1</td>\n",
              "      <td>1</td>\n",
              "      <td>165</td>\n",
              "      <td>0.73</td>\n",
              "      <td>1.05</td>\n",
              "      <td>0.10</td>\n",
              "      <td>2.57</td>\n",
              "      <td>-1.65</td>\n",
              "      <td>41</td>\n",
              "      <td>5</td>\n",
              "      <td>0.08</td>\n",
              "      <td>0.04</td>\n",
              "      <td>0.42</td>\n",
              "      <td>-6</td>\n",
              "      <td>-0.46</td>\n",
              "      <td>-0.62</td>\n",
              "      <td>1.67</td>\n",
              "      <td>2.60</td>\n",
              "      <td>11.0</td>\n",
              "      <td>1.55</td>\n",
              "      <td>False</td>\n",
              "    </tr>\n",
              "    <tr>\n",
              "      <th>3</th>\n",
              "      <td>1</td>\n",
              "      <td>1</td>\n",
              "      <td>191</td>\n",
              "      <td>-1.50</td>\n",
              "      <td>0.79</td>\n",
              "      <td>0.33</td>\n",
              "      <td>1.24</td>\n",
              "      <td>1.35</td>\n",
              "      <td>17</td>\n",
              "      <td>2</td>\n",
              "      <td>-0.85</td>\n",
              "      <td>1.74</td>\n",
              "      <td>1.74</td>\n",
              "      <td>15</td>\n",
              "      <td>0.47</td>\n",
              "      <td>0.63</td>\n",
              "      <td>0.08</td>\n",
              "      <td>0.19</td>\n",
              "      <td>6.3</td>\n",
              "      <td>0.95</td>\n",
              "      <td>False</td>\n",
              "    </tr>\n",
              "    <tr>\n",
              "      <th>4</th>\n",
              "      <td>1</td>\n",
              "      <td>1</td>\n",
              "      <td>13</td>\n",
              "      <td>0.25</td>\n",
              "      <td>-1.19</td>\n",
              "      <td>-0.90</td>\n",
              "      <td>2.67</td>\n",
              "      <td>0.22</td>\n",
              "      <td>12</td>\n",
              "      <td>8</td>\n",
              "      <td>0.68</td>\n",
              "      <td>-0.39</td>\n",
              "      <td>1.25</td>\n",
              "      <td>25</td>\n",
              "      <td>-0.09</td>\n",
              "      <td>-2.41</td>\n",
              "      <td>-0.53</td>\n",
              "      <td>-0.77</td>\n",
              "      <td>10.5</td>\n",
              "      <td>NaN</td>\n",
              "      <td>True</td>\n",
              "    </tr>\n",
              "  </tbody>\n",
              "</table>\n",
              "</div>"
            ],
            "text/plain": [
              "   F1  F2   F3    F4    F5    F6  ...   F16   F17   F18   F19   F20  Class\n",
              "0   0   0   16  2.02  0.52 -2.35  ... -3.49 -1.68  0.02  15.3   NaN   True\n",
              "1   0   0   86 -0.90  2.75  0.14  ...  0.34  0.36  0.61  10.1   NaN   True\n",
              "2   1   1  165  0.73  1.05  0.10  ... -0.62  1.67  2.60  11.0  1.55  False\n",
              "3   1   1  191 -1.50  0.79  0.33  ...  0.63  0.08  0.19   6.3  0.95  False\n",
              "4   1   1   13  0.25 -1.19 -0.90  ... -2.41 -0.53 -0.77  10.5   NaN   True\n",
              "\n",
              "[5 rows x 21 columns]"
            ]
          },
          "metadata": {
            "tags": []
          },
          "execution_count": 1
        }
      ]
    },
    {
      "cell_type": "code",
      "metadata": {
        "colab": {
          "base_uri": "https://localhost:8080/"
        },
        "id": "NCnIBiCj80nX",
        "outputId": "3b7d5ff7-36c6-417d-fa99-924cc593ed55"
      },
      "source": [
        "print(data.shape) # Shape of the dataset."
      ],
      "execution_count": 2,
      "outputs": [
        {
          "output_type": "stream",
          "text": [
            "(500, 21)\n"
          ],
          "name": "stdout"
        }
      ]
    },
    {
      "cell_type": "code",
      "metadata": {
        "id": "UlrXkNdV7aAm"
      },
      "source": [
        "data = data.fillna(data.mean()) # Imputation Using Mean Values."
      ],
      "execution_count": 3,
      "outputs": []
    },
    {
      "cell_type": "code",
      "metadata": {
        "id": "SXhe2k3W9L5c"
      },
      "source": [
        "# Split Dataset into Independent Features (X) and Dependent Features (y).\n",
        "X = data.iloc[:, :-1].values\n",
        "y = data.iloc[:, -1].values"
      ],
      "execution_count": 4,
      "outputs": []
    },
    {
      "cell_type": "markdown",
      "metadata": {
        "id": "iEfqNxqcAoCz"
      },
      "source": [
        "# **Embedded Methods**\n",
        "\n",
        "These methods encompass the benefits of both the wrapper and filter methods by including interactions of features but also maintaining reasonable computational cost. Embedded methods are iterative in the sense that takes care of each iteration of the model training process and carefully extract those features which contribute the most to the training for a particular iteration."
      ]
    },
    {
      "cell_type": "markdown",
      "metadata": {
        "id": "40Iyw0bQA2CJ"
      },
      "source": [
        "# **LASSO ($L^{1} $) based Feature Selection.**\n",
        "\n",
        "[Feature Selection using SelectFromModel](https://scikit-learn.org/stable/modules/feature_selection.html#feature-selection-using-selectfrommodel)"
      ]
    },
    {
      "cell_type": "code",
      "metadata": {
        "colab": {
          "base_uri": "https://localhost:8080/"
        },
        "id": "QAa1d_8VBFKC",
        "outputId": "0a3d1b4f-40d1-4936-8f6c-144c0ff383f0"
      },
      "source": [
        "from sklearn.linear_model import LogisticRegression\n",
        "from sklearn.feature_selection import SelectFromModel\n",
        "\n",
        "clf = LogisticRegression(C=1, penalty='l1', solver='liblinear', random_state=0).fit(X, y)\n",
        "model = SelectFromModel(clf, prefit=True)\n",
        "X_new = model.transform(X)\n",
        "X_new.shape"
      ],
      "execution_count": 5,
      "outputs": [
        {
          "output_type": "execute_result",
          "data": {
            "text/plain": [
              "(500, 19)"
            ]
          },
          "metadata": {
            "tags": []
          },
          "execution_count": 5
        }
      ]
    },
    {
      "cell_type": "markdown",
      "metadata": {
        "id": "o7NGnZ3OSJxG"
      },
      "source": [
        "# **Tree-based Feature Selection.**"
      ]
    },
    {
      "cell_type": "code",
      "metadata": {
        "colab": {
          "base_uri": "https://localhost:8080/"
        },
        "id": "ptdzIyMZSPNe",
        "outputId": "cdb73b0d-b429-479f-bac4-dbdbf767bf73"
      },
      "source": [
        "from sklearn.ensemble import ExtraTreesClassifier, RandomForestClassifier\n",
        "from sklearn.feature_selection import SelectFromModel\n",
        "\n",
        "clf = ExtraTreesClassifier(n_estimators=50, random_state = 1).fit(X, y)\n",
        "# clf = RandomForestClassifier(n_estimators=50, random_state = 1).fit(X, y)\n",
        "model = SelectFromModel(clf, prefit=True)\n",
        "X_new = model.transform(X)\n",
        "X_new.shape"
      ],
      "execution_count": 6,
      "outputs": [
        {
          "output_type": "execute_result",
          "data": {
            "text/plain": [
              "(500, 9)"
            ]
          },
          "metadata": {
            "tags": []
          },
          "execution_count": 6
        }
      ]
    },
    {
      "cell_type": "markdown",
      "metadata": {
        "id": "yjlInUlOUynF"
      },
      "source": [
        "# **Filter Methods.**\n",
        "\n",
        "1.   **Forward Selection:** Forward selection is an iterative method in which we start with having no feature in the model. In each iteration, we keep adding the feature which best improves our model till an addition of a new variable does not improve the performance of the model.\n",
        "2.   **Backward Elimination:** In backward elimination, we start with all the features and removes the least significant feature at each iteration which improves the performance of the model. We repeat this until no improvement is observed in the removal of features.\n",
        "3.   **Recursive Feature Elimination:** It is a greedy optimization algorithm that aims to find the best performing feature subset. It repeatedly creates models and keeps aside the best or the worst performing feature at each iteration. It constructs the next model with the left features until all the features are exhausted. It then ranks the features based on the order of their elimination.\n",
        "\n",
        "![filter.jpg](data:image/jpeg;base64,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)\n",
        "\n",
        "\n",
        "\n",
        "\n"
      ]
    },
    {
      "cell_type": "markdown",
      "metadata": {
        "id": "IauwSCOoLZ49"
      },
      "source": [
        "# **Feature Importance using Random Forest.**"
      ]
    },
    {
      "cell_type": "code",
      "metadata": {
        "colab": {
          "base_uri": "https://localhost:8080/",
          "height": 285
        },
        "id": "66KSjCUuDrEc",
        "outputId": "a142aaef-f0d0-4b58-c364-1651ec3f2e77"
      },
      "source": [
        "from sklearn.ensemble import RandomForestClassifier\n",
        "\n",
        "# Create Random Forest Classifier with different hyperparameters and fit the model.\n",
        "clf = RandomForestClassifier(random_state = 1).fit(X, y)\n",
        "\n",
        "# Find the importance score of all the features.\n",
        "importances = clf.feature_importances_\n",
        "\n",
        "# Create Dataframe for Visualization.\n",
        "final_df = pd.DataFrame({\"Features\": pd.DataFrame(X).columns, \"Importances\": importances})\n",
        "final_df.set_index('Importances')\n",
        "\n",
        "# Sort in Ascending Order.\n",
        "final_df = final_df.sort_values('Importances')\n",
        "\n",
        "# Plot the Feature Importance in Bar Graphs.\n",
        "final_df.plot.bar(color = 'teal')"
      ],
      "execution_count": 7,
      "outputs": [
        {
          "output_type": "execute_result",
          "data": {
            "text/plain": [
              "<matplotlib.axes._subplots.AxesSubplot at 0x7f647e441b10>"
            ]
          },
          "metadata": {
            "tags": []
          },
          "execution_count": 7
        },
        {
          "output_type": "display_data",
          "data": {
            "image/png": "[encoded data removed]",
            "text/plain": [
              "<Figure size 432x288 with 1 Axes>"
            ]
          },
          "metadata": {
            "tags": [],
            "needs_background": "light"
          }
        }
      ]
    },
    {
      "cell_type": "markdown",
      "metadata": {
        "id": "RBluooFzee3H"
      },
      "source": [
        "# **Feature Ranking with Recursive Feature Elimination.**\n",
        "\n",
        "Given an external estimator that assigns weights to features (e.g., the coefficients of a linear model), the goal of recursive feature elimination (RFE) is to select features by recursively considering smaller and smaller sets of features. First, the estimator is trained on the initial set of features and the importance of each feature is obtained either through any specific attribute or callable. Then, the least important features are pruned from the current set of features. That procedure is recursively repeated on the pruned set until the desired number of features to select is eventually reached.\n",
        "\n",
        "[sklearn.feature_selection.RFE](https://scikit-learn.org/stable/modules/generated/sklearn.feature_selection.RFE.html#sklearn.feature_selection.RFE)"
      ]
    },
    {
      "cell_type": "code",
      "metadata": {
        "colab": {
          "base_uri": "https://localhost:8080/"
        },
        "id": "eswA2fo_egqm",
        "outputId": "75a99eba-a988-4575-dc5d-81622818a56e"
      },
      "source": [
        "from sklearn.feature_selection import RFE\n",
        "from sklearn.svm import SVC\n",
        "\n",
        "estimator = SVC(kernel=\"linear\")\n",
        "selector = RFE(estimator, n_features_to_select=5, step=1).fit(X, y)\n",
        "print(selector.support_)\n",
        "print(selector.ranking_)"
      ],
      "execution_count": 8,
      "outputs": [
        {
          "output_type": "stream",
          "text": [
            "[ True  True False  True False False False False False False False False\n",
            "  True False False False False False False  True]\n",
            "[ 1  1 16  1 15 13  3 11 12 14  4  2  1 10  7  5  9  8  6  1]\n"
          ],
          "name": "stdout"
        }
      ]
    }
  ]
}