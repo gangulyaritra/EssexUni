{
  "nbformat": 4,
  "nbformat_minor": 0,
  "metadata": {
    "colab": {
      "name": "Chi-Square Test.ipynb",
      "provenance": []
    },
    "kernelspec": {
      "display_name": "Python 3",
      "name": "python3"
    },
    "language_info": {
      "name": "python"
    }
  },
  "cells": [
    {
      "cell_type": "code",
      "metadata": {
        "colab": {
          "base_uri": "https://localhost:8080/",
          "height": 222
        },
        "id": "p_BxOTpfZ8do",
        "outputId": "140fa8b1-acf7-401b-b6b9-fdaeda503d8d"
      },
      "source": [
        "import pandas as pd\n",
        "\n",
        "data = pd.read_csv(\"bank-additional-full.csv\", delimiter=\";\")\n",
        "data.head()"
      ],
      "execution_count": 22,
      "outputs": [
        {
          "output_type": "execute_result",
          "data": {
            "text/html": [
              "<div>\n",
              "<style scoped>\n",
              "    .dataframe tbody tr th:only-of-type {\n",
              "        vertical-align: middle;\n",
              "    }\n",
              "\n",
              "    .dataframe tbody tr th {\n",
              "        vertical-align: top;\n",
              "    }\n",
              "\n",
              "    .dataframe thead th {\n",
              "        text-align: right;\n",
              "    }\n",
              "</style>\n",
              "<table border=\"1\" class=\"dataframe\">\n",
              "  <thead>\n",
              "    <tr style=\"text-align: right;\">\n",
              "      <th></th>\n",
              "      <th>age</th>\n",
              "      <th>job</th>\n",
              "      <th>marital</th>\n",
              "      <th>education</th>\n",
              "      <th>default</th>\n",
              "      <th>housing</th>\n",
              "      <th>loan</th>\n",
              "      <th>contact</th>\n",
              "      <th>month</th>\n",
              "      <th>day_of_week</th>\n",
              "      <th>duration</th>\n",
              "      <th>campaign</th>\n",
              "      <th>pdays</th>\n",
              "      <th>previous</th>\n",
              "      <th>poutcome</th>\n",
              "      <th>emp.var.rate</th>\n",
              "      <th>cons.price.idx</th>\n",
              "      <th>cons.conf.idx</th>\n",
              "      <th>euribor3m</th>\n",
              "      <th>nr.employed</th>\n",
              "      <th>y</th>\n",
              "    </tr>\n",
              "  </thead>\n",
              "  <tbody>\n",
              "    <tr>\n",
              "      <th>0</th>\n",
              "      <td>56</td>\n",
              "      <td>housemaid</td>\n",
              "      <td>married</td>\n",
              "      <td>basic.4y</td>\n",
              "      <td>no</td>\n",
              "      <td>no</td>\n",
              "      <td>no</td>\n",
              "      <td>telephone</td>\n",
              "      <td>may</td>\n",
              "      <td>mon</td>\n",
              "      <td>261</td>\n",
              "      <td>1</td>\n",
              "      <td>999</td>\n",
              "      <td>0</td>\n",
              "      <td>nonexistent</td>\n",
              "      <td>1.1</td>\n",
              "      <td>93.994</td>\n",
              "      <td>-36.4</td>\n",
              "      <td>4.857</td>\n",
              "      <td>5191.0</td>\n",
              "      <td>no</td>\n",
              "    </tr>\n",
              "    <tr>\n",
              "      <th>1</th>\n",
              "      <td>57</td>\n",
              "      <td>services</td>\n",
              "      <td>married</td>\n",
              "      <td>high.school</td>\n",
              "      <td>unknown</td>\n",
              "      <td>no</td>\n",
              "      <td>no</td>\n",
              "      <td>telephone</td>\n",
              "      <td>may</td>\n",
              "      <td>mon</td>\n",
              "      <td>149</td>\n",
              "      <td>1</td>\n",
              "      <td>999</td>\n",
              "      <td>0</td>\n",
              "      <td>nonexistent</td>\n",
              "      <td>1.1</td>\n",
              "      <td>93.994</td>\n",
              "      <td>-36.4</td>\n",
              "      <td>4.857</td>\n",
              "      <td>5191.0</td>\n",
              "      <td>no</td>\n",
              "    </tr>\n",
              "    <tr>\n",
              "      <th>2</th>\n",
              "      <td>37</td>\n",
              "      <td>services</td>\n",
              "      <td>married</td>\n",
              "      <td>high.school</td>\n",
              "      <td>no</td>\n",
              "      <td>yes</td>\n",
              "      <td>no</td>\n",
              "      <td>telephone</td>\n",
              "      <td>may</td>\n",
              "      <td>mon</td>\n",
              "      <td>226</td>\n",
              "      <td>1</td>\n",
              "      <td>999</td>\n",
              "      <td>0</td>\n",
              "      <td>nonexistent</td>\n",
              "      <td>1.1</td>\n",
              "      <td>93.994</td>\n",
              "      <td>-36.4</td>\n",
              "      <td>4.857</td>\n",
              "      <td>5191.0</td>\n",
              "      <td>no</td>\n",
              "    </tr>\n",
              "    <tr>\n",
              "      <th>3</th>\n",
              "      <td>40</td>\n",
              "      <td>admin.</td>\n",
              "      <td>married</td>\n",
              "      <td>basic.6y</td>\n",
              "      <td>no</td>\n",
              "      <td>no</td>\n",
              "      <td>no</td>\n",
              "      <td>telephone</td>\n",
              "      <td>may</td>\n",
              "      <td>mon</td>\n",
              "      <td>151</td>\n",
              "      <td>1</td>\n",
              "      <td>999</td>\n",
              "      <td>0</td>\n",
              "      <td>nonexistent</td>\n",
              "      <td>1.1</td>\n",
              "      <td>93.994</td>\n",
              "      <td>-36.4</td>\n",
              "      <td>4.857</td>\n",
              "      <td>5191.0</td>\n",
              "      <td>no</td>\n",
              "    </tr>\n",
              "    <tr>\n",
              "      <th>4</th>\n",
              "      <td>56</td>\n",
              "      <td>services</td>\n",
              "      <td>married</td>\n",
              "      <td>high.school</td>\n",
              "      <td>no</td>\n",
              "      <td>no</td>\n",
              "      <td>yes</td>\n",
              "      <td>telephone</td>\n",
              "      <td>may</td>\n",
              "      <td>mon</td>\n",
              "      <td>307</td>\n",
              "      <td>1</td>\n",
              "      <td>999</td>\n",
              "      <td>0</td>\n",
              "      <td>nonexistent</td>\n",
              "      <td>1.1</td>\n",
              "      <td>93.994</td>\n",
              "      <td>-36.4</td>\n",
              "      <td>4.857</td>\n",
              "      <td>5191.0</td>\n",
              "      <td>no</td>\n",
              "    </tr>\n",
              "  </tbody>\n",
              "</table>\n",
              "</div>"
            ],
            "text/plain": [
              "   age        job  marital  ... euribor3m nr.employed   y\n",
              "0   56  housemaid  married  ...     4.857      5191.0  no\n",
              "1   57   services  married  ...     4.857      5191.0  no\n",
              "2   37   services  married  ...     4.857      5191.0  no\n",
              "3   40     admin.  married  ...     4.857      5191.0  no\n",
              "4   56   services  married  ...     4.857      5191.0  no\n",
              "\n",
              "[5 rows x 21 columns]"
            ]
          },
          "metadata": {
            "tags": []
          },
          "execution_count": 22
        }
      ]
    },
    {
      "cell_type": "code",
      "metadata": {
        "colab": {
          "base_uri": "https://localhost:8080/"
        },
        "id": "bs-Fyh5XaQni",
        "outputId": "c46bbe1d-6267-49c3-bc05-ece628a25735"
      },
      "source": [
        "print(data.shape) # Shape of the dataset."
      ],
      "execution_count": 23,
      "outputs": [
        {
          "output_type": "stream",
          "text": [
            "(41188, 21)\n"
          ],
          "name": "stdout"
        }
      ]
    },
    {
      "cell_type": "code",
      "metadata": {
        "colab": {
          "base_uri": "https://localhost:8080/"
        },
        "id": "X3-5z5LKF3iL",
        "outputId": "08a189cf-33c1-47f2-9077-3e25d2e80e30"
      },
      "source": [
        "data.info() # Data Summary."
      ],
      "execution_count": 24,
      "outputs": [
        {
          "output_type": "stream",
          "text": [
            "<class 'pandas.core.frame.DataFrame'>\n",
            "RangeIndex: 41188 entries, 0 to 41187\n",
            "Data columns (total 21 columns):\n",
            " #   Column          Non-Null Count  Dtype  \n",
            "---  ------          --------------  -----  \n",
            " 0   age             41188 non-null  int64  \n",
            " 1   job             41188 non-null  object \n",
            " 2   marital         41188 non-null  object \n",
            " 3   education       41188 non-null  object \n",
            " 4   default         41188 non-null  object \n",
            " 5   housing         41188 non-null  object \n",
            " 6   loan            41188 non-null  object \n",
            " 7   contact         41188 non-null  object \n",
            " 8   month           41188 non-null  object \n",
            " 9   day_of_week     41188 non-null  object \n",
            " 10  duration        41188 non-null  int64  \n",
            " 11  campaign        41188 non-null  int64  \n",
            " 12  pdays           41188 non-null  int64  \n",
            " 13  previous        41188 non-null  int64  \n",
            " 14  poutcome        41188 non-null  object \n",
            " 15  emp.var.rate    41188 non-null  float64\n",
            " 16  cons.price.idx  41188 non-null  float64\n",
            " 17  cons.conf.idx   41188 non-null  float64\n",
            " 18  euribor3m       41188 non-null  float64\n",
            " 19  nr.employed     41188 non-null  float64\n",
            " 20  y               41188 non-null  object \n",
            "dtypes: float64(5), int64(5), object(11)\n",
            "memory usage: 6.6+ MB\n"
          ],
          "name": "stdout"
        }
      ]
    },
    {
      "cell_type": "markdown",
      "metadata": {
        "id": "nUUnDC1dYYmB"
      },
      "source": [
        "**Encoding Categorical Data.**"
      ]
    },
    {
      "cell_type": "code",
      "metadata": {
        "id": "rFM-JMHmYc-I"
      },
      "source": [
        "from sklearn.preprocessing import LabelEncoder\n",
        "le = LabelEncoder()\n",
        "data['job'] = le.fit_transform(data['job'])\n",
        "data['marital'] = le.fit_transform(data['marital'])\n",
        "data['education'] = le.fit_transform(data['education'])\n",
        "data['default'] = le.fit_transform(data['default'])\n",
        "data['housing'] = le.fit_transform(data['housing'])\n",
        "data['loan'] = le.fit_transform(data['loan'])\n",
        "data['contact'] = le.fit_transform(data['contact'])\n",
        "data['month'] = le.fit_transform(data['month'])\n",
        "data['day_of_week'] = le.fit_transform(data['day_of_week'])\n",
        "data['poutcome'] = le.fit_transform(data['poutcome'])\n",
        "data['emp.var.rate'] = le.fit_transform(data['emp.var.rate'])\n",
        "data['nr.employed'] = le.fit_transform(data['nr.employed'])\n",
        "data['y'] = le.fit_transform(data['y'])"
      ],
      "execution_count": 25,
      "outputs": []
    },
    {
      "cell_type": "markdown",
      "metadata": {
        "id": "_4QBtHupgurm"
      },
      "source": [
        "**Split Dataset into Independent (X) and Dependent (y) variables.**"
      ]
    },
    {
      "cell_type": "code",
      "metadata": {
        "id": "YsyLzvLngMxW"
      },
      "source": [
        "data = data.astype(\"int\")\n",
        "\n",
        "X = data[['job','marital','education','default','housing','loan','contact','month','day_of_week','poutcome','emp.var.rate','nr.employed']]\n",
        "y = data[['y']]"
      ],
      "execution_count": 26,
      "outputs": []
    },
    {
      "cell_type": "markdown",
      "metadata": {
        "id": "TkDXCn5uhtM7"
      },
      "source": [
        "# **Chi-Square $\\chi^{2}$ Test for Feature Selection.**"
      ]
    },
    {
      "cell_type": "markdown",
      "metadata": {
        "id": "iDpgOQjUt2OR"
      },
      "source": [
        "Compute Chi-Squared stats between each non-negative feature and class.\n",
        "\n",
        "*   This score is used to evaluate categorical features in a classification task.\n",
        "\n",
        "Chi-Square is calculated between each feature and the target variable, and select the desired number of features with the best Chi-Square scores. To correctly apply the chi-squared to test the relation between various features in the dataset and the target variable, the following conditions have to be satisfied, i.e., the variables have to be categorical, sampled independently, and values should have an expected frequency greater than 5.\n",
        "\n",
        "This score can be used to select the $n\\_features$ features with the highest values for the test chi-squared statistic from $X$, which must contain only non-negative features such as booleans or frequencies (e.g., term counts in document classification) relative to the classes.\n",
        "\n",
        "Recall that the chi-square test measures dependence between stochastic variables, so using this function \"weeds out\" the features that are the most likely to be independent of class and therefore irrelevant for classification.\n",
        "\n",
        "[sklearn.feature_selection.chi2](https://scikit-learn.org/stable/modules/generated/sklearn.feature_selection.chi2.html)\n"
      ]
    },
    {
      "cell_type": "code",
      "metadata": {
        "id": "BwgjRQ04hxR2"
      },
      "source": [
        "from sklearn.feature_selection import chi2, SelectKBest\n",
        "\n",
        "chi2_features = chi2(X, y)"
      ],
      "execution_count": 27,
      "outputs": []
    },
    {
      "cell_type": "markdown",
      "metadata": {
        "id": "j8JhW4dQmrLp"
      },
      "source": [
        "**Rank every categorical feature's importance, based on Chi-Square Score.**"
      ]
    },
    {
      "cell_type": "code",
      "metadata": {
        "colab": {
          "base_uri": "https://localhost:8080/"
        },
        "id": "j7s4tvDCk2lj",
        "outputId": "54fa1403-461d-48ca-d9ae-41ceac05e42e"
      },
      "source": [
        "p_values = pd.Series(chi2_features[1])\n",
        "p_values.index = X.columns\n",
        "p_values.sort_index(ascending = False)"
      ],
      "execution_count": 28,
      "outputs": [
        {
          "output_type": "execute_result",
          "data": {
            "text/plain": [
              "poutcome         3.722828e-23\n",
              "nr.employed      0.000000e+00\n",
              "month            1.650559e-01\n",
              "marital          1.348325e-07\n",
              "loan             2.077547e-01\n",
              "job              2.179406e-21\n",
              "housing          2.566075e-02\n",
              "emp.var.rate     0.000000e+00\n",
              "education        2.464796e-38\n",
              "default          5.521476e-72\n",
              "day_of_week      1.380665e-03\n",
              "contact         3.500598e-121\n",
              "dtype: float64"
            ]
          },
          "metadata": {
            "tags": []
          },
          "execution_count": 28
        }
      ]
    },
    {
      "cell_type": "markdown",
      "metadata": {
        "id": "J0LIXVyBl3nb"
      },
      "source": [
        "***Observation:*** **\"poutcome\" is the most important column when compared to the output feature \"Yes\".**\n"
      ]
    },
    {
      "cell_type": "markdown",
      "metadata": {
        "id": "wedfgx08ooZQ"
      },
      "source": [
        "# **----------------------------------------------------------------------------------------------------**"
      ]
    },
    {
      "cell_type": "markdown",
      "metadata": {
        "id": "Tws3W44GoWIY"
      },
      "source": [
        "**Select KBest Categorical Features, based on Chi-Square Score.**\n",
        "\n",
        "[sklearn.feature_selection.SelectKBest](https://scikit-learn.org/stable/modules/generated/sklearn.feature_selection.SelectKBest.html#sklearn.feature_selection.SelectKBest)"
      ]
    },
    {
      "cell_type": "code",
      "metadata": {
        "id": "abpFsRU8mcYB"
      },
      "source": [
        "select_chi2_features = SelectKBest(chi2, k=9) # Select features according to the K highest scores.\n",
        "X_KBest_features = select_chi2_features.fit_transform(X, y)"
      ],
      "execution_count": 29,
      "outputs": []
    },
    {
      "cell_type": "code",
      "metadata": {
        "colab": {
          "base_uri": "https://localhost:8080/"
        },
        "id": "Ep4bx-79p_Rn",
        "outputId": "254f633b-8dbd-4430-d454-fc921a50f5fc"
      },
      "source": [
        "print(\"Original Features Number:\", X.shape[1])\n",
        "print(\"Reduced Features Number:\", X_KBest_features.shape[1])"
      ],
      "execution_count": 30,
      "outputs": [
        {
          "output_type": "stream",
          "text": [
            "Original Features Number: 12\n",
            "Reduced Features Number: 9\n"
          ],
          "name": "stdout"
        }
      ]
    }
  ]
}