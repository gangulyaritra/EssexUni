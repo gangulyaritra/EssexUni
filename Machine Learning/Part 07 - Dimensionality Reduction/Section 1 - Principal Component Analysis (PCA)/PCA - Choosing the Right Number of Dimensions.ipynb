{
  "nbformat": 4,
  "nbformat_minor": 0,
  "metadata": {
    "colab": {
      "name": "PCA - Choosing the Right Number of Dimensions.ipynb",
      "provenance": [],
      "collapsed_sections": []
    },
    "kernelspec": {
      "name": "python3",
      "display_name": "Python 3"
    }
  },
  "cells": [
    {
      "cell_type": "markdown",
      "metadata": {
        "id": "VQ3syspj_rKn"
      },
      "source": [
        "# **Principal Component Analysis (PCA) - Choosing the Right Number of Dimensions**\n",
        "\n",
        "[Principal Component Analysis - Sklearn](https://scikit-learn.org/stable/modules/decomposition.html#principal-component-analysis-pca)\n",
        "\n",
        "[sklearn.decomposition.PCA](https://scikit-learn.org/stable/modules/generated/sklearn.decomposition.PCA.html#sklearn.decomposition.PCA)"
      ]
    },
    {
      "cell_type": "code",
      "metadata": {
        "id": "BNEgrGwd_29D"
      },
      "source": [
        "# Import Library.\n",
        "\n",
        "import pandas as pd\n",
        "import numpy as np\n",
        "import matplotlib.pyplot as plt"
      ],
      "execution_count": null,
      "outputs": []
    },
    {
      "cell_type": "code",
      "metadata": {
        "id": "lPLTDBVI__ZQ"
      },
      "source": [
        "# Import Dataset.\n",
        "dataset = pd.read_csv('Wine.csv')\n",
        "\n",
        "X = dataset.iloc[:, :-1].values\n",
        "y = dataset.iloc[:, -1].values"
      ],
      "execution_count": null,
      "outputs": []
    },
    {
      "cell_type": "markdown",
      "metadata": {
        "id": "1wrHODfJAEiI"
      },
      "source": [
        "## Feature Scaling"
      ]
    },
    {
      "cell_type": "code",
      "metadata": {
        "id": "W-UCD7ezAJG2"
      },
      "source": [
        "from sklearn.preprocessing import StandardScaler\n",
        "sc = StandardScaler()\n",
        "X = sc.fit_transform(X)"
      ],
      "execution_count": null,
      "outputs": []
    },
    {
      "cell_type": "code",
      "metadata": {
        "id": "L7hGLt1qAced"
      },
      "source": [
        "# Split dataset into Training set and Test set.\n",
        "from sklearn.model_selection import train_test_split\n",
        "X_train, X_test, y_train, y_test = train_test_split(X, y, test_size = 0.2, random_state = 0)"
      ],
      "execution_count": null,
      "outputs": []
    },
    {
      "cell_type": "markdown",
      "metadata": {
        "id": "S3i3lRiwASAX"
      },
      "source": [
        "# **Applying PCA**"
      ]
    },
    {
      "cell_type": "code",
      "metadata": {
        "id": "TAi_sSw9AVzI",
        "colab": {
          "base_uri": "https://localhost:8080/"
        },
        "outputId": "3d375630-718c-4c06-81b4-e6cc6728444a"
      },
      "source": [
        "# Choosing the Right Number of Dimensions.\n",
        "\n",
        "'''\n",
        "The following code performs PCA without reducing dimensionality, then computes\n",
        "the minimum number of dimensions required to preserve 95% of the training set's\n",
        "variance:\n",
        "'''\n",
        "\n",
        "from sklearn.decomposition import PCA\n",
        "pca = PCA().fit(X_train)\n",
        "explained_variance = np.cumsum(pca.explained_variance_ratio_)\n",
        "d = np.argmax(explained_variance >= 0.95) + 1\n",
        "print(\"The minimum number of dimensions required to preserve 95% of the training set's variance is\", d)"
      ],
      "execution_count": null,
      "outputs": [
        {
          "output_type": "stream",
          "text": [
            "The minimum number of dimensions required to preserve 95% of the training set's variance is 10\n"
          ],
          "name": "stdout"
        }
      ]
    },
    {
      "cell_type": "code",
      "metadata": {
        "id": "CGFmWzYoDeMV"
      },
      "source": [
        "pca = PCA(n_components=d)\n",
        "X_train = pca.fit_transform(X_train)\n",
        "X_test = pca.transform(X_test)"
      ],
      "execution_count": null,
      "outputs": []
    },
    {
      "cell_type": "markdown",
      "metadata": {
        "id": "UBx16JVLAuel"
      },
      "source": [
        "# Training the Logistic Regression Model."
      ]
    },
    {
      "cell_type": "code",
      "metadata": {
        "id": "XDQahsqTAy44"
      },
      "source": [
        "from sklearn.linear_model import LogisticRegression\n",
        "clf = LogisticRegression(random_state = 0).fit(X_train, y_train)\n",
        "y_pred = clf.predict(X_test)  # Predicting the Test Set results."
      ],
      "execution_count": null,
      "outputs": []
    },
    {
      "cell_type": "markdown",
      "metadata": {
        "id": "MTck416XBPnD"
      },
      "source": [
        "## Making the Confusion Matrix."
      ]
    },
    {
      "cell_type": "code",
      "metadata": {
        "id": "2LO7H5LsBS1b",
        "colab": {
          "base_uri": "https://localhost:8080/"
        },
        "outputId": "e5d8e646-ccb3-42a6-d515-0e9e29369725"
      },
      "source": [
        "from sklearn.metrics import accuracy_score, classification_report, confusion_matrix\n",
        "print(\"-----------------------------------------------------------\")\n",
        "print(\"Accuracy Score is\", accuracy_score(y_test, y_pred))\n",
        "print(\"-----------------------------------------------------------\")\n",
        "print(\"-------------------Classification Report-------------------\")\n",
        "print(classification_report(y_test, y_pred))\n",
        "print(\"-----------------------------------------------------------\")\n",
        "print(\"---------------------Confusion Matrix----------------------\")\n",
        "print(confusion_matrix(y_test, y_pred))\n",
        "print(\"-----------------------------------------------------------\")"
      ],
      "execution_count": null,
      "outputs": [
        {
          "output_type": "stream",
          "text": [
            "-----------------------------------------------------------\n",
            "Accuracy Score is 1.0\n",
            "-----------------------------------------------------------\n",
            "-------------------Classification Report-------------------\n",
            "              precision    recall  f1-score   support\n",
            "\n",
            "           1       1.00      1.00      1.00        14\n",
            "           2       1.00      1.00      1.00        16\n",
            "           3       1.00      1.00      1.00         6\n",
            "\n",
            "    accuracy                           1.00        36\n",
            "   macro avg       1.00      1.00      1.00        36\n",
            "weighted avg       1.00      1.00      1.00        36\n",
            "\n",
            "-----------------------------------------------------------\n",
            "---------------------Confusion Matrix----------------------\n",
            "[[14  0  0]\n",
            " [ 0 16  0]\n",
            " [ 0  0  6]]\n",
            "-----------------------------------------------------------\n"
          ],
          "name": "stdout"
        }
      ]
    }
  ]
}