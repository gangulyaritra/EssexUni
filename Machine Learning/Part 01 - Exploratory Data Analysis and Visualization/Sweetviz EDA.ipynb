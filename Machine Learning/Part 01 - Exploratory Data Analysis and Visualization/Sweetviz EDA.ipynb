{
  "nbformat": 4,
  "nbformat_minor": 0,
  "metadata": {
    "colab": {
      "name": "Sweetviz EDA.ipynb",
      "provenance": [],
      "collapsed_sections": []
    },
    "kernelspec": {
      "name": "python3",
      "display_name": "Python 3"
    },
    "language_info": {
      "name": "python"
    }
  },
  "cells": [
    {
      "cell_type": "markdown",
      "metadata": {
        "id": "-2f0XAps8IXj"
      },
      "source": [
        "# **Powerful EDA (Exploratory Data Analysis) using Sweetviz.**\n",
        "\n",
        "![Sweetviz.png](data:image/png;base64,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)\n",
        "\n",
        "[https://pypi.org/project/sweetviz/](https://pypi.org/project/sweetviz/)"
      ]
    },
    {
      "cell_type": "code",
      "metadata": {
        "id": "OY3uTbJn6XgR"
      },
      "source": [
        "!pip install sweetviz"
      ],
      "execution_count": null,
      "outputs": []
    },
    {
      "cell_type": "code",
      "metadata": {
        "id": "6bXokaahvJQ1"
      },
      "source": [
        "import sweetviz\n",
        "import pandas as pd"
      ],
      "execution_count": null,
      "outputs": []
    },
    {
      "cell_type": "code",
      "metadata": {
        "id": "FK5-D6jB6HUj"
      },
      "source": [
        "data = pd.read_csv(\"bank-additional-full.csv\", delimiter = \";\")\n",
        "data.head()"
      ],
      "execution_count": null,
      "outputs": []
    },
    {
      "cell_type": "markdown",
      "metadata": {
        "id": "JlC0FNNl8h8i"
      },
      "source": [
        "# **Analyzing a Single Dataframe.**"
      ]
    },
    {
      "cell_type": "code",
      "metadata": {
        "id": "7HU4Bczl7FQi"
      },
      "source": [
        "my_report = sweetviz.analyze([data, \"Dataset\"], target_feat='y')"
      ],
      "execution_count": null,
      "outputs": []
    },
    {
      "cell_type": "code",
      "metadata": {
        "id": "iNZeDGgQ7RaB"
      },
      "source": [
        "my_report.show_html('Report.html')"
      ],
      "execution_count": null,
      "outputs": []
    },
    {
      "cell_type": "markdown",
      "metadata": {
        "id": "h0PUCoib-Jt6"
      },
      "source": [
        "# **Comparing two Dataframes (e.g., Test vs. Training sets).**"
      ]
    },
    {
      "cell_type": "code",
      "metadata": {
        "id": "4oYW3YlF-MiR"
      },
      "source": [
        "train = pd.read_csv(\"CE802_Ass_2019_Data.csv\")\n",
        "test = pd.read_csv(\"CE802_Ass_2019_Test.csv\")"
      ],
      "execution_count": null,
      "outputs": []
    },
    {
      "cell_type": "code",
      "metadata": {
        "id": "N_gUbSehNxi2"
      },
      "source": [
        "compare_report = sweetviz.compare([train, \"Train\"], [test, \"Test\"])"
      ],
      "execution_count": null,
      "outputs": []
    },
    {
      "cell_type": "code",
      "metadata": {
        "id": "hg6eTH5FOC47"
      },
      "source": [
        "compare_report.show_html('Compare_Report.html')"
      ],
      "execution_count": null,
      "outputs": []
    }
  ]
}