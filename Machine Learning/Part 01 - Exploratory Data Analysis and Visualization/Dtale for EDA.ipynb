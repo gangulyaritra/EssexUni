{
  "nbformat": 4,
  "nbformat_minor": 0,
  "metadata": {
    "colab": {
      "name": "Dtale for EDA.ipynb",
      "provenance": []
    },
    "kernelspec": {
      "name": "python3",
      "display_name": "Python 3"
    },
    "language_info": {
      "name": "python"
    }
  },
  "cells": [
    {
      "cell_type": "markdown",
      "metadata": {
        "id": "zz6nKEtCKzfm"
      },
      "source": [
        "# **Dtale for EDA**\n",
        "\n",
        "[https://pypi.org/project/dtale/](https://pypi.org/project/dtale/)\n",
        "\n",
        "[https://dtale.readthedocs.io/en/latest/](https://dtale.readthedocs.io/en/latest/)"
      ]
    },
    {
      "cell_type": "code",
      "metadata": {
        "id": "F5GqVpIH_ENM"
      },
      "source": [
        "!pip install dtale"
      ],
      "execution_count": null,
      "outputs": []
    },
    {
      "cell_type": "code",
      "metadata": {
        "id": "BXW05glMC9Mn"
      },
      "source": [
        "import pandas as pd\n",
        "import dtale\n",
        "\n",
        "data = pd.read_csv(\"bank-additional-full.csv\", delimiter = \";\")\n",
        "dtale.show(data)"
      ],
      "execution_count": null,
      "outputs": []
    }
  ]
}