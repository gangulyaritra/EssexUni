{
  "nbformat": 4,
  "nbformat_minor": 0,
  "metadata": {
    "colab": {
      "name": "Handling with Imbalanced Datasets.ipynb",
      "provenance": [],
      "collapsed_sections": []
    },
    "kernelspec": {
      "name": "python3",
      "display_name": "Python 3"
    },
    "language_info": {
      "name": "python"
    }
  },
  "cells": [
    {
      "cell_type": "markdown",
      "metadata": {
        "id": "6iHJMmLZh5Yy"
      },
      "source": [
        "# **Credit Card Fraud Detection**\n",
        "\n",
        "Anonymized credit card transactions labeled as fraudulent or genuine.\n",
        "\n",
        "[https://www.kaggle.com/mlg-ulb/creditcardfraud](https://www.kaggle.com/mlg-ulb/creditcardfraud)"
      ]
    },
    {
      "cell_type": "code",
      "metadata": {
        "id": "j3QaIcXKJRSa"
      },
      "source": [
        "# Imported Libraries.\n",
        "import pandas as pd\n",
        "import numpy as np\n",
        "import matplotlib.pyplot as plt\n",
        "import seaborn as sns"
      ],
      "execution_count": 120,
      "outputs": []
    },
    {
      "cell_type": "code",
      "metadata": {
        "colab": {
          "base_uri": "https://localhost:8080/",
          "height": 222
        },
        "id": "8fYoZ4fIM0-5",
        "outputId": "0dbf8391-3e4d-4c21-a450-ac72f0fba0be"
      },
      "source": [
        "# Load Dataset.\n",
        "data = pd.read_csv('creditcard.csv')\n",
        "data.head()"
      ],
      "execution_count": 121,
      "outputs": [
        {
          "output_type": "execute_result",
          "data": {
            "text/html": [
              "<div>\n",
              "<style scoped>\n",
              "    .dataframe tbody tr th:only-of-type {\n",
              "        vertical-align: middle;\n",
              "    }\n",
              "\n",
              "    .dataframe tbody tr th {\n",
              "        vertical-align: top;\n",
              "    }\n",
              "\n",
              "    .dataframe thead th {\n",
              "        text-align: right;\n",
              "    }\n",
              "</style>\n",
              "<table border=\"1\" class=\"dataframe\">\n",
              "  <thead>\n",
              "    <tr style=\"text-align: right;\">\n",
              "      <th></th>\n",
              "      <th>Time</th>\n",
              "      <th>V1</th>\n",
              "      <th>V2</th>\n",
              "      <th>V3</th>\n",
              "      <th>V4</th>\n",
              "      <th>V5</th>\n",
              "      <th>V6</th>\n",
              "      <th>V7</th>\n",
              "      <th>V8</th>\n",
              "      <th>V9</th>\n",
              "      <th>V10</th>\n",
              "      <th>V11</th>\n",
              "      <th>V12</th>\n",
              "      <th>V13</th>\n",
              "      <th>V14</th>\n",
              "      <th>V15</th>\n",
              "      <th>V16</th>\n",
              "      <th>V17</th>\n",
              "      <th>V18</th>\n",
              "      <th>V19</th>\n",
              "      <th>V20</th>\n",
              "      <th>V21</th>\n",
              "      <th>V22</th>\n",
              "      <th>V23</th>\n",
              "      <th>V24</th>\n",
              "      <th>V25</th>\n",
              "      <th>V26</th>\n",
              "      <th>V27</th>\n",
              "      <th>V28</th>\n",
              "      <th>Amount</th>\n",
              "      <th>Class</th>\n",
              "    </tr>\n",
              "  </thead>\n",
              "  <tbody>\n",
              "    <tr>\n",
              "      <th>0</th>\n",
              "      <td>0.0</td>\n",
              "      <td>-1.359807</td>\n",
              "      <td>-0.072781</td>\n",
              "      <td>2.536347</td>\n",
              "      <td>1.378155</td>\n",
              "      <td>-0.338321</td>\n",
              "      <td>0.462388</td>\n",
              "      <td>0.239599</td>\n",
              "      <td>0.098698</td>\n",
              "      <td>0.363787</td>\n",
              "      <td>0.090794</td>\n",
              "      <td>-0.551600</td>\n",
              "      <td>-0.617801</td>\n",
              "      <td>-0.991390</td>\n",
              "      <td>-0.311169</td>\n",
              "      <td>1.468177</td>\n",
              "      <td>-0.470401</td>\n",
              "      <td>0.207971</td>\n",
              "      <td>0.025791</td>\n",
              "      <td>0.403993</td>\n",
              "      <td>0.251412</td>\n",
              "      <td>-0.018307</td>\n",
              "      <td>0.277838</td>\n",
              "      <td>-0.110474</td>\n",
              "      <td>0.066928</td>\n",
              "      <td>0.128539</td>\n",
              "      <td>-0.189115</td>\n",
              "      <td>0.133558</td>\n",
              "      <td>-0.021053</td>\n",
              "      <td>149.62</td>\n",
              "      <td>0</td>\n",
              "    </tr>\n",
              "    <tr>\n",
              "      <th>1</th>\n",
              "      <td>0.0</td>\n",
              "      <td>1.191857</td>\n",
              "      <td>0.266151</td>\n",
              "      <td>0.166480</td>\n",
              "      <td>0.448154</td>\n",
              "      <td>0.060018</td>\n",
              "      <td>-0.082361</td>\n",
              "      <td>-0.078803</td>\n",
              "      <td>0.085102</td>\n",
              "      <td>-0.255425</td>\n",
              "      <td>-0.166974</td>\n",
              "      <td>1.612727</td>\n",
              "      <td>1.065235</td>\n",
              "      <td>0.489095</td>\n",
              "      <td>-0.143772</td>\n",
              "      <td>0.635558</td>\n",
              "      <td>0.463917</td>\n",
              "      <td>-0.114805</td>\n",
              "      <td>-0.183361</td>\n",
              "      <td>-0.145783</td>\n",
              "      <td>-0.069083</td>\n",
              "      <td>-0.225775</td>\n",
              "      <td>-0.638672</td>\n",
              "      <td>0.101288</td>\n",
              "      <td>-0.339846</td>\n",
              "      <td>0.167170</td>\n",
              "      <td>0.125895</td>\n",
              "      <td>-0.008983</td>\n",
              "      <td>0.014724</td>\n",
              "      <td>2.69</td>\n",
              "      <td>0</td>\n",
              "    </tr>\n",
              "    <tr>\n",
              "      <th>2</th>\n",
              "      <td>1.0</td>\n",
              "      <td>-1.358354</td>\n",
              "      <td>-1.340163</td>\n",
              "      <td>1.773209</td>\n",
              "      <td>0.379780</td>\n",
              "      <td>-0.503198</td>\n",
              "      <td>1.800499</td>\n",
              "      <td>0.791461</td>\n",
              "      <td>0.247676</td>\n",
              "      <td>-1.514654</td>\n",
              "      <td>0.207643</td>\n",
              "      <td>0.624501</td>\n",
              "      <td>0.066084</td>\n",
              "      <td>0.717293</td>\n",
              "      <td>-0.165946</td>\n",
              "      <td>2.345865</td>\n",
              "      <td>-2.890083</td>\n",
              "      <td>1.109969</td>\n",
              "      <td>-0.121359</td>\n",
              "      <td>-2.261857</td>\n",
              "      <td>0.524980</td>\n",
              "      <td>0.247998</td>\n",
              "      <td>0.771679</td>\n",
              "      <td>0.909412</td>\n",
              "      <td>-0.689281</td>\n",
              "      <td>-0.327642</td>\n",
              "      <td>-0.139097</td>\n",
              "      <td>-0.055353</td>\n",
              "      <td>-0.059752</td>\n",
              "      <td>378.66</td>\n",
              "      <td>0</td>\n",
              "    </tr>\n",
              "    <tr>\n",
              "      <th>3</th>\n",
              "      <td>1.0</td>\n",
              "      <td>-0.966272</td>\n",
              "      <td>-0.185226</td>\n",
              "      <td>1.792993</td>\n",
              "      <td>-0.863291</td>\n",
              "      <td>-0.010309</td>\n",
              "      <td>1.247203</td>\n",
              "      <td>0.237609</td>\n",
              "      <td>0.377436</td>\n",
              "      <td>-1.387024</td>\n",
              "      <td>-0.054952</td>\n",
              "      <td>-0.226487</td>\n",
              "      <td>0.178228</td>\n",
              "      <td>0.507757</td>\n",
              "      <td>-0.287924</td>\n",
              "      <td>-0.631418</td>\n",
              "      <td>-1.059647</td>\n",
              "      <td>-0.684093</td>\n",
              "      <td>1.965775</td>\n",
              "      <td>-1.232622</td>\n",
              "      <td>-0.208038</td>\n",
              "      <td>-0.108300</td>\n",
              "      <td>0.005274</td>\n",
              "      <td>-0.190321</td>\n",
              "      <td>-1.175575</td>\n",
              "      <td>0.647376</td>\n",
              "      <td>-0.221929</td>\n",
              "      <td>0.062723</td>\n",
              "      <td>0.061458</td>\n",
              "      <td>123.50</td>\n",
              "      <td>0</td>\n",
              "    </tr>\n",
              "    <tr>\n",
              "      <th>4</th>\n",
              "      <td>2.0</td>\n",
              "      <td>-1.158233</td>\n",
              "      <td>0.877737</td>\n",
              "      <td>1.548718</td>\n",
              "      <td>0.403034</td>\n",
              "      <td>-0.407193</td>\n",
              "      <td>0.095921</td>\n",
              "      <td>0.592941</td>\n",
              "      <td>-0.270533</td>\n",
              "      <td>0.817739</td>\n",
              "      <td>0.753074</td>\n",
              "      <td>-0.822843</td>\n",
              "      <td>0.538196</td>\n",
              "      <td>1.345852</td>\n",
              "      <td>-1.119670</td>\n",
              "      <td>0.175121</td>\n",
              "      <td>-0.451449</td>\n",
              "      <td>-0.237033</td>\n",
              "      <td>-0.038195</td>\n",
              "      <td>0.803487</td>\n",
              "      <td>0.408542</td>\n",
              "      <td>-0.009431</td>\n",
              "      <td>0.798278</td>\n",
              "      <td>-0.137458</td>\n",
              "      <td>0.141267</td>\n",
              "      <td>-0.206010</td>\n",
              "      <td>0.502292</td>\n",
              "      <td>0.219422</td>\n",
              "      <td>0.215153</td>\n",
              "      <td>69.99</td>\n",
              "      <td>0</td>\n",
              "    </tr>\n",
              "  </tbody>\n",
              "</table>\n",
              "</div>"
            ],
            "text/plain": [
              "   Time        V1        V2        V3  ...       V27       V28  Amount  Class\n",
              "0   0.0 -1.359807 -0.072781  2.536347  ...  0.133558 -0.021053  149.62      0\n",
              "1   0.0  1.191857  0.266151  0.166480  ... -0.008983  0.014724    2.69      0\n",
              "2   1.0 -1.358354 -1.340163  1.773209  ... -0.055353 -0.059752  378.66      0\n",
              "3   1.0 -0.966272 -0.185226  1.792993  ...  0.062723  0.061458  123.50      0\n",
              "4   2.0 -1.158233  0.877737  1.548718  ...  0.219422  0.215153   69.99      0\n",
              "\n",
              "[5 rows x 31 columns]"
            ]
          },
          "metadata": {
            "tags": []
          },
          "execution_count": 121
        }
      ]
    },
    {
      "cell_type": "code",
      "metadata": {
        "colab": {
          "base_uri": "https://localhost:8080/"
        },
        "id": "o66tD79sNTZB",
        "outputId": "b50a7962-fe32-4dfe-d142-a6c0088e1e6f"
      },
      "source": [
        "data.info() # Data Summary."
      ],
      "execution_count": 122,
      "outputs": [
        {
          "output_type": "stream",
          "text": [
            "<class 'pandas.core.frame.DataFrame'>\n",
            "RangeIndex: 284807 entries, 0 to 284806\n",
            "Data columns (total 31 columns):\n",
            " #   Column  Non-Null Count   Dtype  \n",
            "---  ------  --------------   -----  \n",
            " 0   Time    284807 non-null  float64\n",
            " 1   V1      284807 non-null  float64\n",
            " 2   V2      284807 non-null  float64\n",
            " 3   V3      284807 non-null  float64\n",
            " 4   V4      284807 non-null  float64\n",
            " 5   V5      284807 non-null  float64\n",
            " 6   V6      284807 non-null  float64\n",
            " 7   V7      284807 non-null  float64\n",
            " 8   V8      284807 non-null  float64\n",
            " 9   V9      284807 non-null  float64\n",
            " 10  V10     284807 non-null  float64\n",
            " 11  V11     284807 non-null  float64\n",
            " 12  V12     284807 non-null  float64\n",
            " 13  V13     284807 non-null  float64\n",
            " 14  V14     284807 non-null  float64\n",
            " 15  V15     284807 non-null  float64\n",
            " 16  V16     284807 non-null  float64\n",
            " 17  V17     284807 non-null  float64\n",
            " 18  V18     284807 non-null  float64\n",
            " 19  V19     284807 non-null  float64\n",
            " 20  V20     284807 non-null  float64\n",
            " 21  V21     284807 non-null  float64\n",
            " 22  V22     284807 non-null  float64\n",
            " 23  V23     284807 non-null  float64\n",
            " 24  V24     284807 non-null  float64\n",
            " 25  V25     284807 non-null  float64\n",
            " 26  V26     284807 non-null  float64\n",
            " 27  V27     284807 non-null  float64\n",
            " 28  V28     284807 non-null  float64\n",
            " 29  Amount  284807 non-null  float64\n",
            " 30  Class   284807 non-null  int64  \n",
            "dtypes: float64(30), int64(1)\n",
            "memory usage: 67.4 MB\n"
          ],
          "name": "stdout"
        }
      ]
    },
    {
      "cell_type": "code",
      "metadata": {
        "colab": {
          "base_uri": "https://localhost:8080/",
          "height": 314
        },
        "id": "p3aKw9hYNuPX",
        "outputId": "4a2c956d-6897-403c-f884-c75d736ed406"
      },
      "source": [
        "data.describe() # Data Statistics."
      ],
      "execution_count": 123,
      "outputs": [
        {
          "output_type": "execute_result",
          "data": {
            "text/html": [
              "<div>\n",
              "<style scoped>\n",
              "    .dataframe tbody tr th:only-of-type {\n",
              "        vertical-align: middle;\n",
              "    }\n",
              "\n",
              "    .dataframe tbody tr th {\n",
              "        vertical-align: top;\n",
              "    }\n",
              "\n",
              "    .dataframe thead th {\n",
              "        text-align: right;\n",
              "    }\n",
              "</style>\n",
              "<table border=\"1\" class=\"dataframe\">\n",
              "  <thead>\n",
              "    <tr style=\"text-align: right;\">\n",
              "      <th></th>\n",
              "      <th>Time</th>\n",
              "      <th>V1</th>\n",
              "      <th>V2</th>\n",
              "      <th>V3</th>\n",
              "      <th>V4</th>\n",
              "      <th>V5</th>\n",
              "      <th>V6</th>\n",
              "      <th>V7</th>\n",
              "      <th>V8</th>\n",
              "      <th>V9</th>\n",
              "      <th>V10</th>\n",
              "      <th>V11</th>\n",
              "      <th>V12</th>\n",
              "      <th>V13</th>\n",
              "      <th>V14</th>\n",
              "      <th>V15</th>\n",
              "      <th>V16</th>\n",
              "      <th>V17</th>\n",
              "      <th>V18</th>\n",
              "      <th>V19</th>\n",
              "      <th>V20</th>\n",
              "      <th>V21</th>\n",
              "      <th>V22</th>\n",
              "      <th>V23</th>\n",
              "      <th>V24</th>\n",
              "      <th>V25</th>\n",
              "      <th>V26</th>\n",
              "      <th>V27</th>\n",
              "      <th>V28</th>\n",
              "      <th>Amount</th>\n",
              "      <th>Class</th>\n",
              "    </tr>\n",
              "  </thead>\n",
              "  <tbody>\n",
              "    <tr>\n",
              "      <th>count</th>\n",
              "      <td>284807.000000</td>\n",
              "      <td>2.848070e+05</td>\n",
              "      <td>2.848070e+05</td>\n",
              "      <td>2.848070e+05</td>\n",
              "      <td>2.848070e+05</td>\n",
              "      <td>2.848070e+05</td>\n",
              "      <td>2.848070e+05</td>\n",
              "      <td>2.848070e+05</td>\n",
              "      <td>2.848070e+05</td>\n",
              "      <td>2.848070e+05</td>\n",
              "      <td>2.848070e+05</td>\n",
              "      <td>2.848070e+05</td>\n",
              "      <td>2.848070e+05</td>\n",
              "      <td>2.848070e+05</td>\n",
              "      <td>2.848070e+05</td>\n",
              "      <td>2.848070e+05</td>\n",
              "      <td>2.848070e+05</td>\n",
              "      <td>2.848070e+05</td>\n",
              "      <td>2.848070e+05</td>\n",
              "      <td>2.848070e+05</td>\n",
              "      <td>2.848070e+05</td>\n",
              "      <td>2.848070e+05</td>\n",
              "      <td>2.848070e+05</td>\n",
              "      <td>2.848070e+05</td>\n",
              "      <td>2.848070e+05</td>\n",
              "      <td>2.848070e+05</td>\n",
              "      <td>2.848070e+05</td>\n",
              "      <td>2.848070e+05</td>\n",
              "      <td>2.848070e+05</td>\n",
              "      <td>284807.000000</td>\n",
              "      <td>284807.000000</td>\n",
              "    </tr>\n",
              "    <tr>\n",
              "      <th>mean</th>\n",
              "      <td>94813.859575</td>\n",
              "      <td>3.919560e-15</td>\n",
              "      <td>5.688174e-16</td>\n",
              "      <td>-8.769071e-15</td>\n",
              "      <td>2.782312e-15</td>\n",
              "      <td>-1.552563e-15</td>\n",
              "      <td>2.010663e-15</td>\n",
              "      <td>-1.694249e-15</td>\n",
              "      <td>-1.927028e-16</td>\n",
              "      <td>-3.137024e-15</td>\n",
              "      <td>1.768627e-15</td>\n",
              "      <td>9.170318e-16</td>\n",
              "      <td>-1.810658e-15</td>\n",
              "      <td>1.693438e-15</td>\n",
              "      <td>1.479045e-15</td>\n",
              "      <td>3.482336e-15</td>\n",
              "      <td>1.392007e-15</td>\n",
              "      <td>-7.528491e-16</td>\n",
              "      <td>4.328772e-16</td>\n",
              "      <td>9.049732e-16</td>\n",
              "      <td>5.085503e-16</td>\n",
              "      <td>1.537294e-16</td>\n",
              "      <td>7.959909e-16</td>\n",
              "      <td>5.367590e-16</td>\n",
              "      <td>4.458112e-15</td>\n",
              "      <td>1.453003e-15</td>\n",
              "      <td>1.699104e-15</td>\n",
              "      <td>-3.660161e-16</td>\n",
              "      <td>-1.206049e-16</td>\n",
              "      <td>88.349619</td>\n",
              "      <td>0.001727</td>\n",
              "    </tr>\n",
              "    <tr>\n",
              "      <th>std</th>\n",
              "      <td>47488.145955</td>\n",
              "      <td>1.958696e+00</td>\n",
              "      <td>1.651309e+00</td>\n",
              "      <td>1.516255e+00</td>\n",
              "      <td>1.415869e+00</td>\n",
              "      <td>1.380247e+00</td>\n",
              "      <td>1.332271e+00</td>\n",
              "      <td>1.237094e+00</td>\n",
              "      <td>1.194353e+00</td>\n",
              "      <td>1.098632e+00</td>\n",
              "      <td>1.088850e+00</td>\n",
              "      <td>1.020713e+00</td>\n",
              "      <td>9.992014e-01</td>\n",
              "      <td>9.952742e-01</td>\n",
              "      <td>9.585956e-01</td>\n",
              "      <td>9.153160e-01</td>\n",
              "      <td>8.762529e-01</td>\n",
              "      <td>8.493371e-01</td>\n",
              "      <td>8.381762e-01</td>\n",
              "      <td>8.140405e-01</td>\n",
              "      <td>7.709250e-01</td>\n",
              "      <td>7.345240e-01</td>\n",
              "      <td>7.257016e-01</td>\n",
              "      <td>6.244603e-01</td>\n",
              "      <td>6.056471e-01</td>\n",
              "      <td>5.212781e-01</td>\n",
              "      <td>4.822270e-01</td>\n",
              "      <td>4.036325e-01</td>\n",
              "      <td>3.300833e-01</td>\n",
              "      <td>250.120109</td>\n",
              "      <td>0.041527</td>\n",
              "    </tr>\n",
              "    <tr>\n",
              "      <th>min</th>\n",
              "      <td>0.000000</td>\n",
              "      <td>-5.640751e+01</td>\n",
              "      <td>-7.271573e+01</td>\n",
              "      <td>-4.832559e+01</td>\n",
              "      <td>-5.683171e+00</td>\n",
              "      <td>-1.137433e+02</td>\n",
              "      <td>-2.616051e+01</td>\n",
              "      <td>-4.355724e+01</td>\n",
              "      <td>-7.321672e+01</td>\n",
              "      <td>-1.343407e+01</td>\n",
              "      <td>-2.458826e+01</td>\n",
              "      <td>-4.797473e+00</td>\n",
              "      <td>-1.868371e+01</td>\n",
              "      <td>-5.791881e+00</td>\n",
              "      <td>-1.921433e+01</td>\n",
              "      <td>-4.498945e+00</td>\n",
              "      <td>-1.412985e+01</td>\n",
              "      <td>-2.516280e+01</td>\n",
              "      <td>-9.498746e+00</td>\n",
              "      <td>-7.213527e+00</td>\n",
              "      <td>-5.449772e+01</td>\n",
              "      <td>-3.483038e+01</td>\n",
              "      <td>-1.093314e+01</td>\n",
              "      <td>-4.480774e+01</td>\n",
              "      <td>-2.836627e+00</td>\n",
              "      <td>-1.029540e+01</td>\n",
              "      <td>-2.604551e+00</td>\n",
              "      <td>-2.256568e+01</td>\n",
              "      <td>-1.543008e+01</td>\n",
              "      <td>0.000000</td>\n",
              "      <td>0.000000</td>\n",
              "    </tr>\n",
              "    <tr>\n",
              "      <th>25%</th>\n",
              "      <td>54201.500000</td>\n",
              "      <td>-9.203734e-01</td>\n",
              "      <td>-5.985499e-01</td>\n",
              "      <td>-8.903648e-01</td>\n",
              "      <td>-8.486401e-01</td>\n",
              "      <td>-6.915971e-01</td>\n",
              "      <td>-7.682956e-01</td>\n",
              "      <td>-5.540759e-01</td>\n",
              "      <td>-2.086297e-01</td>\n",
              "      <td>-6.430976e-01</td>\n",
              "      <td>-5.354257e-01</td>\n",
              "      <td>-7.624942e-01</td>\n",
              "      <td>-4.055715e-01</td>\n",
              "      <td>-6.485393e-01</td>\n",
              "      <td>-4.255740e-01</td>\n",
              "      <td>-5.828843e-01</td>\n",
              "      <td>-4.680368e-01</td>\n",
              "      <td>-4.837483e-01</td>\n",
              "      <td>-4.988498e-01</td>\n",
              "      <td>-4.562989e-01</td>\n",
              "      <td>-2.117214e-01</td>\n",
              "      <td>-2.283949e-01</td>\n",
              "      <td>-5.423504e-01</td>\n",
              "      <td>-1.618463e-01</td>\n",
              "      <td>-3.545861e-01</td>\n",
              "      <td>-3.171451e-01</td>\n",
              "      <td>-3.269839e-01</td>\n",
              "      <td>-7.083953e-02</td>\n",
              "      <td>-5.295979e-02</td>\n",
              "      <td>5.600000</td>\n",
              "      <td>0.000000</td>\n",
              "    </tr>\n",
              "    <tr>\n",
              "      <th>50%</th>\n",
              "      <td>84692.000000</td>\n",
              "      <td>1.810880e-02</td>\n",
              "      <td>6.548556e-02</td>\n",
              "      <td>1.798463e-01</td>\n",
              "      <td>-1.984653e-02</td>\n",
              "      <td>-5.433583e-02</td>\n",
              "      <td>-2.741871e-01</td>\n",
              "      <td>4.010308e-02</td>\n",
              "      <td>2.235804e-02</td>\n",
              "      <td>-5.142873e-02</td>\n",
              "      <td>-9.291738e-02</td>\n",
              "      <td>-3.275735e-02</td>\n",
              "      <td>1.400326e-01</td>\n",
              "      <td>-1.356806e-02</td>\n",
              "      <td>5.060132e-02</td>\n",
              "      <td>4.807155e-02</td>\n",
              "      <td>6.641332e-02</td>\n",
              "      <td>-6.567575e-02</td>\n",
              "      <td>-3.636312e-03</td>\n",
              "      <td>3.734823e-03</td>\n",
              "      <td>-6.248109e-02</td>\n",
              "      <td>-2.945017e-02</td>\n",
              "      <td>6.781943e-03</td>\n",
              "      <td>-1.119293e-02</td>\n",
              "      <td>4.097606e-02</td>\n",
              "      <td>1.659350e-02</td>\n",
              "      <td>-5.213911e-02</td>\n",
              "      <td>1.342146e-03</td>\n",
              "      <td>1.124383e-02</td>\n",
              "      <td>22.000000</td>\n",
              "      <td>0.000000</td>\n",
              "    </tr>\n",
              "    <tr>\n",
              "      <th>75%</th>\n",
              "      <td>139320.500000</td>\n",
              "      <td>1.315642e+00</td>\n",
              "      <td>8.037239e-01</td>\n",
              "      <td>1.027196e+00</td>\n",
              "      <td>7.433413e-01</td>\n",
              "      <td>6.119264e-01</td>\n",
              "      <td>3.985649e-01</td>\n",
              "      <td>5.704361e-01</td>\n",
              "      <td>3.273459e-01</td>\n",
              "      <td>5.971390e-01</td>\n",
              "      <td>4.539234e-01</td>\n",
              "      <td>7.395934e-01</td>\n",
              "      <td>6.182380e-01</td>\n",
              "      <td>6.625050e-01</td>\n",
              "      <td>4.931498e-01</td>\n",
              "      <td>6.488208e-01</td>\n",
              "      <td>5.232963e-01</td>\n",
              "      <td>3.996750e-01</td>\n",
              "      <td>5.008067e-01</td>\n",
              "      <td>4.589494e-01</td>\n",
              "      <td>1.330408e-01</td>\n",
              "      <td>1.863772e-01</td>\n",
              "      <td>5.285536e-01</td>\n",
              "      <td>1.476421e-01</td>\n",
              "      <td>4.395266e-01</td>\n",
              "      <td>3.507156e-01</td>\n",
              "      <td>2.409522e-01</td>\n",
              "      <td>9.104512e-02</td>\n",
              "      <td>7.827995e-02</td>\n",
              "      <td>77.165000</td>\n",
              "      <td>0.000000</td>\n",
              "    </tr>\n",
              "    <tr>\n",
              "      <th>max</th>\n",
              "      <td>172792.000000</td>\n",
              "      <td>2.454930e+00</td>\n",
              "      <td>2.205773e+01</td>\n",
              "      <td>9.382558e+00</td>\n",
              "      <td>1.687534e+01</td>\n",
              "      <td>3.480167e+01</td>\n",
              "      <td>7.330163e+01</td>\n",
              "      <td>1.205895e+02</td>\n",
              "      <td>2.000721e+01</td>\n",
              "      <td>1.559499e+01</td>\n",
              "      <td>2.374514e+01</td>\n",
              "      <td>1.201891e+01</td>\n",
              "      <td>7.848392e+00</td>\n",
              "      <td>7.126883e+00</td>\n",
              "      <td>1.052677e+01</td>\n",
              "      <td>8.877742e+00</td>\n",
              "      <td>1.731511e+01</td>\n",
              "      <td>9.253526e+00</td>\n",
              "      <td>5.041069e+00</td>\n",
              "      <td>5.591971e+00</td>\n",
              "      <td>3.942090e+01</td>\n",
              "      <td>2.720284e+01</td>\n",
              "      <td>1.050309e+01</td>\n",
              "      <td>2.252841e+01</td>\n",
              "      <td>4.584549e+00</td>\n",
              "      <td>7.519589e+00</td>\n",
              "      <td>3.517346e+00</td>\n",
              "      <td>3.161220e+01</td>\n",
              "      <td>3.384781e+01</td>\n",
              "      <td>25691.160000</td>\n",
              "      <td>1.000000</td>\n",
              "    </tr>\n",
              "  </tbody>\n",
              "</table>\n",
              "</div>"
            ],
            "text/plain": [
              "                Time            V1  ...         Amount          Class\n",
              "count  284807.000000  2.848070e+05  ...  284807.000000  284807.000000\n",
              "mean    94813.859575  3.919560e-15  ...      88.349619       0.001727\n",
              "std     47488.145955  1.958696e+00  ...     250.120109       0.041527\n",
              "min         0.000000 -5.640751e+01  ...       0.000000       0.000000\n",
              "25%     54201.500000 -9.203734e-01  ...       5.600000       0.000000\n",
              "50%     84692.000000  1.810880e-02  ...      22.000000       0.000000\n",
              "75%    139320.500000  1.315642e+00  ...      77.165000       0.000000\n",
              "max    172792.000000  2.454930e+00  ...   25691.160000       1.000000\n",
              "\n",
              "[8 rows x 31 columns]"
            ]
          },
          "metadata": {
            "tags": []
          },
          "execution_count": 123
        }
      ]
    },
    {
      "cell_type": "code",
      "metadata": {
        "colab": {
          "base_uri": "https://localhost:8080/"
        },
        "id": "D2DAYFzfOw_U",
        "outputId": "d9747561-7bec-4bf5-c152-d37246891ae7"
      },
      "source": [
        "# Missing Values Count.\n",
        "data.isnull().sum().max()"
      ],
      "execution_count": 124,
      "outputs": [
        {
          "output_type": "execute_result",
          "data": {
            "text/plain": [
              "0"
            ]
          },
          "metadata": {
            "tags": []
          },
          "execution_count": 124
        }
      ]
    },
    {
      "cell_type": "code",
      "metadata": {
        "colab": {
          "base_uri": "https://localhost:8080/"
        },
        "id": "_axa8gO9O9yq",
        "outputId": "b20fec9e-9c93-4a6f-a671-f923e4986644"
      },
      "source": [
        "# The classes are heavily skewed. We need to resolve this issue later.\n",
        "print('No Frauds', round(data['Class'].value_counts()[0]/len(data) * 100, 2), '% of the dataset')\n",
        "print('Frauds', round(data['Class'].value_counts()[1]/len(data) * 100, 2), '% of the dataset')"
      ],
      "execution_count": 125,
      "outputs": [
        {
          "output_type": "stream",
          "text": [
            "No Frauds 99.83 % of the dataset\n",
            "Frauds 0.17 % of the dataset\n"
          ],
          "name": "stdout"
        }
      ]
    },
    {
      "cell_type": "markdown",
      "metadata": {
        "id": "UshqoWccRMNx"
      },
      "source": [
        "*Notice how imbalanced is the original dataset! Most of the transactions are in the Non-Fraud category. If we use this data as the base for our predictive models and analysis, we might get a lot of errors and our implemented ML algorithms will probably overfit since it will \"assume\" that most transactions are not a fraud. But we don't want our model to assume, instead it must accurately detect patterns that give signs of Fraud.*"
      ]
    },
    {
      "cell_type": "code",
      "metadata": {
        "colab": {
          "base_uri": "https://localhost:8080/",
          "height": 331
        },
        "id": "dqNOb774RO8o",
        "outputId": "41c84409-e023-42a4-cc5b-ecec71670e47"
      },
      "source": [
        "colors = [\"#0101DF\", \"#DF0101\"]\n",
        "\n",
        "sns.countplot('Class', data = data, palette = colors)\n",
        "plt.title('Class Distributions \\n (0: No Fraud || 1: Fraud)', fontsize = 14)"
      ],
      "execution_count": 126,
      "outputs": [
        {
          "output_type": "execute_result",
          "data": {
            "text/plain": [
              "Text(0.5, 1.0, 'Class Distributions \\n (0: No Fraud || 1: Fraud)')"
            ]
          },
          "metadata": {
            "tags": []
          },
          "execution_count": 126
        },
        {
          "output_type": "display_data",
          "data": {
            "image/png": "[encoded data removed]",
            "text/plain": [
              "<Figure size 432x288 with 1 Axes>"
            ]
          },
          "metadata": {
            "tags": [],
            "needs_background": "light"
          }
        }
      ]
    },
    {
      "cell_type": "markdown",
      "metadata": {
        "id": "_XE3DbAGTqOC"
      },
      "source": [
        "***Distributions:*** *By seeing the distributions, we can have an idea of how skewed are these features, we can also see further distributions of the other features. There are techniques that can help the distributions be less skewed which will be implemented in this notebook in the future.*"
      ]
    },
    {
      "cell_type": "code",
      "metadata": {
        "colab": {
          "base_uri": "https://localhost:8080/",
          "height": 282
        },
        "id": "9SyXx-_kTrim",
        "outputId": "588446ec-9799-4375-d935-12ec20819e19"
      },
      "source": [
        "fig, ax = plt.subplots(1, 2, figsize = (18, 4))\n",
        "\n",
        "amount_val = data['Amount'].values\n",
        "time_val = data['Time'].values\n",
        "\n",
        "sns.distplot(amount_val, ax = ax[0], color='r')\n",
        "ax[0].set_title('Distribution of Transaction Amount', fontsize = 14)\n",
        "ax[0].set_xlim([min(amount_val), max(amount_val)])\n",
        "\n",
        "sns.distplot(time_val, ax = ax[1], color='b')\n",
        "ax[1].set_title('Distribution of Transaction Time', fontsize = 14)\n",
        "ax[1].set_xlim([min(time_val), max(time_val)])\n",
        "\n",
        "plt.show()"
      ],
      "execution_count": 127,
      "outputs": [
        {
          "output_type": "display_data",
          "data": {
            "image/png": "[encoded data removed]",
            "text/plain": [
              "<Figure size 1296x288 with 2 Axes>"
            ]
          },
          "metadata": {
            "tags": [],
            "needs_background": "light"
          }
        }
      ]
    },
    {
      "cell_type": "markdown",
      "metadata": {
        "id": "lgrhD_O7XPif"
      },
      "source": [
        "# Feature Scaling."
      ]
    },
    {
      "cell_type": "code",
      "metadata": {
        "id": "71DXM3o4XSk2"
      },
      "source": [
        "# \"Time\" and \"Amount\" features should be scaled just like the other remaining features.\n",
        "from sklearn.preprocessing import RobustScaler\n",
        "rsc = RobustScaler()\n",
        "data['Amount'] = rsc.fit_transform(data['Amount'].values.reshape(-1, 1))\n",
        "data['Time'] = rsc.fit_transform(data['Time'].values.reshape(-1, 1))"
      ],
      "execution_count": 128,
      "outputs": []
    },
    {
      "cell_type": "code",
      "metadata": {
        "id": "Uuk4xw-CfR5c"
      },
      "source": [
        "# Split the dataset into independent and dependent features.\n",
        "X = data.drop('Class', axis = 1)\n",
        "y = data['Class']"
      ],
      "execution_count": 129,
      "outputs": []
    },
    {
      "cell_type": "markdown",
      "metadata": {
        "id": "p1ivb23NRAiM"
      },
      "source": [
        "# **Sampling Techniques for Imbalance Data.**\n",
        "\n",
        "[https://imbalanced-learn.org/stable/index.html#](https://imbalanced-learn.org/stable/index.html#)\n",
        "\n",
        "[https://imbalanced-learn.org/stable/references/index.html#api](https://imbalanced-learn.org/stable/references/index.html#api)"
      ]
    },
    {
      "cell_type": "markdown",
      "metadata": {
        "id": "Er44yhFZb8Z0"
      },
      "source": [
        "# **Random Under-Sampling**\n",
        "\n",
        "***Random Under-Sampling involves randomly selecting examples from the majority class and deleting them from the training dataset. In the random under-sampling, the majority class instances are discarded at random until a more balanced distribution is reached.***\n",
        "\n",
        "# **Steps:**\n",
        "\n",
        "1.   The first thing is to determine how **imbalanced** is our class (use \"**value_counts()**\" on the class column to determine the amount for each label).\n",
        "2.   After determining how many instances are considered **fraud transactions**, we should bring the **non-fraud transactions** to the same level as **fraud transactions** (assuming we want a 50/50 ratio). This will be equivalent to 492 cases of **fraud** and 492 cases of **non-fraud** transactions.\n",
        "3.   After implementing this technique, we have a sub-sample of the data frame with a 50/50 ratio for each class. Then the next step is to **shuffle the data** to see if our models can maintain a certain accuracy every time we run this script.\n",
        "\n",
        "The main issue with **\"Random Under-Sampling\"** is that our classification models will not perform as accurate as we would like to since there is a **great deal of information loss** (i.e., bringing 492 non-fraud transactions from 284,315 non-fraud transactions).\n",
        "\n"
      ]
    },
    {
      "cell_type": "code",
      "metadata": {
        "id": "xhpIKKjWcpkD"
      },
      "source": [
        "# Implementing Undersampling for Handling Imbalanced.\n",
        "from imblearn.under_sampling import NearMiss\n",
        "nm = NearMiss(random_state = 42)\n",
        "X_undersample, y_undersample = nm.fit_sample(X, y)"
      ],
      "execution_count": 130,
      "outputs": []
    },
    {
      "cell_type": "code",
      "metadata": {
        "colab": {
          "base_uri": "https://localhost:8080/"
        },
        "id": "RmJruuCwi_37",
        "outputId": "d9312573-aaa9-4c2d-ad16-d42e5735f48e"
      },
      "source": [
        "X_undersample.shape, y_undersample.shape"
      ],
      "execution_count": 131,
      "outputs": [
        {
          "output_type": "execute_result",
          "data": {
            "text/plain": [
              "((984, 30), (984,))"
            ]
          },
          "metadata": {
            "tags": []
          },
          "execution_count": 131
        }
      ]
    },
    {
      "cell_type": "code",
      "metadata": {
        "colab": {
          "base_uri": "https://localhost:8080/"
        },
        "id": "bP3bBV-LlT1G",
        "outputId": "2c884a9b-3753-49d5-d15b-ef743529aedc"
      },
      "source": [
        "from collections import Counter\n",
        "print('Original Label Count {}'.format(Counter(y)))\n",
        "print('Resampled Label Count {}'.format(Counter(y_undersample)))"
      ],
      "execution_count": 132,
      "outputs": [
        {
          "output_type": "stream",
          "text": [
            "Original Label Count Counter({0: 284315, 1: 492})\n",
            "Resampled Label Count Counter({0: 492, 1: 492})\n"
          ],
          "name": "stdout"
        }
      ]
    },
    {
      "cell_type": "code",
      "metadata": {
        "id": "gfYkDidwm2o4"
      },
      "source": [
        "# Randomly Shuffle data and target variables.\n",
        "from sklearn.utils import shuffle\n",
        "X_undersample, y_undersample = shuffle(X_undersample, y_undersample)"
      ],
      "execution_count": 133,
      "outputs": []
    },
    {
      "cell_type": "markdown",
      "metadata": {
        "id": "RYQjhXoXxBoi"
      },
      "source": [
        "# **Over-Sampling Methods**\n",
        "\n",
        "[https://imbalanced-learn.org/stable/references/index.html#api](https://imbalanced-learn.org/stable/references/index.html#api)\n",
        "\n",
        "1. **Random Over-Sampling**\n",
        "\n",
        "2. **SMOTE Algorithms**"
      ]
    },
    {
      "cell_type": "markdown",
      "metadata": {
        "id": "s4R3qjl8xyl9"
      },
      "source": [
        "# **Random Over-Sampling**\n",
        "\n",
        "[RandomOverSampler](https://imbalanced-learn.org/stable/references/generated/imblearn.over_sampling.RandomOverSampler.html#imblearn.over_sampling.RandomOverSampler)\n",
        "\n",
        "***Random Over-Sampling involves randomly selecting examples from the minority class, with replacement, and adding them to the training dataset. In the random over-sampling, the minority class instances are selected with replacement, until a more balanced distribution is reached.***"
      ]
    },
    {
      "cell_type": "code",
      "metadata": {
        "id": "CMjV8qWjxDgc"
      },
      "source": [
        "# Implementing Oversampling for Handling Imbalanced Dataset.\n",
        "from imblearn.over_sampling import RandomOverSampler\n",
        "os =  RandomOverSampler(ratio = 0.5, random_state = 42)\n",
        "X_oversample, y_oversample = os.fit_sample(X, y)"
      ],
      "execution_count": 134,
      "outputs": []
    },
    {
      "cell_type": "code",
      "metadata": {
        "colab": {
          "base_uri": "https://localhost:8080/"
        },
        "id": "GliUKYiww0QZ",
        "outputId": "0bd3cb64-19cf-45b8-9dd6-d83b601dc3a2"
      },
      "source": [
        "X_oversample.shape, y_oversample.shape"
      ],
      "execution_count": 135,
      "outputs": [
        {
          "output_type": "execute_result",
          "data": {
            "text/plain": [
              "((426472, 30), (426472,))"
            ]
          },
          "metadata": {
            "tags": []
          },
          "execution_count": 135
        }
      ]
    },
    {
      "cell_type": "code",
      "metadata": {
        "colab": {
          "base_uri": "https://localhost:8080/"
        },
        "id": "xBgIPRQZzxVS",
        "outputId": "d2b802c9-e4a6-4f85-ec68-5691c6853422"
      },
      "source": [
        "from collections import Counter\n",
        "print('Original Label Count {}'.format(Counter(y)))\n",
        "print('Resampled Label Count {}'.format(Counter(y_oversample)))"
      ],
      "execution_count": 136,
      "outputs": [
        {
          "output_type": "stream",
          "text": [
            "Original Label Count Counter({0: 284315, 1: 492})\n",
            "Resampled Label Count Counter({0: 284315, 1: 142157})\n"
          ],
          "name": "stdout"
        }
      ]
    },
    {
      "cell_type": "code",
      "metadata": {
        "id": "PEuUCoT1z0e9"
      },
      "source": [
        "# Randomly Shuffle data and target variables.\n",
        "from sklearn.utils import shuffle\n",
        "X_oversample, y_oversample = shuffle(X_oversample, y_oversample)"
      ],
      "execution_count": 137,
      "outputs": []
    },
    {
      "cell_type": "markdown",
      "metadata": {
        "id": "vjrt36jo3l6s"
      },
      "source": [
        "# **SMOTE Sampling**\n",
        "\n",
        "[SMOTE algorithms](https://imbalanced-learn.org/stable/references/over_sampling.html#smote-algorithms)\n",
        "\n",
        "***SMOTE is an oversampling technique where the synthetic samples are generated for the minority class. This algorithm helps to overcome the overfitting problem posed by random oversampling. It focuses on the feature space to generate new instances with the help of interpolation between the positive instances that lie together.***\n",
        "\n",
        "[class imblearn.over_sampling.SMOTE()](https://imbalanced-learn.org/stable/references/generated/imblearn.over_sampling.SMOTE.html#imblearn.over_sampling.SMOTE)\n",
        "\n",
        "**-------------------------------------------------------------------------------------------------------------------------------------------------------------------**\n",
        "![SMOTE.png](data:image/png;base64,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)\n",
        "\n",
        "**-------------------------------------------------------------------------------------------------------------------------------------------------------------------**\n",
        "\n",
        "***SMOTE stands for Synthetic Minority Over-sampling Technique. Unlike Random Under-Sampling, SMOTE creates new synthetic points to have an equal balance of the classes. This is another alternative for solving the \"class imbalance problems\".***\n",
        "\n",
        "**Understanding SMOTE:**\n",
        "*   **Solving the Class Imbalance:** SMOTE creates synthetic data points from the minority class to reach an equal balance between the minority and majority class.\n",
        "*   **Location of the Synthetic Points:** SMOTE picks the distance between the closest neighbors of the minority class. In between these distances, it creates synthetic data points.\n",
        "*   **Final Effect:** More information is retained since we didn't have to delete any rows unlike in random undersampling.\n",
        "*   **Accuracy || Time Tradeoff:** Although SMOTE will likely be more accurate than random under-sampling, it will take more time to train since no rows are eliminated as previously stated."
      ]
    },
    {
      "cell_type": "code",
      "metadata": {
        "id": "xyadc_kt7MvM"
      },
      "source": [
        "# Implementing SMOTE Sampling for Handling Imbalanced Dataset.\n",
        "from imblearn.over_sampling import SMOTE \n",
        "smote =  SMOTE(ratio = 0.75, random_state = 42)\n",
        "X_smote, y_smote = smote.fit_sample(X, y)"
      ],
      "execution_count": 138,
      "outputs": []
    },
    {
      "cell_type": "code",
      "metadata": {
        "colab": {
          "base_uri": "https://localhost:8080/"
        },
        "id": "8U4eaA_D32nJ",
        "outputId": "05efd5d4-a1a6-4c2c-b19a-be3f4c024ff9"
      },
      "source": [
        "X_smote.shape, y_smote.shape"
      ],
      "execution_count": 139,
      "outputs": [
        {
          "output_type": "execute_result",
          "data": {
            "text/plain": [
              "((497551, 30), (497551,))"
            ]
          },
          "metadata": {
            "tags": []
          },
          "execution_count": 139
        }
      ]
    },
    {
      "cell_type": "code",
      "metadata": {
        "colab": {
          "base_uri": "https://localhost:8080/"
        },
        "id": "_8Ef0wVc7xyA",
        "outputId": "be72ebab-1361-4098-9cd9-04ebcac96f80"
      },
      "source": [
        "from collections import Counter\n",
        "print('Original Label Count {}'.format(Counter(y)))\n",
        "print('Resampled Label Count {}'.format(Counter(y_smote)))"
      ],
      "execution_count": 140,
      "outputs": [
        {
          "output_type": "stream",
          "text": [
            "Original Label Count Counter({0: 284315, 1: 492})\n",
            "Resampled Label Count Counter({0: 284315, 1: 213236})\n"
          ],
          "name": "stdout"
        }
      ]
    },
    {
      "cell_type": "code",
      "metadata": {
        "id": "yYHak18-77To"
      },
      "source": [
        "# Randomly Shuffle data and target variables.\n",
        "from sklearn.utils import shuffle\n",
        "X_smote, y_smote = shuffle(X_smote, y_smote)"
      ],
      "execution_count": 141,
      "outputs": []
    },
    {
      "cell_type": "markdown",
      "metadata": {
        "id": "9yYoufAp8J-i"
      },
      "source": [
        "# **Combination of Over- and Under-Sampling Methods**\n",
        "\n",
        "The [imblearn.combine](https://imbalanced-learn.org/stable/references/combine.html) provides methods which combine over-sampling and under-sampling.\n",
        "\n",
        "[class imblearn.combine.SMOTETomek()](https://imbalanced-learn.org/stable/references/generated/imblearn.combine.SMOTETomek.html)"
      ]
    },
    {
      "cell_type": "code",
      "metadata": {
        "id": "rRwmFzVWPF6r"
      },
      "source": [
        "# Implementing SMOTETomek Sampling for Handling Imbalanced Dataset.\n",
        "from imblearn.combine import SMOTETomek\n",
        "tomek = SMOTETomek(ratio = 0.8, random_state = 42)\n",
        "X_tomek, y_tomek = tomek.fit_sample(X, y)"
      ],
      "execution_count": 142,
      "outputs": []
    },
    {
      "cell_type": "code",
      "metadata": {
        "colab": {
          "base_uri": "https://localhost:8080/"
        },
        "id": "BCycojotP6qS",
        "outputId": "8f225e0a-b1cf-4ad8-a602-cb8022fda57f"
      },
      "source": [
        "X_tomek.shape, y_tomek.shape"
      ],
      "execution_count": 143,
      "outputs": [
        {
          "output_type": "execute_result",
          "data": {
            "text/plain": [
              "((511767, 30), (511767,))"
            ]
          },
          "metadata": {
            "tags": []
          },
          "execution_count": 143
        }
      ]
    },
    {
      "cell_type": "code",
      "metadata": {
        "colab": {
          "base_uri": "https://localhost:8080/"
        },
        "id": "NfEksV0IP9Mh",
        "outputId": "d69aec22-d838-4dbe-cd2e-53ced0be9623"
      },
      "source": [
        "from collections import Counter\n",
        "print('Original Label Count {}'.format(Counter(y)))\n",
        "print('Resampled Label Count {}'.format(Counter(y_tomek)))"
      ],
      "execution_count": 144,
      "outputs": [
        {
          "output_type": "stream",
          "text": [
            "Original Label Count Counter({0: 284315, 1: 492})\n",
            "Resampled Label Count Counter({0: 284315, 1: 227452})\n"
          ],
          "name": "stdout"
        }
      ]
    },
    {
      "cell_type": "code",
      "metadata": {
        "id": "1JmcHAk8P_94"
      },
      "source": [
        "# Randomly Shuffle data and target variables.\n",
        "from sklearn.utils import shuffle\n",
        "X_tomek, y_tomek = shuffle(X_tomek, y_tomek)"
      ],
      "execution_count": 145,
      "outputs": []
    },
    {
      "cell_type": "markdown",
      "metadata": {
        "id": "UYk_c8UGbkqt"
      },
      "source": [
        "# **Overfitting during Cross-Validation:**\n",
        "\n",
        "It is not advisable to undersample or oversample the dataset before cross-validation. It is because we will be directly influencing the validation set before implementing cross-validation, causing a \"data leakage\" problem.\n",
        "\n",
        "\n",
        "**The Wrong Way:**\n",
        "\n",
        "![1.jpg](data:image/jpeg;base64,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)\n",
        "\n",
        "As mentioned previously, if we get the minority class **\"Fraud\"**, then, in that case, creating the synthetic points before cross-validating will have a certain influence on the \"validation set\" in the cross-validation process. Recall how cross-validation works: let's assume we are splitting the dataset into 5 batches, where 4/5 of the dataset will be the training set while 1/5 will be the validation set. **The test set should be untouched.** For that reason, we have to do the creation of synthetic data points \"during\" cross-validation and not before, just like below:\n",
        "\n",
        "\n",
        "**The Right Way:**\n",
        "\n",
        "![2.jpg](data:image/jpeg;base64,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)\n",
        "\n",
        "As we see above, SMOTE occurs **\"during\"** cross-validation and **\"not prior\"** to the cross-validation process. Synthetic data are created only for the training set without affecting the validation set.\n",
        "\n",
        "\n",
        "[DEALING WITH IMBALANCED DATA: UNDERSAMPLING, OVERSAMPLING AND PROPER CROSS-VALIDATION](https://www.marcoaltini.com/blog/dealing-with-imbalanced-data-undersampling-oversampling-and-proper-cross-validation)\n",
        "\n",
        "[Overcoming Class Imbalance using SMOTE Techniques](https://www.analyticsvidhya.com/blog/2020/10/overcoming-class-imbalance-using-smote-techniques/)"
      ]
    }
  ]
}