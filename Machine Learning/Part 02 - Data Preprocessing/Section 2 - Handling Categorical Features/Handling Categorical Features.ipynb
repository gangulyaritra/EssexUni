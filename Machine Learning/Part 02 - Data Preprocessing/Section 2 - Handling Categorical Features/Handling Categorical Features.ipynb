{
  "nbformat": 4,
  "nbformat_minor": 0,
  "metadata": {
    "colab": {
      "name": "Handling Categorical Features.ipynb",
      "provenance": [],
      "collapsed_sections": []
    },
    "kernelspec": {
      "name": "python3",
      "display_name": "Python 3"
    },
    "language_info": {
      "name": "python"
    }
  },
  "cells": [
    {
      "cell_type": "markdown",
      "metadata": {
        "id": "PNTGi_DZHFq3"
      },
      "source": [
        "# **Handling Categorical Features**\n",
        "\n",
        "*Categorical encoding is a process of converting categories to numbers.*"
      ]
    },
    {
      "cell_type": "code",
      "metadata": {
        "id": "6c928fR7FU-N"
      },
      "source": [
        "# Import Library.\n",
        "import pandas as pd\n",
        "import numpy as np"
      ],
      "execution_count": 36,
      "outputs": []
    },
    {
      "cell_type": "code",
      "metadata": {
        "colab": {
          "base_uri": "https://localhost:8080/",
          "height": 202
        },
        "id": "9j29zyvqHNaE",
        "outputId": "901d8385-167a-4587-ed52-bcccb99914ae"
      },
      "source": [
        "# Import Dataset.\n",
        "data = pd.read_csv(\"Startups_Expense.csv\")\n",
        "data.head()"
      ],
      "execution_count": 37,
      "outputs": [
        {
          "output_type": "execute_result",
          "data": {
            "text/html": [
              "<div>\n",
              "<style scoped>\n",
              "    .dataframe tbody tr th:only-of-type {\n",
              "        vertical-align: middle;\n",
              "    }\n",
              "\n",
              "    .dataframe tbody tr th {\n",
              "        vertical-align: top;\n",
              "    }\n",
              "\n",
              "    .dataframe thead th {\n",
              "        text-align: right;\n",
              "    }\n",
              "</style>\n",
              "<table border=\"1\" class=\"dataframe\">\n",
              "  <thead>\n",
              "    <tr style=\"text-align: right;\">\n",
              "      <th></th>\n",
              "      <th>R&amp;D Spend</th>\n",
              "      <th>Administration</th>\n",
              "      <th>Marketing Spend</th>\n",
              "      <th>State</th>\n",
              "      <th>Profit</th>\n",
              "    </tr>\n",
              "  </thead>\n",
              "  <tbody>\n",
              "    <tr>\n",
              "      <th>0</th>\n",
              "      <td>165349.20</td>\n",
              "      <td>136897.80</td>\n",
              "      <td>471784.10</td>\n",
              "      <td>New York</td>\n",
              "      <td>192261.83</td>\n",
              "    </tr>\n",
              "    <tr>\n",
              "      <th>1</th>\n",
              "      <td>162597.70</td>\n",
              "      <td>151377.59</td>\n",
              "      <td>443898.53</td>\n",
              "      <td>California</td>\n",
              "      <td>191792.06</td>\n",
              "    </tr>\n",
              "    <tr>\n",
              "      <th>2</th>\n",
              "      <td>153441.51</td>\n",
              "      <td>101145.55</td>\n",
              "      <td>407934.54</td>\n",
              "      <td>Florida</td>\n",
              "      <td>191050.39</td>\n",
              "    </tr>\n",
              "    <tr>\n",
              "      <th>3</th>\n",
              "      <td>144372.41</td>\n",
              "      <td>118671.85</td>\n",
              "      <td>383199.62</td>\n",
              "      <td>New York</td>\n",
              "      <td>182901.99</td>\n",
              "    </tr>\n",
              "    <tr>\n",
              "      <th>4</th>\n",
              "      <td>142107.34</td>\n",
              "      <td>91391.77</td>\n",
              "      <td>366168.42</td>\n",
              "      <td>Florida</td>\n",
              "      <td>166187.94</td>\n",
              "    </tr>\n",
              "  </tbody>\n",
              "</table>\n",
              "</div>"
            ],
            "text/plain": [
              "   R&D Spend  Administration  Marketing Spend       State     Profit\n",
              "0  165349.20       136897.80        471784.10    New York  192261.83\n",
              "1  162597.70       151377.59        443898.53  California  191792.06\n",
              "2  153441.51       101145.55        407934.54     Florida  191050.39\n",
              "3  144372.41       118671.85        383199.62    New York  182901.99\n",
              "4  142107.34        91391.77        366168.42     Florida  166187.94"
            ]
          },
          "metadata": {
            "tags": []
          },
          "execution_count": 37
        }
      ]
    },
    {
      "cell_type": "code",
      "metadata": {
        "colab": {
          "base_uri": "https://localhost:8080/"
        },
        "id": "s-tMd3DeIub-",
        "outputId": "b41d8203-2bb6-4de5-f4f3-a07b13e48621"
      },
      "source": [
        "data.info() # Data Summary."
      ],
      "execution_count": 38,
      "outputs": [
        {
          "output_type": "stream",
          "text": [
            "<class 'pandas.core.frame.DataFrame'>\n",
            "RangeIndex: 50 entries, 0 to 49\n",
            "Data columns (total 5 columns):\n",
            " #   Column           Non-Null Count  Dtype  \n",
            "---  ------           --------------  -----  \n",
            " 0   R&D Spend        50 non-null     float64\n",
            " 1   Administration   50 non-null     float64\n",
            " 2   Marketing Spend  50 non-null     float64\n",
            " 3   State            50 non-null     object \n",
            " 4   Profit           50 non-null     float64\n",
            "dtypes: float64(4), object(1)\n",
            "memory usage: 2.1+ KB\n"
          ],
          "name": "stdout"
        }
      ]
    },
    {
      "cell_type": "code",
      "metadata": {
        "colab": {
          "base_uri": "https://localhost:8080/"
        },
        "id": "CecssiKzJzdV",
        "outputId": "9cdaa836-6a27-42e7-c807-b64d826f3df4"
      },
      "source": [
        "data['State'].value_counts()  # Count frequency of each category."
      ],
      "execution_count": 39,
      "outputs": [
        {
          "output_type": "execute_result",
          "data": {
            "text/plain": [
              "California    17\n",
              "New York      17\n",
              "Florida       16\n",
              "Name: State, dtype: int64"
            ]
          },
          "metadata": {
            "tags": []
          },
          "execution_count": 39
        }
      ]
    },
    {
      "cell_type": "markdown",
      "metadata": {
        "id": "0FQu2OosNWis"
      },
      "source": [
        "# **Label Encoding**\n",
        "\n",
        "[sklearn.preprocessing.LabelEncoder](https://scikit-learn.org/stable/modules/generated/sklearn.preprocessing.LabelEncoder.html#sklearn.preprocessing.LabelEncoder)\n",
        "\n",
        "***Label Encoding is a popular encoding technique for handling categorical variables. In this technique, each label is assigned to a unique integer based on alphabetical ordering.***\n",
        "\n",
        "**Challenges with Label Encoding:**\n",
        "\n",
        "In this encoding technique, the categorical variables do not have an order or rank. Hence, there is a very high probability that the model captures the relationship between countries such as **New York < Florida < California**. To overcome this obstacle, we use **One-Hot Encoding** technique.\n",
        "\n",
        "![Label Encoding.png](data:image/png;base64,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)\n",
        "\n",
        "***Label encoding assigns each unique value to a different integer.***"
      ]
    },
    {
      "cell_type": "code",
      "metadata": {
        "colab": {
          "base_uri": "https://localhost:8080/",
          "height": 202
        },
        "id": "Ak0dosUDLjno",
        "outputId": "940c0d6a-84b1-49f0-d118-850e613d8783"
      },
      "source": [
        "# Label Encoding.\n",
        "from sklearn import preprocessing\n",
        "label_encoder = preprocessing.LabelEncoder()\n",
        "data['State'] = label_encoder.fit_transform(data['State']) \n",
        "data.head()"
      ],
      "execution_count": 40,
      "outputs": [
        {
          "output_type": "execute_result",
          "data": {
            "text/html": [
              "<div>\n",
              "<style scoped>\n",
              "    .dataframe tbody tr th:only-of-type {\n",
              "        vertical-align: middle;\n",
              "    }\n",
              "\n",
              "    .dataframe tbody tr th {\n",
              "        vertical-align: top;\n",
              "    }\n",
              "\n",
              "    .dataframe thead th {\n",
              "        text-align: right;\n",
              "    }\n",
              "</style>\n",
              "<table border=\"1\" class=\"dataframe\">\n",
              "  <thead>\n",
              "    <tr style=\"text-align: right;\">\n",
              "      <th></th>\n",
              "      <th>R&amp;D Spend</th>\n",
              "      <th>Administration</th>\n",
              "      <th>Marketing Spend</th>\n",
              "      <th>State</th>\n",
              "      <th>Profit</th>\n",
              "    </tr>\n",
              "  </thead>\n",
              "  <tbody>\n",
              "    <tr>\n",
              "      <th>0</th>\n",
              "      <td>165349.20</td>\n",
              "      <td>136897.80</td>\n",
              "      <td>471784.10</td>\n",
              "      <td>2</td>\n",
              "      <td>192261.83</td>\n",
              "    </tr>\n",
              "    <tr>\n",
              "      <th>1</th>\n",
              "      <td>162597.70</td>\n",
              "      <td>151377.59</td>\n",
              "      <td>443898.53</td>\n",
              "      <td>0</td>\n",
              "      <td>191792.06</td>\n",
              "    </tr>\n",
              "    <tr>\n",
              "      <th>2</th>\n",
              "      <td>153441.51</td>\n",
              "      <td>101145.55</td>\n",
              "      <td>407934.54</td>\n",
              "      <td>1</td>\n",
              "      <td>191050.39</td>\n",
              "    </tr>\n",
              "    <tr>\n",
              "      <th>3</th>\n",
              "      <td>144372.41</td>\n",
              "      <td>118671.85</td>\n",
              "      <td>383199.62</td>\n",
              "      <td>2</td>\n",
              "      <td>182901.99</td>\n",
              "    </tr>\n",
              "    <tr>\n",
              "      <th>4</th>\n",
              "      <td>142107.34</td>\n",
              "      <td>91391.77</td>\n",
              "      <td>366168.42</td>\n",
              "      <td>1</td>\n",
              "      <td>166187.94</td>\n",
              "    </tr>\n",
              "  </tbody>\n",
              "</table>\n",
              "</div>"
            ],
            "text/plain": [
              "   R&D Spend  Administration  Marketing Spend  State     Profit\n",
              "0  165349.20       136897.80        471784.10      2  192261.83\n",
              "1  162597.70       151377.59        443898.53      0  191792.06\n",
              "2  153441.51       101145.55        407934.54      1  191050.39\n",
              "3  144372.41       118671.85        383199.62      2  182901.99\n",
              "4  142107.34        91391.77        366168.42      1  166187.94"
            ]
          },
          "metadata": {
            "tags": []
          },
          "execution_count": 40
        }
      ]
    },
    {
      "cell_type": "markdown",
      "metadata": {
        "id": "0SOS82qNRHl7"
      },
      "source": [
        "# **One-Hot Encoding**\n",
        "\n",
        "[sklearn.preprocessing.OneHotEncoder](https://scikit-learn.org/stable/modules/generated/sklearn.preprocessing.OneHotEncoder.html#sklearn.preprocessing.OneHotEncoder)\n",
        "\n",
        "***One-Hot Encoding is the process of creating dummy variables.***\n",
        "\n",
        "One-Hot Encoding is another popular technique for treating categorical variables. It simply creates additional features based on the number of unique values in the categorical feature. Every unique value in the category will be added as a feature.\n",
        "\n",
        "**Challenges of One-Hot Encoding: Dummy Variable Trap**\n",
        "\n",
        "*Dummy Variable Trap is a scenario in which variables are highly correlated to each other.*\n",
        "\n",
        "One-Hot Encoding results in a Dummy Variable Trap since the outcome of one variable can easily be predicted with the help of the remaining variables. The Dummy Variable Trap leads to the problem known as **multicollinearity**. Multicollinearity occurs where there is a dependency between the independent features. Multicollinearity is a serious issue in machine learning models like Linear Regression and Logistic Regression. So, in order to overcome the problem of multicollinearity, one of the dummy variables has to be dropped.\n",
        "\n",
        "Another problem with the One-Hot Encoding technique is that it makes the feature space large by adding additional features into the dataset. Hence it becomes computationally expensive and might face the problem of the curse of dimensionality.\n",
        "\n",
        "![One-Hot Encoding.png](data:image/png;base64,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)"
      ]
    },
    {
      "cell_type": "code",
      "metadata": {
        "colab": {
          "base_uri": "https://localhost:8080/",
          "height": 202
        },
        "id": "mGoSocsXJGKV",
        "outputId": "208a8dd9-437a-415d-bf1f-d0c1f1d871b2"
      },
      "source": [
        "# One-Hot Encoding.\n",
        "X = data.iloc[:, :].values\n",
        "from sklearn.compose import ColumnTransformer\n",
        "from sklearn.preprocessing import OneHotEncoder\n",
        "ct = ColumnTransformer(transformers = [('encoder', OneHotEncoder(), [3])], remainder = 'passthrough')\n",
        "X = np.array(ct.fit_transform(X))\n",
        "data = pd.DataFrame(X, columns = ['California', 'Florida', 'New York', 'R&D Spend', 'Administration', 'Marketing Spend', 'Profit'])\n",
        "data.head()"
      ],
      "execution_count": 41,
      "outputs": [
        {
          "output_type": "execute_result",
          "data": {
            "text/html": [
              "<div>\n",
              "<style scoped>\n",
              "    .dataframe tbody tr th:only-of-type {\n",
              "        vertical-align: middle;\n",
              "    }\n",
              "\n",
              "    .dataframe tbody tr th {\n",
              "        vertical-align: top;\n",
              "    }\n",
              "\n",
              "    .dataframe thead th {\n",
              "        text-align: right;\n",
              "    }\n",
              "</style>\n",
              "<table border=\"1\" class=\"dataframe\">\n",
              "  <thead>\n",
              "    <tr style=\"text-align: right;\">\n",
              "      <th></th>\n",
              "      <th>California</th>\n",
              "      <th>Florida</th>\n",
              "      <th>New York</th>\n",
              "      <th>R&amp;D Spend</th>\n",
              "      <th>Administration</th>\n",
              "      <th>Marketing Spend</th>\n",
              "      <th>Profit</th>\n",
              "    </tr>\n",
              "  </thead>\n",
              "  <tbody>\n",
              "    <tr>\n",
              "      <th>0</th>\n",
              "      <td>0.0</td>\n",
              "      <td>0.0</td>\n",
              "      <td>1.0</td>\n",
              "      <td>165349.20</td>\n",
              "      <td>136897.80</td>\n",
              "      <td>471784.10</td>\n",
              "      <td>192261.83</td>\n",
              "    </tr>\n",
              "    <tr>\n",
              "      <th>1</th>\n",
              "      <td>1.0</td>\n",
              "      <td>0.0</td>\n",
              "      <td>0.0</td>\n",
              "      <td>162597.70</td>\n",
              "      <td>151377.59</td>\n",
              "      <td>443898.53</td>\n",
              "      <td>191792.06</td>\n",
              "    </tr>\n",
              "    <tr>\n",
              "      <th>2</th>\n",
              "      <td>0.0</td>\n",
              "      <td>1.0</td>\n",
              "      <td>0.0</td>\n",
              "      <td>153441.51</td>\n",
              "      <td>101145.55</td>\n",
              "      <td>407934.54</td>\n",
              "      <td>191050.39</td>\n",
              "    </tr>\n",
              "    <tr>\n",
              "      <th>3</th>\n",
              "      <td>0.0</td>\n",
              "      <td>0.0</td>\n",
              "      <td>1.0</td>\n",
              "      <td>144372.41</td>\n",
              "      <td>118671.85</td>\n",
              "      <td>383199.62</td>\n",
              "      <td>182901.99</td>\n",
              "    </tr>\n",
              "    <tr>\n",
              "      <th>4</th>\n",
              "      <td>0.0</td>\n",
              "      <td>1.0</td>\n",
              "      <td>0.0</td>\n",
              "      <td>142107.34</td>\n",
              "      <td>91391.77</td>\n",
              "      <td>366168.42</td>\n",
              "      <td>166187.94</td>\n",
              "    </tr>\n",
              "  </tbody>\n",
              "</table>\n",
              "</div>"
            ],
            "text/plain": [
              "   California  Florida  New York  ...  Administration  Marketing Spend     Profit\n",
              "0         0.0      0.0       1.0  ...       136897.80        471784.10  192261.83\n",
              "1         1.0      0.0       0.0  ...       151377.59        443898.53  191792.06\n",
              "2         0.0      1.0       0.0  ...       101145.55        407934.54  191050.39\n",
              "3         0.0      0.0       1.0  ...       118671.85        383199.62  182901.99\n",
              "4         0.0      1.0       0.0  ...        91391.77        366168.42  166187.94\n",
              "\n",
              "[5 rows x 7 columns]"
            ]
          },
          "metadata": {
            "tags": []
          },
          "execution_count": 41
        }
      ]
    },
    {
      "cell_type": "markdown",
      "metadata": {
        "id": "4nDdvvA3dceV"
      },
      "source": [
        "# **When to use a Label Encoding vs. One Hot Encoding?**\n",
        "This question generally depends on the dataset and the model which we wish to apply. But still, a few points to note before choosing the right encoding technique for our model:\n",
        "\n",
        "**Apply One-Hot Encoding when:**\n",
        "*   The categorical feature is not ordinal (eg. India, USA, UK, France, etc.)\n",
        "*   The number of categorical features is less, so one-hot encoding can be effectively applied.\n",
        "\n",
        "**Apply Label Encoding when:**\n",
        "*   The categorical feature is ordinal (like Jr. kg, Sr. kg, Primary School, High School, etc.)\n",
        "*   The number of categories is quite large as one-hot encoding can lead to high memory consumption.\n",
        "\n"
      ]
    }
  ]
}