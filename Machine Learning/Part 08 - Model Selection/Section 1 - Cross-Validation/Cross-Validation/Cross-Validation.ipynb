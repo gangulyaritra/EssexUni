{
  "nbformat": 4,
  "nbformat_minor": 0,
  "metadata": {
    "colab": {
      "name": "CrossValidation.ipynb",
      "provenance": [],
      "collapsed_sections": []
    },
    "kernelspec": {
      "name": "python3",
      "display_name": "Python 3"
    },
    "language_info": {
      "name": "python"
    }
  },
  "cells": [
    {
      "cell_type": "markdown",
      "metadata": {
        "id": "7e0ftWsxdT3H"
      },
      "source": [
        "# **Cross-Validation Techniques**\n",
        "\n",
        "[Cross-Validation: Evaluating Estimator Performance](https://scikit-learn.org/stable/modules/cross_validation.html#cross-validation)\n",
        "\n",
        "[sklearn.model_selection: Model Selection](https://scikit-learn.org/stable/modules/classes.html#module-sklearn.model_selection)\n",
        "\n",
        "It is a resampling procedure used to evaluate machine learning models and access how the model will perform for an independent test dataset.\n",
        "\n",
        "**Why Cross Validation is Important?**\n",
        "\n",
        "We often randomly split the dataset into train data and test data to develop a machine learning model. The training data is used to train the ML model, and the same model is tested on independent testing data to evaluate the performance of the model.\n",
        "\n",
        "With the change in the random state of the split, the accuracy of the model also changes, so we are not able to achieve a fixed accuracy for the model. The testing data should be kept independent of the training data so that no data leakage occurs. During the development of an ML model using the training data, the model performance needs to be evaluated. Here’s the importance of cross-validation data comes into the picture.\n",
        "\n",
        "**Data needs to split into:**\n",
        "\n",
        "*   **Training Data:** Used for model development.\n",
        "*   **Validation Data:** Used for validating the performance of the same model.\n",
        "\n",
        "![CV.png](data:image/png;base64,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)\n",
        "\n",
        "In simple terms, cross-validation allows utilizing the data even better."
      ]
    },
    {
      "cell_type": "code",
      "metadata": {
        "id": "VwWlOe_LT4jL"
      },
      "source": [
        "# Import Library.\n",
        "import pandas as pd\n",
        "import numpy as np"
      ],
      "execution_count": 21,
      "outputs": []
    },
    {
      "cell_type": "code",
      "metadata": {
        "colab": {
          "base_uri": "https://localhost:8080/",
          "height": 202
        },
        "id": "vgSP1FwqVSS4",
        "outputId": "de5fcc32-12c8-4e32-e25b-04b2fe85659c"
      },
      "source": [
        "data = pd.read_csv('diabetes.csv')  # Load Dataset.\n",
        "data.head()"
      ],
      "execution_count": 22,
      "outputs": [
        {
          "output_type": "execute_result",
          "data": {
            "text/html": [
              "<div>\n",
              "<style scoped>\n",
              "    .dataframe tbody tr th:only-of-type {\n",
              "        vertical-align: middle;\n",
              "    }\n",
              "\n",
              "    .dataframe tbody tr th {\n",
              "        vertical-align: top;\n",
              "    }\n",
              "\n",
              "    .dataframe thead th {\n",
              "        text-align: right;\n",
              "    }\n",
              "</style>\n",
              "<table border=\"1\" class=\"dataframe\">\n",
              "  <thead>\n",
              "    <tr style=\"text-align: right;\">\n",
              "      <th></th>\n",
              "      <th>Pregnancies</th>\n",
              "      <th>Glucose</th>\n",
              "      <th>BloodPressure</th>\n",
              "      <th>SkinThickness</th>\n",
              "      <th>Insulin</th>\n",
              "      <th>BMI</th>\n",
              "      <th>DiabetesPedigreeFunction</th>\n",
              "      <th>Age</th>\n",
              "      <th>Outcome</th>\n",
              "    </tr>\n",
              "  </thead>\n",
              "  <tbody>\n",
              "    <tr>\n",
              "      <th>0</th>\n",
              "      <td>6</td>\n",
              "      <td>148</td>\n",
              "      <td>72</td>\n",
              "      <td>35</td>\n",
              "      <td>0</td>\n",
              "      <td>33.6</td>\n",
              "      <td>0.627</td>\n",
              "      <td>50</td>\n",
              "      <td>1</td>\n",
              "    </tr>\n",
              "    <tr>\n",
              "      <th>1</th>\n",
              "      <td>1</td>\n",
              "      <td>85</td>\n",
              "      <td>66</td>\n",
              "      <td>29</td>\n",
              "      <td>0</td>\n",
              "      <td>26.6</td>\n",
              "      <td>0.351</td>\n",
              "      <td>31</td>\n",
              "      <td>0</td>\n",
              "    </tr>\n",
              "    <tr>\n",
              "      <th>2</th>\n",
              "      <td>8</td>\n",
              "      <td>183</td>\n",
              "      <td>64</td>\n",
              "      <td>0</td>\n",
              "      <td>0</td>\n",
              "      <td>23.3</td>\n",
              "      <td>0.672</td>\n",
              "      <td>32</td>\n",
              "      <td>1</td>\n",
              "    </tr>\n",
              "    <tr>\n",
              "      <th>3</th>\n",
              "      <td>1</td>\n",
              "      <td>89</td>\n",
              "      <td>66</td>\n",
              "      <td>23</td>\n",
              "      <td>94</td>\n",
              "      <td>28.1</td>\n",
              "      <td>0.167</td>\n",
              "      <td>21</td>\n",
              "      <td>0</td>\n",
              "    </tr>\n",
              "    <tr>\n",
              "      <th>4</th>\n",
              "      <td>0</td>\n",
              "      <td>137</td>\n",
              "      <td>40</td>\n",
              "      <td>35</td>\n",
              "      <td>168</td>\n",
              "      <td>43.1</td>\n",
              "      <td>2.288</td>\n",
              "      <td>33</td>\n",
              "      <td>1</td>\n",
              "    </tr>\n",
              "  </tbody>\n",
              "</table>\n",
              "</div>"
            ],
            "text/plain": [
              "   Pregnancies  Glucose  BloodPressure  ...  DiabetesPedigreeFunction  Age  Outcome\n",
              "0            6      148             72  ...                     0.627   50        1\n",
              "1            1       85             66  ...                     0.351   31        0\n",
              "2            8      183             64  ...                     0.672   32        1\n",
              "3            1       89             66  ...                     0.167   21        0\n",
              "4            0      137             40  ...                     2.288   33        1\n",
              "\n",
              "[5 rows x 9 columns]"
            ]
          },
          "metadata": {
            "tags": []
          },
          "execution_count": 22
        }
      ]
    },
    {
      "cell_type": "code",
      "metadata": {
        "colab": {
          "base_uri": "https://localhost:8080/"
        },
        "id": "nJOA1JOMV2Id",
        "outputId": "31fd92fd-8f60-45f9-bc1e-37f9fa7b12bd"
      },
      "source": [
        "data.info() # Dataset Summary."
      ],
      "execution_count": 23,
      "outputs": [
        {
          "output_type": "stream",
          "text": [
            "<class 'pandas.core.frame.DataFrame'>\n",
            "RangeIndex: 768 entries, 0 to 767\n",
            "Data columns (total 9 columns):\n",
            " #   Column                    Non-Null Count  Dtype  \n",
            "---  ------                    --------------  -----  \n",
            " 0   Pregnancies               768 non-null    int64  \n",
            " 1   Glucose                   768 non-null    int64  \n",
            " 2   BloodPressure             768 non-null    int64  \n",
            " 3   SkinThickness             768 non-null    int64  \n",
            " 4   Insulin                   768 non-null    int64  \n",
            " 5   BMI                       768 non-null    float64\n",
            " 6   DiabetesPedigreeFunction  768 non-null    float64\n",
            " 7   Age                       768 non-null    int64  \n",
            " 8   Outcome                   768 non-null    int64  \n",
            "dtypes: float64(2), int64(7)\n",
            "memory usage: 54.1 KB\n"
          ],
          "name": "stdout"
        }
      ]
    },
    {
      "cell_type": "code",
      "metadata": {
        "id": "R5zIq_h6V20V"
      },
      "source": [
        "# Split the dataset into features and target value.\n",
        "X = data.iloc[:, :-1].values\n",
        "y = data.iloc[:, -1].values\n",
        "\n",
        "# Feature Scaling.\n",
        "from sklearn.preprocessing import StandardScaler\n",
        "sc = StandardScaler()\n",
        "X = sc.fit_transform(X)\n",
        "\n",
        "# Split the dataset into training and test set.\n",
        "from sklearn.model_selection import train_test_split\n",
        "X_train, X_test, y_train, y_test = train_test_split(X, y, test_size = 0.2, random_state = 0)"
      ],
      "execution_count": 24,
      "outputs": []
    },
    {
      "cell_type": "markdown",
      "metadata": {
        "id": "-cc-sFvDdiSr"
      },
      "source": [
        "# **HoldOut Validation Approach - Train and Test Split.**\n",
        "\n",
        "The holdout technique is an exhaustive cross-validation method that randomly splits the dataset into train and test data depending on data analysis.\n",
        "\n",
        "![Holdout.png](data:image/png;base64,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)\n",
        "\n",
        "In the case of holdout cross-validation, the dataset is randomly split into training and validation data. Generally, the split of training data is more than test data. The training data is used to induce the model, and the validation data evaluates the performance of the model. The more data is used to train the model, the better the model is. For the holdout cross-validation method, a good amount of data is isolated from training.\n",
        "\n",
        "*   Holdout Cross-Validation is not suitable for an imbalanced dataset.\n",
        "*   A lot of data is isolated from training the model."
      ]
    },
    {
      "cell_type": "code",
      "metadata": {
        "colab": {
          "base_uri": "https://localhost:8080/"
        },
        "id": "hcj6I6m5WjL1",
        "outputId": "7bf32c09-fe9b-4fc3-ce9e-4d587374ede8"
      },
      "source": [
        "# Decision Tree Classifier.\n",
        "from sklearn.tree import DecisionTreeClassifier\n",
        "model = DecisionTreeClassifier().fit(X_train, y_train)\n",
        "result = model.score(X_test, y_test)\n",
        "print(result)"
      ],
      "execution_count": 25,
      "outputs": [
        {
          "output_type": "stream",
          "text": [
            "0.7662337662337663\n"
          ],
          "name": "stdout"
        }
      ]
    },
    {
      "cell_type": "markdown",
      "metadata": {
        "id": "PTI9iUHLXp5v"
      },
      "source": [
        "# **K-Fold Cross Validation**\n",
        "\n",
        "[sklearn.model_selection.KFold](https://scikit-learn.org/stable/modules/generated/sklearn.model_selection.KFold.html#sklearn.model_selection.KFold)\n",
        "\n",
        "In $K$-fold cross-validation, the original dataset is equally partitioned into $K$ subparts or folds. Out of the $K$-folds or groups, for each iteration, one group is selected as validation data, and the remaining $(K-1)$ groups are selected as training data.\n",
        "\n",
        "![Kfold.gif](data:image/gif;base64,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)\n",
        "\n",
        "The process is repeated for $K$ times until each group is treated as validation and remaining as the training data.\n",
        "\n",
        "![KFOLD.png](data:image/png;base64,iVBORw0KGgoAAAANSUhEUgAAAX4AAADwCAIAAACIdZi3AAAD7ElEQVR42uzcwZGiQBjHUdgyATnTZoKBSADGZAAYiGRi9xlD6K1arCkjWPCb9059/YPzq2IOfai1Nv/kUlLfN3EZaKCB+xn4pwH476QH2MAhl7KeTimFXztNd68cNjSch3d6Pr8t6y3y5vbadN0x8MBleRlo4M4H+l8PsCXpAaQHkB4A6QGkB0B6AOkBkB5AegCkB5AeQHoApAeQHgDpAaQHQHoA6QGQHkB6AOkBkB5AegCkB5AeAOkBpAdAegDpAaQHQHqAgNpnzuvplFL4tT9jgY3TU2tdT7mU1PeBpxpooIH7GeiDC9iA9ADSA0gPgPQA0gMgPYD0AEgPID0A0gNIDyA9ANIDhHLIpayn+THHnjqOl/Cvc5ruftPs2XAe3un5vB+k646xZ9db5HXtNfgbXJaXgd8+0H09wJakB5AeQHoApAeQHgDpAaQHQHoA6QGQHkB6AOkBkB5AegCkB5AeAOkBpAdAegDpAaQHQHoA6QGQHkB6AKQHkB4A6QGkB5AeAOkBAmqfOf+SqaeUwm/8PW+Tr09PrXU95VJS3weeaqCBBu5noA8uYAPSA0gPID0A0gNID4D0ANIDID2A9ABIDyA9gPQASA8QyiGXsp7mx+xxfLVxvITfOE13L/qrDefhnZ7P+0G67hh487K8Yg9smqbeIq9rr36iXz/QfT3AlqQHkB5AegCkB5AeAOkBpAdAegDpAZAeQHoA6QGQHkB6AKQHkB4A6QGkB0B6AOkBpAdAegDpAZAeQHoApAeQHgDpAaQHkB4A6QECap85ewoxnFIKv9HPNU56aq3rKZeS+j7wVAMNNHA/A31wARuQHkB6AOkBkB5AegCkB5AeAOkBpAdAegDpAaQHQHqAUA65lPU0P2aPgz0bx0v4jdN0jz1wOA/v9HzeD9J1x8Cbl+Vl4Lert8jr2mv8v0H39QBbkh5AegDpAZAeQHoApAeQHgDpAaQHQHoA6QGkB0B6AOkBkB5AegCkB5AeAOkBpAeQHgDpAaQHQHoA6QGQHkB6AKQHkB5AegCkBwiofebsKfAVTimF3/h7/h7bWut6yqWkvg881UADDdzPQB9cwAakB5AeQHoApAeQHgDpAaQHQHoA6QGQHkB6AOkBkB4glEMuZT3Nj9njgA2N4yX8xp8LiQ6f94N03THw5mV5GWjgztVb5HXttXFfD7Al6QGkB5AeAOkBpAdAegDpAZAeQHoApAeQHkB6AKQHkB4A6QGkB0B6AOkBkB5AegDpAZAeQHoApAeQHgDpAaQHQHoA6QGkB0B6gIDaZ86eAuzBKaXwG3+C09Za11MuJfV94M0GGmjgfgb64AI28DcAAP//rdgCr7IB3+IAAAAASUVORK5CYII=)\n",
        "\n",
        "The final accuracy of the model is computed by taking the mean accuracy of the $K$-models validation data. That is, $acc_{CV} = \\sum_{i=1}^{K}\\frac{acc_{i}}{K}$\n",
        "\n",
        "\n",
        "\n",
        "*   The model has low bias and low time complexity.\n",
        "*   The entire dataset is utilized for both training and validation.\n",
        "*   It is not suitable for an imbalanced dataset.\n"
      ]
    },
    {
      "cell_type": "code",
      "metadata": {
        "colab": {
          "base_uri": "https://localhost:8080/"
        },
        "id": "k21_JGXkXuas",
        "outputId": "d92a835d-7a72-4fd0-86ac-a1ad7e7c6c90"
      },
      "source": [
        "from sklearn.model_selection import KFold\n",
        "from sklearn.model_selection import cross_val_score\n",
        "\n",
        "model = DecisionTreeClassifier()\n",
        "kfold_val = KFold(10)\n",
        "results = cross_val_score(model, X_train, y_train, cv = kfold_val)\n",
        "print(results)\n",
        "print(np.mean(results))"
      ],
      "execution_count": 26,
      "outputs": [
        {
          "output_type": "stream",
          "text": [
            "[0.74193548 0.58064516 0.59677419 0.79032258 0.6557377  0.6557377\n",
            " 0.68852459 0.67213115 0.6557377  0.75409836]\n",
            "0.6791644632469593\n"
          ],
          "name": "stdout"
        }
      ]
    },
    {
      "cell_type": "markdown",
      "metadata": {
        "id": "PqO1UOjIZpnp"
      },
      "source": [
        "# **Stratified K-fold Cross Validation**\n",
        "\n",
        "[sklearn.model_selection.StratifiedKFold](https://scikit-learn.org/stable/modules/generated/sklearn.model_selection.StratifiedKFold.html#sklearn.model_selection.StratifiedKFold)\n",
        "\n",
        "For all the cross-validation techniques discussed above, they may not work well with an imbalanced dataset. Stratified $K$-fold cross-validation solved the problem of an imbalanced dataset.\n",
        "\n",
        "In Stratified $K$-fold cross-validation, the dataset is partitioned into $K$ groups or folds such that the validation data has an equal number of instances of the target class label. This ensures that one particular class is not over-present in the validation or train data especially when the dataset is imbalanced.\n",
        "\n",
        "![SKfold.png](data:image/png;base64,iVBORw0KGgoAAAANSUhEUgAAASkAAADwCAIAAADTvQWGAAAFh0lEQVR42uzdsW7idhzAcVx5MRJDWDz0CDu9V/ANlZB4hjAx5QXat+jCAzBFZGFk7RQWpkq8AIPtDl7I5g1d1ebkQ1Vb1dyF5H/5fCZUyeqPv/097DvZjj9+/Nj5S1GWg3fvOoEwrWlDn/a7DvAStAcvI8qL4unT9WAQ1ujL5b39R1h+/u3H5nN8eq5c13UQXyC560a3nX7/KpQVPxweTWvav4n9UQQX9vsv6Ve43qvrerfb5XnedsPj8bjdbquqsid4m760vf1+P5vNFovFGdGOx+P1et38IwdoD9AeaA/QHmgP0B5oD9AeaA/QHmgPtAdoD7QHaA+0B2gPtAdoD7QHaA+0B9oDtAfaA7QH35wvfRfKcDicz+dpmrbdMEmS1Wo1Go2iKLIb0F5rvV4vy7Jz/sdxPJlM7AC0B1zI9z9Vf7ZXlGXzn7rdbkBf4If37+1FAvPr549R8wquoixP30H7ypnWtKFP6+854WVoD7QH2gO0B9oDtAfaA7QH2gO0B9oDtAfag7fo8/17m4dNQHNPpzdhLfRyee9oo9PpZB8+PechPr33qd+/Cug71HUdxJzJXTe6DWltD4dH0z7ftO7fA9d7l/2p3O12eZ633fB4PG6326qqHDFo7xz7/X42my0WizOiHY/H6/W6ecQGaA+0B2gPtAdoD7QH2gO0B9oDtAfaA7QH2gO0B9oDtAfaA7QH2gPtAdoD7QHaA+0B2gPtAf9D/Ka+7XA4nM/naZq23TBJktVqNRqNoihy0KC91nq9XpZl5yxTHE8mE4cLzjkheFFeFCHOfT0YhDVwoOvMM7bXvNSqKMvTd9C+cqY1bejTOucE13ugPUB7oD1Ae6A9QHugPUB7oD1Ae6A90B5wKXFRlk+fNg8by/FMptObsAZeLu/ttWeSffj05IT49N6nfv8qlC9wODwGNG2n06nrOog5k7tudOtIeMZp3b8Hrvf495/K3W6X53nbDY/H43a7rarKGmqPc+z3+9lstlgszoh2PB6v1+vmgSBoD9AeaA+0B2gPtAdoD7QHaA+0B2gPtAdoD7QH2gO0B9oDtAfaA7QH2gO0B9oDtAfaA7QHLyS2BK/WcDicz+dpmrbdMEmS1Wo1Go2iKLKM2qO1Xq+XZdk5OzWOJ5OJBXTOCfyDKC8Kq/DcrgeDsAZ2VFyiveY1UUVZnr6D9pUzrWlDn9Y5J7jeA+0B2gPtAdoD7QHaA+0B2gPtAdoD7YH2gEuJi7J8+rR52FgOOp3OdHoT1sDL5X1A02YfPj2LID6996nfvwrlCxwOj6Z9PnVdBzFncteNbgM7bt2/B673+CbUdb3b7fI8b7vh8XjcbrdVVWkPzrHf72ez2WKxOCPa8Xi8Xq+bx5doD9AeaA/QHmgP0B5oD9AeaA/QHmgPtAdoD7QHaA+0B2gPtAdoD7QHaA+0B9oDtAfaA7QH35DYEvBVDIfD+XyepmnbDZMkWa1Wo9EoiiLtQWu9Xi/LsnMOwTieTCbOOYELifKisAqcuh4Mwho40GM4al68VJTl6TtoXznTmjb0aZ1zgus90B6gPdAeoD3QHqA90B6gPdAeoD3QHmgPuJS4KMunT5uHjeUgONPpTVgDN3cbxqf3PvX7V6F8gcPh0bSmfVLXdRBzJnfd6Lbj/j1wvQcv8VO52+3yPG+74fF43G63VVVpD86x3+9ns9lisTgj2vF4vF6vm4etaA+ccwLaA+0B2gPtgfYA7YH2AO2B9gDtgfYA7YH2AO2B9kB7lgC0B9oDtAfaA7QH2gO0B9oD/lNsCXiDhsPhfD5P07TthkmSrFar0WgURZH2oLVer5dl2TnBxPFkMnHOCQGLmrdgQoiuB4OwBm6Ki5pXGRVlefoO2lfOtKYNfVrnnPAy/ggAAP///fXFNc2V5ikAAAAASUVORK5CYII=)\n",
        "\n",
        "In Stratified $K$-fold cross-validation, each fold has equal instances of the target class. The final score is computed by taking the mean of scores of each fold.\n",
        "\n",
        "*   Works well for an imbalanced dataset.\n",
        "\n",
        "\n"
      ]
    },
    {
      "cell_type": "code",
      "metadata": {
        "colab": {
          "base_uri": "https://localhost:8080/"
        },
        "id": "8NARHk1QZuXd",
        "outputId": "591af019-fa4c-4476-e827-fabd296b692d"
      },
      "source": [
        "from sklearn.model_selection import StratifiedKFold\n",
        "from sklearn.model_selection import cross_val_score\n",
        "\n",
        "model = DecisionTreeClassifier()\n",
        "skfold = StratifiedKFold(n_splits = 10)\n",
        "results = cross_val_score(model, X_train, y_train, cv = skfold)\n",
        "print(results)\n",
        "print(np.mean(results))"
      ],
      "execution_count": 27,
      "outputs": [
        {
          "output_type": "stream",
          "text": [
            "[0.75806452 0.64516129 0.62903226 0.72580645 0.70491803 0.73770492\n",
            " 0.68852459 0.73770492 0.7704918  0.72131148]\n",
            "0.711872025383395\n"
          ],
          "name": "stdout"
        }
      ]
    },
    {
      "cell_type": "markdown",
      "metadata": {
        "id": "amtudKs-mue7"
      },
      "source": [
        "# **Leave-P-Out Cross Validation (LpOCV)**\n",
        "\n",
        "[sklearn.model_selection.LeavePOut](https://scikit-learn.org/stable/modules/generated/sklearn.model_selection.LeavePOut.html)\n",
        "\n",
        "Leave-P-Out cross-validation (LpOCV) is an exhaustive cross-validation technique, that involves using $p$-observation as validation data, and the remaining data is used to train the model. This is repeated in all ways to cut the original sample on a validation set of $p$ observations and a training set."
      ]
    },
    {
      "cell_type": "code",
      "metadata": {
        "colab": {
          "base_uri": "https://localhost:8080/"
        },
        "id": "a_MQRr9rmuy4",
        "outputId": "8c589a0c-380c-4fa1-b953-8d643ff5f1b3"
      },
      "source": [
        "from sklearn.model_selection import LeavePOut\n",
        "from sklearn.model_selection import cross_val_score\n",
        "\n",
        "model = DecisionTreeClassifier()\n",
        "lpoCV = LeavePOut(2)\n",
        "results = cross_val_score(model, X_train, y_train, cv = lpoCV)\n",
        "print(results)\n",
        "print(np.mean(results))"
      ],
      "execution_count": 28,
      "outputs": [
        {
          "output_type": "stream",
          "text": [
            "[1.  0.5 1.  ... 1.  1.  1. ]\n",
            "0.6977007402054296\n"
          ],
          "name": "stdout"
        }
      ]
    },
    {
      "cell_type": "markdown",
      "metadata": {
        "id": "WReR5GS8auL1"
      },
      "source": [
        "# **Leave-One-Out Cross Validation (LOOCV)**\n",
        "\n",
        "[sklearn.model_selection.LeaveOneOut](https://scikit-learn.org/stable/modules/generated/sklearn.model_selection.LeaveOneOut.html#sklearn.model_selection.LeaveOneOut)\n",
        "\n",
        "Leave-One-Out cross-validation (LOOCV) is an exhaustive cross-validation technique. It is a category of LpOCV with the case of $p=1$.\n",
        "\n",
        "![LOOCV.gif](data:image/gif;base64,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)\n",
        "\n",
        "For a dataset having $n$ rows, the $1^{st}$ row is selected for validation, and the rest $(n-1)$ rows are used to train the model. For the next iteration, the $2^{nd}$ row is selected for validation and the rest to train the model. Similarly, the process is repeated until $n$ steps or the desired number of operations.\n",
        "\n",
        "Both the above two cross-validation techniques (i.e. LpOCV and LOOCV) are the types of exhaustive cross-validation. Exhaustive cross-validation methods are cross-validation methods that learn and test in all possible ways.\n",
        "\n",
        "*   Simple, easy to understand, and implement.\n",
        "*   The model may lead to a low bias.\n",
        "*   The computation time required is high."
      ]
    },
    {
      "cell_type": "code",
      "metadata": {
        "colab": {
          "base_uri": "https://localhost:8080/"
        },
        "id": "meXYXG38azbk",
        "outputId": "106b1ebe-c673-4fc5-a70f-6bf95da3e886"
      },
      "source": [
        "from sklearn.model_selection import LeaveOneOut\n",
        "from sklearn.model_selection import cross_val_score\n",
        "\n",
        "model = DecisionTreeClassifier()\n",
        "looCV = LeaveOneOut()\n",
        "results = cross_val_score(model, X_train, y_train, cv = looCV)\n",
        "print(results)\n",
        "print(np.mean(results))"
      ],
      "execution_count": 29,
      "outputs": [
        {
          "output_type": "stream",
          "text": [
            "[1. 1. 0. 1. 1. 1. 1. 0. 1. 1. 0. 1. 0. 1. 0. 1. 1. 1. 0. 0. 0. 1. 1. 1.\n",
            " 1. 1. 0. 1. 1. 1. 0. 1. 1. 1. 0. 1. 1. 0. 1. 1. 1. 0. 1. 0. 1. 1. 1. 1.\n",
            " 1. 0. 1. 0. 1. 1. 0. 1. 0. 1. 1. 1. 1. 1. 1. 1. 1. 1. 0. 1. 1. 0. 0. 1.\n",
            " 0. 0. 1. 1. 1. 0. 1. 0. 1. 0. 1. 1. 1. 1. 1. 0. 1. 0. 1. 1. 1. 1. 0. 1.\n",
            " 1. 0. 1. 0. 1. 0. 1. 0. 1. 0. 1. 1. 0. 1. 0. 1. 0. 0. 0. 0. 1. 1. 1. 1.\n",
            " 0. 0. 1. 0. 1. 1. 0. 1. 1. 1. 0. 1. 1. 1. 1. 1. 1. 0. 1. 0. 1. 1. 1. 1.\n",
            " 1. 1. 1. 1. 1. 1. 1. 1. 1. 0. 0. 1. 1. 1. 0. 1. 1. 1. 1. 1. 0. 1. 1. 1.\n",
            " 1. 0. 1. 0. 1. 1. 1. 0. 1. 1. 1. 1. 1. 1. 1. 1. 1. 1. 0. 0. 1. 0. 1. 1.\n",
            " 0. 1. 0. 0. 0. 1. 0. 0. 1. 1. 0. 1. 1. 0. 1. 0. 1. 0. 0. 1. 1. 0. 1. 1.\n",
            " 0. 1. 1. 1. 1. 1. 0. 1. 1. 1. 1. 1. 1. 1. 0. 1. 1. 1. 1. 1. 1. 0. 1. 1.\n",
            " 1. 1. 1. 1. 0. 1. 0. 1. 1. 1. 1. 1. 1. 0. 0. 1. 1. 1. 0. 1. 1. 1. 0. 0.\n",
            " 1. 1. 0. 1. 1. 1. 1. 0. 1. 1. 1. 1. 1. 1. 1. 1. 1. 1. 0. 1. 1. 1. 0. 0.\n",
            " 1. 1. 1. 0. 1. 1. 0. 0. 1. 1. 1. 1. 1. 1. 1. 0. 1. 1. 0. 0. 1. 1. 1. 0.\n",
            " 1. 1. 1. 1. 0. 1. 1. 1. 1. 0. 0. 1. 1. 1. 0. 1. 1. 1. 1. 1. 1. 1. 1. 1.\n",
            " 1. 0. 0. 0. 0. 1. 0. 1. 1. 1. 1. 1. 0. 1. 0. 1. 0. 1. 0. 0. 0. 0. 1. 0.\n",
            " 0. 1. 1. 1. 1. 1. 1. 1. 1. 0. 0. 1. 1. 1. 1. 1. 1. 1. 1. 1. 1. 1. 0. 0.\n",
            " 1. 1. 1. 0. 1. 1. 0. 1. 1. 1. 0. 0. 1. 1. 1. 1. 1. 0. 0. 1. 1. 1. 0. 0.\n",
            " 1. 1. 1. 1. 1. 0. 0. 0. 1. 0. 0. 1. 1. 1. 0. 0. 1. 1. 1. 1. 1. 1. 0. 1.\n",
            " 0. 1. 1. 0. 0. 1. 1. 1. 0. 1. 1. 1. 1. 0. 0. 0. 0. 1. 0. 1. 1. 1. 1. 0.\n",
            " 1. 1. 1. 1. 1. 1. 1. 1. 0. 1. 1. 1. 1. 1. 0. 0. 0. 0. 1. 1. 1. 0. 0. 1.\n",
            " 1. 0. 1. 1. 0. 1. 1. 1. 1. 1. 1. 1. 1. 1. 1. 0. 1. 0. 1. 1. 1. 1. 1. 1.\n",
            " 1. 1. 1. 1. 1. 0. 0. 1. 1. 1. 1. 1. 1. 1. 0. 0. 0. 1. 0. 0. 1. 0. 1. 1.\n",
            " 1. 0. 1. 1. 0. 1. 1. 0. 1. 1. 1. 1. 1. 1. 1. 1. 1. 1. 1. 1. 1. 0. 0. 0.\n",
            " 1. 1. 1. 1. 1. 1. 0. 1. 1. 1. 1. 1. 0. 1. 1. 1. 0. 1. 1. 0. 1. 1. 0. 1.\n",
            " 1. 1. 1. 1. 1. 0. 0. 1. 0. 1. 0. 1. 0. 1. 1. 0. 1. 1. 1. 0. 1. 1. 1. 1.\n",
            " 1. 0. 1. 1. 1. 1. 0. 1. 0. 1. 1. 1. 1. 1.]\n",
            "0.7068403908794788\n"
          ],
          "name": "stdout"
        }
      ]
    }
  ]
}